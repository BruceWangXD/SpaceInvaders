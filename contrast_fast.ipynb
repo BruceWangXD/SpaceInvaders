{
 "cells": [
  {
   "cell_type": "code",
   "execution_count": 2,
   "metadata": {},
   "outputs": [],
   "source": [
    "from Classifier.load_data import read_arduino, process_data, read_arduinbro, load_training_data\n",
    "from Classifier.classifier import classify_event, zeroes_classifier, one_pronged_smoothing_classifier, streaming_classifier\n",
    "\n",
    "from copy import deepcopy\n",
    "# from Levenshtein import distance as levenshtein_distance\n",
    "from scipy import signal\n",
    "import serial\n",
    "import numpy as np\n",
    "import matplotlib.pyplot as plt\n",
    "import time\n",
    "import pandas as pd\n",
    "from scipy.io import wavfile"
   ]
  },
  {
   "cell_type": "code",
   "execution_count": 95,
   "metadata": {},
   "outputs": [
    {
     "name": "stdout",
     "output_type": "stream",
     "text": [
      "(3, 3)\n",
      "(3,)\n"
     ]
    }
   ],
   "source": [
    "b = np.array([[1,2,3], [4,5,6], [7,8,9]])\n",
    "print(b.shape)\n",
    "bt = np.apply_along_axis(np.mean, -1, b)\n",
    "print(bt.shape)\n",
    "\n"
   ]
  },
  {
   "cell_type": "code",
   "execution_count": 222,
   "metadata": {},
   "outputs": [],
   "source": [
    "\"\"\"\n",
    "from numba import njit\n",
    "\n",
    "@njit\n",
    "\"\"\"\n",
    "def get_event_regions(wav_array, samprate, labels_dat, before_buffer = 0.7,\n",
    "                       after_buffer = 1):\n",
    "    \n",
    "    time_seq = np.linspace(1, len(wav_array), len(wav_array))/samprate\n",
    "\n",
    "    left_events_bool = np.array([False]*len(time_seq))\n",
    "    for time in labels_dat.time[labels_dat.label == \"L\"]:\n",
    "        left_events_bool = ( (time_seq > time - before_buffer) & (time_seq < time+after_buffer) ) | left_events_bool\n",
    "\n",
    "    right_events_bool = np.array([False]*len(time_seq))\n",
    "    for time in labels_dat.time[labels_dat.label == \"R\"]:\n",
    "        right_events_bool = ( (time_seq > time - before_buffer) & (time_seq < time+after_buffer) ) | right_events_bool\n",
    "\n",
    "    event_bool = left_events_bool | right_events_bool\n",
    "    return event_bool\n",
    "\n",
    "#@njit\n",
    "\n",
    "\n",
    "def get_test_stats(wav_array, window_size, step, test_stat_fns):\n",
    "    test_stats = np.zeros((len(test_stat_fns), len(wav_array)))\n",
    "        \n",
    "    all_windows = sliding_window_view(wav_array, window_shape = window_size)\n",
    "\n",
    "    all_windows = all_windows[::step, :]\n",
    "    \n",
    "    for i, fn in enumerate(test_stat_fns):\n",
    "        testicles = np.apply_along_axis(fn, -1, all_windows)\n",
    "        for j, teste in enumerate(testicles):\n",
    "            if j == len(testicles)-1:\n",
    "                test_stats[i, (j*step)::]  = teste\n",
    "            else:\n",
    "                test_stats[i, (j*step):((j+1)*step)]  = teste\n",
    "    return test_stats\n",
    "        \n",
    "        \n",
    "\n",
    "def contrast_all_files(window_size, \n",
    "                       test_stat_fns,\n",
    "                       samprate,     \n",
    "                       waves,        \n",
    "                       labels,       \n",
    "                       contrast_fn,\n",
    "                       step=0.1):   \n",
    "    \n",
    "    step = int(step*samprate)\n",
    "    start = time.time()\n",
    "    \n",
    "    for i, key in enumerate(waves.keys()):\n",
    "        wav_array = waves[key]\n",
    "        labels_dat = labels[key]\n",
    "        \n",
    "        total_time = len(wav_array)/samprate\n",
    "        \n",
    "        if i == 0:\n",
    "            events_bool = get_event_regions(wav_array, samprate, labels_dat)\n",
    "        else:\n",
    "            events_bool = np.concatenate((events_bool, get_event_regions(wav_array, samprate, labels_dat)), axis = 0)\n",
    "        \n",
    "        if i == 0:\n",
    "            test_stats = get_test_stats(wav_array, window_size, step, test_stat_fns)\n",
    "            test_stats0 = test_stats\n",
    "        else:\n",
    "            test_stats0 = get_test_stats(wav_array, window_size, step, test_stat_fns)\n",
    "            test_stats = np.concatenate(\n",
    "                (test_stats, test_stats0),\n",
    "                axis=1)\n",
    "            \n",
    "\n",
    "         \n",
    "    event_test_stats = test_stats[:, events_bool]           \n",
    "    non_event_test_stats = test_stats[:, ~events_bool]\n",
    "    \n",
    "\n",
    "    if len(event_test_stats) > 0 and len(non_event_test_stats) > 0:\n",
    "        contrast_stat = contrast_fn(event_test_stats, non_event_test_stats)\n",
    "        print(contrast_stat)\n",
    "        end = time.time()\n",
    "        print(\"time taken: \", end - start)\n",
    "        return contrast_stat\n",
    "    else:\n",
    "        end = time.time()\n",
    "        print(\"time taken: \", end - start)\n",
    "        print(\"len 0!!!!\")"
   ]
  },
  {
   "cell_type": "code",
   "execution_count": 232,
   "metadata": {
    "tags": []
   },
   "outputs": [
    {
     "name": "stderr",
     "output_type": "stream",
     "text": [
      "/Users/billydodds/Documents/Uni/DATA3888/Aqua10/Classifier/load_data.py:68: ParserWarning: Falling back to the 'python' engine because the 'c' engine does not support regex separators (separators > 1 char and different from '\\s+' are interpreted as regex); you can avoid this warning by specifying engine='python'.\n",
      "  labels_dat = pd.read_csv(path+file, sep=\",\\t\", skiprows=1)\n"
     ]
    },
    {
     "name": "stdout",
     "output_type": "stream",
     "text": [
      "dict_keys(['left-right-middle-sandeep', 'left-right-middle-marina', 'left-middle-right-middle', 'left-middle', 'left-right-middle-marina3', 'left-middle-right-steph', 'left-right-middle-marina2', 'right-middle', 'left-middle-right-steph2', 'left-middle-right-middle#2']) dict_keys(['left-right-middle-sandeep', 'left-right-middle-marina', 'left-middle-right-middle', 'left-middle', 'left-right-middle-marina3', 'left-middle-right-steph', 'left-right-middle-marina2', 'right-middle', 'left-middle-right-steph2', 'left-middle-right-middle#2'])\n",
      "[0.         0.         0.         2.13550001 0.        ]\n",
      "time taken:  3.437351942062378\n",
      "[ 1.76391472  0.88651943  0.56668885  1.67452377 -0.68206919]\n",
      "time taken:  3.4785890579223633\n",
      "[ 2.42617771  0.71548449  0.67232747  1.85604145 -1.08960259]\n",
      "time taken:  3.525912046432495\n",
      "[ 2.67940161  0.65980411  0.65472973  1.86727031 -1.41118023]\n",
      "time taken:  3.657118320465088\n",
      "[ 2.38797247  0.58576747  0.52523105  1.52767121 -1.54809852]\n",
      "time taken:  3.812229871749878\n",
      "[ 1.82614188  0.44635803  0.3757829   1.11856428 -1.515917  ]\n",
      "time taken:  3.8695549964904785\n",
      "[ 1.16485438  0.29447096  0.23481278  0.71472596 -1.35158761]\n",
      "time taken:  3.9546890258789062\n",
      "[ 0.64301606  0.17279014  0.12986423  0.4123766  -1.09618464]\n",
      "time taken:  4.134857892990112\n",
      "[ 0.26489779  0.0916403   0.05801712  0.20251815 -0.81549368]\n",
      "time taken:  4.257788896560669\n",
      "[ 0.00277799  0.04709356  0.01095189  0.04919129 -0.5891922 ]\n",
      "time taken:  4.362962961196899\n"
     ]
    }
   ],
   "source": [
    "waves, labels, samprate = load_training_data(path = \"Datasets/Good Data - Sandeep no errors/\",\n",
    "                       scale_factor= 512/(2**13 - 1),\n",
    "                       blacklist = [\"blink\", \"different\", \"fast\", \"slow\", \"eyebrow\"])\n",
    "\"\"\"\n",
    "labels1 = np.array([])\n",
    "waves1 = []\n",
    "i = 0\n",
    "for key in waves.keys():\n",
    "    waves1.append(list(waves[key]))\n",
    "print(type(waves1))\n",
    "print(type(waves1[1]))\n",
    "print(type(waves1[1][1]))\n",
    "waves1 = np.ndarray(waves1, np.float64)\n",
    "print(waves1[1])\n",
    "print(len(waves1))\n",
    "print(len(waves1[5]))\n",
    "\"\"\"\n",
    "\n",
    "tfn_candidates = {\"Range\": lambda x: np.max(x) - np.min(x),\n",
    "             \"IQR\": lambda x: np.quantile(x, 0.75) - np.quantile(x, 0.25),\n",
    "             \"SD\": np.std,\n",
    "             \"Absolute Max\": lambda x: np.max(np.abs(x)),\n",
    "             \"Zero Crossings\": lambda x: np.sum(x[0:-1]*x[1::] <= 0)}\n",
    "\n",
    "\n",
    "def contrast(x, y): \n",
    "    pooled_sd = np.sqrt(np.var(x)/len(x) + np.var(y)/len(y))\n",
    "    return (np.mean(x, axis=1) - np.mean(y, axis=1))/pooled_sd\n",
    "\n",
    "\n",
    "contrasts = []\n",
    "for x in np.linspace(1, 20000, 10):\n",
    "    x = int(x)\n",
    "    print(x)\n",
    "    contrasts.append(\n",
    "        contrast_all_files(window_size = x, \n",
    "                           test_stat_fns = tfn_candidates.values(),\n",
    "                           samprate = samprate,\n",
    "                           waves = waves,\n",
    "                           labels = labels,\n",
    "                           step = 0.1,\n",
    "                           contrast_fn = contrast\n",
    "                           )\n",
    "    )\n"
   ]
  },
  {
   "cell_type": "code",
   "execution_count": 233,
   "metadata": {},
   "outputs": [
    {
     "data": {
      "text/plain": [
       "<matplotlib.legend.Legend at 0x13d141640>"
      ]
     },
     "execution_count": 233,
     "metadata": {},
     "output_type": "execute_result"
    },
    {
     "data": {
      "image/png": "[encoded data removed]",
      "text/plain": [
       "<Figure size 432x288 with 1 Axes>"
      ]
     },
     "metadata": {
      "needs_background": "light"
     },
     "output_type": "display_data"
    }
   ],
   "source": [
    "# plt.plot(contrasts[:, 0])\n",
    "\n",
    "contrasts = np.abs(np.array(contrasts))\n",
    "\n",
    "fig, ax = plt.subplots(1, 1)\n",
    "\n",
    "for i, teststat in enumerate(tfn_candidates.keys()):\n",
    "    ax.plot(contrasts[:, i], label = teststat)\n",
    "\n",
    "ax.legend()\n"
   ]
  },
  {
   "cell_type": "code",
   "execution_count": null,
   "metadata": {},
   "outputs": [],
   "source": []
  }
 ],
 "metadata": {
  "kernelspec": {
   "display_name": "Python 3",
   "language": "python",
   "name": "python3"
  },
  "language_info": {
   "codemirror_mode": {
    "name": "ipython",
    "version": 3
   },
   "file_extension": ".py",
   "mimetype": "text/x-python",
   "name": "python",
   "nbconvert_exporter": "python",
   "pygments_lexer": "ipython3",
   "version": "3.9.0"
  },
  "metadata": {
   "interpreter": {
    "hash": "7d845306f7225881f10ddea820c2625692dd8b44140339028ba513f9926a16c9"
   }
  }
 },
 "nbformat": 4,
 "nbformat_minor": 2
}
