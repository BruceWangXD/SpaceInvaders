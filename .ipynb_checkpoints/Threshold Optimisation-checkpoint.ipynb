{
 "cells": [
  {
   "cell_type": "code",
   "execution_count": 39,
   "id": "7e0b933d",
   "metadata": {},
   "outputs": [
    {
     "ename": "ModuleNotFoundError",
     "evalue": "No module named 'weighted_levenshtein'",
     "output_type": "error",
     "traceback": [
      "\u001b[0;31m---------------------------------------------------------------------------\u001b[0m",
      "\u001b[0;31mModuleNotFoundError\u001b[0m                       Traceback (most recent call last)",
      "\u001b[0;32m<ipython-input-39-4591113c3977>\u001b[0m in \u001b[0;36m<module>\u001b[0;34m\u001b[0m\n\u001b[1;32m      5\u001b[0m \u001b[0;32mimport\u001b[0m \u001b[0mwave\u001b[0m\u001b[0;34m,\u001b[0m \u001b[0mstruct\u001b[0m\u001b[0;34m\u001b[0m\u001b[0;34m\u001b[0m\u001b[0m\n\u001b[1;32m      6\u001b[0m \u001b[0;32mfrom\u001b[0m \u001b[0mcopy\u001b[0m \u001b[0;32mimport\u001b[0m \u001b[0mdeepcopy\u001b[0m\u001b[0;34m\u001b[0m\u001b[0;34m\u001b[0m\u001b[0m\n\u001b[0;32m----> 7\u001b[0;31m \u001b[0;32mfrom\u001b[0m \u001b[0mweighted_levenshtein\u001b[0m \u001b[0;32mimport\u001b[0m \u001b[0mlev\u001b[0m\u001b[0;34m,\u001b[0m \u001b[0mosa\u001b[0m\u001b[0;34m,\u001b[0m \u001b[0mdam_lev\u001b[0m\u001b[0;34m\u001b[0m\u001b[0;34m\u001b[0m\u001b[0m\n\u001b[0m\u001b[1;32m      8\u001b[0m \u001b[0;34m\u001b[0m\u001b[0m\n\u001b[1;32m      9\u001b[0m \u001b[0;34m\u001b[0m\u001b[0m\n",
      "\u001b[0;31mModuleNotFoundError\u001b[0m: No module named 'weighted_levenshtein'"
     ]
    }
   ],
   "source": [
    "import numpy as np\n",
    "import pandas as pd\n",
    "import matplotlib.pyplot as plt\n",
    "import time\n",
    "import wave, struct\n",
    "from copy import deepcopy\n",
    "from weighted_levenshtein import lev, osa, dam_lev\n",
    "\n",
    "\n",
    "from scipy.io import wavfile\n",
    "\n",
    "\n",
    "from Classifier.load_data import load_training_data\n",
    "\n",
    "from Classifier.plot_data import plot_labelled_wave, plot_predictions, plot_detection_errors\n",
    "\n",
    "from Classifier.classifier import streaming_classifier, catch22_knn_classifier\n",
    "\n"
   ]
  },
  {
   "cell_type": "code",
   "execution_count": 8,
   "id": "fea6cb6c",
   "metadata": {},
   "outputs": [
    {
     "name": "stdout",
     "output_type": "stream",
     "text": [
      "dict_keys(['left-middle-right-middle', 'left-middle', 'left-middle-right-steph', 'right-middle', 'left-middle-right-steph2', 'left-middle-right-middle#2']) dict_keys(['left-middle-right-middle', 'left-middle', 'left-middle-right-steph', 'right-middle', 'left-middle-right-steph2', 'left-middle-right-middle#2'])\n"
     ]
    }
   ],
   "source": [
    "\n",
    "waves, labels, samprate = load_training_data(path = \"/Users/billydodds/Documents/Uni/DATA3888/Aqua10/Datasets/Good Data - Sandeep no errors/\",\n",
    "                       scale_factor= 512/(2**13 - 1),\n",
    "                       blacklist = [\"blink\", \"different\", \"fast\", \"slow\", \"eyebrow\", \"left-right-middle-sandeep\", \"left-right-middle-marina\"])\n"
   ]
  },
  {
   "cell_type": "code",
   "execution_count": 27,
   "id": "85be7b7d",
   "metadata": {},
   "outputs": [
    {
     "data": {
      "text/plain": [
       "array([ 1. ,  1.2,  1.4,  1.6,  1.8,  2. ,  2.2,  2.4,  2.6,  2.8,  3. ,\n",
       "        3.2,  3.4,  3.6,  3.8,  4. ,  4.2,  4.4,  4.6,  4.8,  5. ,  5.2,\n",
       "        5.4,  5.6,  5.8,  6. ,  6.2,  6.4,  6.6,  6.8,  7. ,  7.2,  7.4,\n",
       "        7.6,  7.8,  8. ,  8.2,  8.4,  8.6,  8.8,  9. ,  9.2,  9.4,  9.6,\n",
       "        9.8, 10. ])"
      ]
     },
     "execution_count": 27,
     "metadata": {},
     "output_type": "execute_result"
    }
   ],
   "source": [
    "np.linspace(1, 10, 10 + 9*4)"
   ]
  },
  {
   "cell_type": "code",
   "execution_count": 28,
   "id": "2f9a6118",
   "metadata": {},
   "outputs": [
    {
     "name": "stdout",
     "output_type": "stream",
     "text": [
      "1.0 0.7899159663865546\n",
      "1.2 0.8264462809917356\n",
      "1.4 0.8728813559322034\n",
      "1.6 0.8888888888888888\n",
      "1.8 0.9004329004329005\n",
      "2.0 0.9244444444444444\n",
      "2.2 0.9285714285714286\n",
      "2.4000000000000004 0.9497716894977168\n",
      "2.6 0.9629629629629629\n",
      "2.8 0.9719626168224299\n",
      "3.0 0.9765258215962441\n",
      "3.2 0.9765258215962441\n",
      "3.4000000000000004 0.9765258215962441\n",
      "3.6 0.9719626168224299\n",
      "3.8000000000000003 0.9719626168224299\n",
      "4.0 0.9765258215962441\n",
      "4.2 0.9765258215962441\n",
      "4.4 0.9765258215962441\n",
      "4.6 0.9765258215962441\n",
      "4.800000000000001 0.9765258215962441\n",
      "5.0 0.9765258215962441\n",
      "5.2 0.9765258215962441\n",
      "5.4 0.976303317535545\n",
      "5.6000000000000005 0.976303317535545\n",
      "5.800000000000001 0.976303317535545\n",
      "6.0 0.9760765550239234\n",
      "6.2 0.9760765550239234\n",
      "6.4 0.9711538461538461\n",
      "6.6000000000000005 0.9711538461538461\n",
      "6.800000000000001 0.9611650485436893\n",
      "7.0 0.9504950495049505\n",
      "7.2 0.94\n",
      "7.4 0.934010152284264\n",
      "7.6000000000000005 0.90625\n",
      "7.800000000000001 0.900523560209424\n",
      "8.0 0.8709677419354839\n",
      "8.2 0.8571428571428571\n",
      "8.4 0.8314606741573034\n",
      "8.600000000000001 0.8181818181818182\n",
      "8.8 0.783625730994152\n",
      "9.0 0.7544910179640718\n",
      "9.200000000000001 0.7393939393939394\n",
      "9.4 0.6918238993710691\n",
      "9.6 0.6580645161290323\n",
      "9.8 0.6133333333333333\n",
      "10.0 0.5945945945945946\n"
     ]
    }
   ],
   "source": [
    "\n",
    "range_opt_window = 0.6432\n",
    "\n",
    "\n",
    "\n",
    "st_window = 10 # Seconds\n",
    "\n",
    "\n",
    "\n",
    "before_buffer = 0.7\n",
    "after_buffer = 1\n",
    "\n",
    "st_list = []\n",
    "f_score_list = []\n",
    "\n",
    "for st_scale in np.linspace(1, 10, 10 + 9*4):\n",
    "\n",
    "    fps = 0\n",
    "    fns = 0\n",
    "    tps = 0\n",
    "\n",
    "\n",
    "    i=0\n",
    "    for key in waves.keys():\n",
    "\n",
    "        predictions, predictions_timestamps, predictions_storage = streaming_classifier(\n",
    "            waves[key],\n",
    "            samprate,\n",
    "            window_size = 1.5, # time plotted in window [s]\n",
    "            N_loops_over_window = 15, # implicitly defines buffer to be 1/x of the window\n",
    "            total_time = None,  # max time\n",
    "            hyp_detection_buffer_end = 0.3, # seconds - how much time to shave off either end of the window in order to define the middle portion\n",
    "            hyp_detection_buffer_start = 1.5 - 0.3 - range_opt_window,\n",
    "            hyp_event_smart_threshold_window = st_window, \n",
    "            hyp_event_smart_threshold_factor = st_scale, \n",
    "            hyp_calibration_statistic_function = lambda x: np.std(x), # Function that calculates the calibration statistic\n",
    "            hyp_test_statistic_function = lambda x: np.max(x) - np.min(x), # Function that calculates the test statistic\n",
    "            hyp_event_history = 5,\n",
    "            hyp_consecutive_triggers = 3,\n",
    "            hyp_consecutive_reset = 1,\n",
    "            plot = False,\n",
    "            store_events = True, \n",
    "            verbose=False,\n",
    "            live = False\n",
    "        )\n",
    "\n",
    "        actual_times = [(time-before_buffer, time+after_buffer) for time in labels[key].time]\n",
    "        actual_leftovers = deepcopy(actual_times)\n",
    "        pred_leftovers = deepcopy(predictions_timestamps)\n",
    "        \n",
    "        tps += len(actual_times)\n",
    "\n",
    "\n",
    "        for act_times in actual_times:\n",
    "            if act_times[1] < st_window:\n",
    "                actual_leftovers.remove(act_times)\n",
    "                continue\n",
    "            for pred_times in predictions_timestamps:\n",
    "                if act_times[0] < pred_times[1] and act_times[1] > pred_times[0] and pred_times in pred_leftovers and act_times in actual_leftovers:\n",
    "                    actual_leftovers.remove(act_times)\n",
    "                    pred_leftovers.remove(pred_times)\n",
    "\n",
    "        tps -= len(actual_leftovers)\n",
    "    \n",
    "        fns += len(actual_leftovers)\n",
    "        fps += len(pred_leftovers)\n",
    "\n",
    "\n",
    "        i+=1\n",
    "        \n",
    "        \n",
    "    fscore = tps/(tps+0.5*(fns+fps))\n",
    "        \n",
    "    print(st_scale, fscore)\n",
    "    st_list.append(st_scale)\n",
    "    f_score_list.append(fscore)\n",
    "\n",
    "\n",
    "\n",
    "    \n",
    "    "
   ]
  },
  {
   "cell_type": "code",
   "execution_count": 38,
   "id": "be369b11",
   "metadata": {},
   "outputs": [
    {
     "data": {
      "text/plain": [
       "<matplotlib.legend.Legend at 0x14288a280>"
      ]
     },
     "execution_count": 38,
     "metadata": {},
     "output_type": "execute_result"
    },
    {
     "data": {
      "image/png": "[encoded data removed]",
      "text/plain": [
       "<Figure size 432x288 with 1 Axes>"
      ]
     },
     "metadata": {
      "needs_background": "light"
     },
     "output_type": "display_data"
    }
   ],
   "source": [
    "plt.plot(st_list, f_score_list)\n",
    "plt.title(\"F-Score vs. Threshold Factor\\n(Standard Deviation Calibration Stat)\")\n",
    "plt.vlines(5, 0, 1, \"r\", \"--\", label=\"Chosen Factor = 5\")\n",
    "plt.xlabel(\"Threshold Factor\")\n",
    "plt.ylabel(\"F-Score\")\n",
    "plt.legend()"
   ]
  },
  {
   "cell_type": "code",
   "execution_count": null,
   "id": "3556c1e2",
   "metadata": {},
   "outputs": [],
   "source": []
  }
 ],
 "metadata": {
  "kernelspec": {
   "display_name": "Python 3",
   "language": "python",
   "name": "python3"
  },
  "language_info": {
   "codemirror_mode": {
    "name": "ipython",
    "version": 3
   },
   "file_extension": ".py",
   "mimetype": "text/x-python",
   "name": "python",
   "nbconvert_exporter": "python",
   "pygments_lexer": "ipython3",
   "version": "3.9.0"
  }
 },
 "nbformat": 4,
 "nbformat_minor": 5
}
