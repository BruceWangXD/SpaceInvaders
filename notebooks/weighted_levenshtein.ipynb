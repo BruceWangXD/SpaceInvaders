{
 "cells": [
  {
   "cell_type": "code",
   "execution_count": 1,
   "metadata": {},
   "outputs": [],
   "source": [
    "import numpy as np\n",
    "import pandas as pd\n",
    "import matplotlib.pyplot as plt\n",
    "import time\n",
    "import wave, struct\n",
    "\n",
    "from scipy.io import wavfile\n",
    "\n",
    "from Classifier.load_data import load_training_data\n",
    "\n",
    "from Classifier.plot_data import plot_labelled_wave, plot_predictions, plot_detection_errors\n",
    "\n",
    "from Classifier.classifier import streaming_classifier\n",
    "\n",
    "from weighted_levenshtein import lev"
   ]
  },
  {
   "cell_type": "code",
   "execution_count": 3,
   "metadata": {},
   "outputs": [],
   "source": [
    "def my_lev_dist(string_1, string_2, L_cost = 5, R_cost = 5, under_score_cost = 1):\n",
    "    substitute_costs = np.ones((128, 128), dtype=np.float64)  \n",
    "    substitute_costs[ord('L'), ord('R')] = L_cost\n",
    "    substitute_costs[ord('R'), ord('L')] = R_cost\n",
    "    substitute_costs[ord('_'), ord('L')] = under_score_cost\n",
    "    substitute_costs[ord('_'), ord('R')] = under_score_cost\n",
    "    return lev(string_1, string_2, substitute_costs = substitute_costs)"
   ]
  },
  {
   "cell_type": "code",
   "execution_count": null,
   "metadata": {},
   "outputs": [],
   "source": []
  }
 ],
 "metadata": {
  "kernelspec": {
   "display_name": "Python 3",
   "language": "python",
   "name": "python3"
  },
  "language_info": {
   "codemirror_mode": {
    "name": "ipython",
    "version": 3
   },
   "file_extension": ".py",
   "mimetype": "text/x-python",
   "name": "python",
   "nbconvert_exporter": "python",
   "pygments_lexer": "ipython3",
   "version": "3.8.3"
  },
  "metadata": {
   "interpreter": {
    "hash": "c4dc433831b506e0d25481c84a652fa4d2aed8e252441e22b25d2076b86b7e5b"
   }
  }
 },
 "nbformat": 4,
 "nbformat_minor": 2
}
