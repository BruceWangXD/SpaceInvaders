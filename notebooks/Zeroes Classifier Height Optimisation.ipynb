{
 "cells": [
  {
   "cell_type": "code",
   "execution_count": 1,
   "metadata": {},
   "outputs": [],
   "source": [
    "import numpy as np\n",
    "import pandas as pd\n",
    "import matplotlib.pyplot as plt\n",
    "import time\n",
    "import wave, struct\n",
    "from copy import deepcopy\n",
    "from weighted_levenshtein import lev\n",
    "import time\n",
    "\n",
    "from scipy.io import wavfile\n",
    "\n",
    "\n",
    "from Classifier.load_data import load_training_data\n",
    "\n",
    "from Classifier.plot_data import plot_labelled_wave, plot_predictions, plot_detection_errors\n",
    "\n",
    "from Classifier.classifier import streaming_classifier, zeroes_classifier\n"
   ]
  },
  {
   "cell_type": "code",
   "execution_count": 2,
   "metadata": {},
   "outputs": [
    {
     "output_type": "stream",
     "name": "stdout",
     "text": [
      "dict_keys(['data0', 'data1', 'data2', 'data3', 'data4', 'data5']) dict_keys(['data0', 'data1', 'data2', 'data3', 'data4', 'data5'])\n",
      "c:\\Users\\darap\\Documents\\School\\University\\2021, Sem. 1\\DATA3888\\Aqua10\\Classifier\\load_data.py:72: ParserWarning: Falling back to the 'python' engine because the 'c' engine does not support regex separators (separators > 1 char and different from '\\s+' are interpreted as regex); you can avoid this warning by specifying engine='python'.\n",
      "  labels_dat = pd.read_csv(path+file, sep=\",\\t\", skiprows=1)\n"
     ]
    }
   ],
   "source": [
    "\n",
    "waves, labels, samprate = load_training_data(path = \"Datasets/\",\n",
    "                                             scale_factor= 1,\n",
    "                                             blacklist = [],\n",
    "                                             whitelist = [\"data\"])\n",
    "\n"
   ]
  },
  {
   "cell_type": "code",
   "execution_count": 5,
   "metadata": {
    "tags": []
   },
   "outputs": [
    {
     "output_type": "stream",
     "name": "stdout",
     "text": [
      "1\n",
      "2\n",
      "3\n",
      "4\n",
      "5\n",
      "6\n",
      "7\n",
      "8\n",
      "9\n",
      "10\n",
      "11\n",
      "12\n",
      "13\n",
      "14\n",
      "15\n",
      "16\n",
      "17\n",
      "18\n",
      "19\n",
      "20\n",
      "21\n",
      "22\n",
      "23\n",
      "24\n",
      "25\n",
      "26\n",
      "27\n",
      "28\n",
      "29\n",
      "30\n",
      "31\n",
      "32\n",
      "33\n",
      "34\n",
      "35\n",
      "36\n",
      "37\n",
      "38\n",
      "39\n",
      "40\n",
      "41\n",
      "42\n",
      "43\n",
      "44\n",
      "45\n",
      "46\n",
      "47\n",
      "48\n",
      "49\n",
      "50\n",
      "51\n",
      "52\n",
      "53\n",
      "54\n",
      "55\n",
      "56\n",
      "57\n",
      "58\n",
      "59\n",
      "60\n",
      "61\n",
      "62\n",
      "63\n",
      "64\n",
      "65\n",
      "66\n",
      "67\n",
      "68\n",
      "69\n",
      "70\n",
      "71\n",
      "72\n",
      "73\n",
      "74\n",
      "75\n",
      "76\n",
      "77\n",
      "78\n",
      "79\n",
      "80\n",
      "81\n",
      "82\n",
      "83\n",
      "84\n",
      "85\n",
      "86\n",
      "87\n",
      "88\n",
      "89\n",
      "90\n",
      "91\n",
      "92\n",
      "93\n",
      "94\n",
      "95\n",
      "96\n",
      "97\n",
      "98\n",
      "99\n",
      "done\n"
     ]
    }
   ],
   "source": [
    "# ASSUMES THAT HEIGHT_THRESHOLD AND CONSECUTIVE_SAMPLES_THRESHOLD ARE INDEPENDENT\n",
    "\n",
    "# Set parameters such that event detection window lands in the middle of the signal\n",
    "\n",
    "window_size = 0.652513\n",
    "\n",
    "\n",
    "det_window = 0.45\n",
    "\n",
    "\n",
    "hyp_detection_buffer_end = (window_size - det_window)/2\n",
    "\n",
    "hyp_detection_buffer_start = (window_size - det_window)/2\n",
    "\n",
    "N_loops_over_window = 9 #Change\n",
    "buffer_size = window_size / N_loops_over_window\n",
    "\n",
    "hyp_consecutive_triggers = int(np.ceil(det_window/buffer_size))\n",
    "#print(hyp_consecutive_triggers)\n",
    "\n",
    "\n",
    "\n",
    "\n",
    "# fig, ax = plt.subplots(len(waves), 1)\n",
    "# fig.set_size_inches(15, 3*len(waves))\n",
    "\n",
    "\n",
    "\n",
    "all_accuracies = {}\n",
    "\n",
    "#CONSEC OPTIMISATION\n",
    "for i in range(1, 100, 1):\n",
    "    current_accuracies = []\n",
    "    height_threshold = i\n",
    "    print(i)\n",
    "    for i, key in enumerate(waves):\n",
    "        predictions, predictions_timestamps, predictions_storage = streaming_classifier(\n",
    "            waves[key], # Either the array from file (or ser if live = True)\n",
    "            samprate,\n",
    "            classifier = zeroes_classifier, \n",
    "            using_zeroes_classifier = True,\n",
    "            zeroes_height_threshold = i,\n",
    "            zeroes_consec_threshold = 0.02,\n",
    "            window_size = window_size, # Total detection window [s]\n",
    "            N_loops_over_window = N_loops_over_window, # implicitly defines buffer to be 1/x of the window\n",
    "            #CHANGE\n",
    "            hyp_detection_buffer_end = hyp_detection_buffer_end, # seconds - how much time to shave off end of the window in order to define the middle portion\n",
    "            hyp_detection_buffer_start = hyp_detection_buffer_start, # seconds - how much time to shave off start of the window in order to define the middle portion\n",
    "            hyp_event_smart_threshold_window = 1, # The length of the calibration period to define the threshold\n",
    "            hyp_calibration_statistic_function = lambda x: np.sum(x[0:-1]*x[1::] <= 0), # Function that calculates the calibration statistic\n",
    "            hyp_test_statistic_function = lambda x: np.sum(x[0:-1]*x[1::] <= 0), # Function that calculates the test statistic\n",
    "            hyp_event_smart_threshold_factor = 0.5, # The scale factor of the calibration range that will become the threshold\n",
    "            hyp_event_history = hyp_consecutive_triggers+1, # How many historical event detection results are kept in memory (whether the test criteria failed or passed)\n",
    "            hyp_consecutive_triggers = hyp_consecutive_triggers, # How many threshold triggers need to occur in a row for an event to be called #CHANGE\n",
    "            hyp_consecutive_reset = 1, # How many threshold failures need to occur in a row for the classifier to be primed for a new event\n",
    "            total_time = None,  # max time. If none, it goes forever!\n",
    "            plot = False, # Whether to plot the livestream data\n",
    "            store_events = True, # Whether to return the classification window array for debugging purposes\n",
    "            store_times = False, # To see how long classification takes\n",
    "            verbose = False, # lol\n",
    "            live = False, # Whether we're live\n",
    "            hyp_timeout = 10,\n",
    "            timeout = False)\n",
    "\n",
    "        actuals = \"\".join(labels[key].label)\n",
    "\n",
    "        lev_dist = lev(actuals, predictions)\n",
    "        acc = abs(len(actuals) - lev_dist)/len(actuals)\n",
    "        current_accuracies.append(acc)\n",
    "    all_accuracies[height_threshold] = np.mean(current_accuracies)      #MAYBE NOT MEAN?\n",
    "\n",
    "print(\"done\")\n",
    "\n",
    "\n",
    "#     plot_predictions(waves[key], samprate, labels[key], predictions, predictions_timestamps, ax, i,\n",
    "#                      title=\"\", before_buffer = 0.7, after_buffer = 1, actual_alpha=0.0,\n",
    "#                      wave_alpha=1, pred_alpha = 0.5, miny = -100, maxy = 100)\n",
    "\n"
   ]
  },
  {
   "cell_type": "code",
   "execution_count": 6,
   "metadata": {},
   "outputs": [
    {
     "output_type": "execute_result",
     "data": {
      "text/plain": [
       "Text(0.5, 1.0, 'Classifier Accuracy vs. Height Threshold')"
      ]
     },
     "metadata": {},
     "execution_count": 6
    },
    {
     "output_type": "display_data",
     "data": {
      "text/plain": "<Figure size 720x720 with 1 Axes>",
      "image/svg+xml": "<?xml version=\"1.0\" encoding=\"utf-8\" standalone=\"no\"?>\r\n<!DOCTYPE svg PUBLIC \"-//W3C//DTD SVG 1.1//EN\"\r\n  \"http://www.w3.org/Graphics/SVG/1.1/DTD/svg11.dtd\">\r\n<svg height=\"603.474375pt\" version=\"1.1\" viewBox=\"0 0 621.70625 603.474375\" width=\"621.70625pt\" xmlns=\"http://www.w3.org/2000/svg\" xmlns:xlink=\"http://www.w3.org/1999/xlink\">\r\n <metadata>\r\n  <rdf:RDF xmlns:cc=\"http://creativecommons.org/ns#\" xmlns:dc=\"http://purl.org/dc/elements/1.1/\" xmlns:rdf=\"http://www.w3.org/1999/02/22-rdf-syntax-ns#\">\r\n   <cc:Work>\r\n    <dc:type rdf:resource=\"http://purl.org/dc/dcmitype/StillImage\"/>\r\n    <dc:date>2021-05-28T11:34:53.033932</dc:date>\r\n    <dc:format>image/svg+xml</dc:format>\r\n    <dc:creator>\r\n     <cc:Agent>\r\n      <dc:title>Matplotlib v3.4.2, https://matplotlib.org/</dc:title>\r\n     </cc:Agent>\r\n    </dc:creator>\r\n   </cc:Work>\r\n  </rdf:RDF>\r\n </metadata>\r\n <defs>\r\n  <style type=\"text/css\">*{stroke-linecap:butt;stroke-linejoin:round;}</style>\r\n </defs>\r\n <g id=\"figure_1\">\r\n  <g id=\"patch_1\">\r\n   <path d=\"M 0 603.474375 \r\nL 621.70625 603.474375 \r\nL 621.70625 0 \r\nL 0 0 \r\nz\r\n\" style=\"fill:none;\"/>\r\n  </g>\r\n  <g id=\"axes_1\">\r\n   <g id=\"patch_2\">\r\n    <path d=\"M 56.50625 565.918125 \r\nL 614.50625 565.918125 \r\nL 614.50625 22.318125 \r\nL 56.50625 22.318125 \r\nz\r\n\" style=\"fill:#ffffff;\"/>\r\n   </g>\r\n   <g id=\"matplotlib.axis_1\">\r\n    <g id=\"xtick_1\">\r\n     <g id=\"line2d_1\">\r\n      <defs>\r\n       <path d=\"M 0 0 \r\nL 0 3.5 \r\n\" id=\"me5ce70eae1\" style=\"stroke:#000000;stroke-width:0.8;\"/>\r\n      </defs>\r\n      <g>\r\n       <use style=\"stroke:#000000;stroke-width:0.8;\" x=\"76.693634\" xlink:href=\"#me5ce70eae1\" y=\"565.918125\"/>\r\n      </g>\r\n     </g>\r\n     <g id=\"text_1\">\r\n      <!-- 0 -->\r\n      <g transform=\"translate(73.512384 580.516562)scale(0.1 -0.1)\">\r\n       <defs>\r\n        <path d=\"M 2034 4250 \r\nQ 1547 4250 1301 3770 \r\nQ 1056 3291 1056 2328 \r\nQ 1056 1369 1301 889 \r\nQ 1547 409 2034 409 \r\nQ 2525 409 2770 889 \r\nQ 3016 1369 3016 2328 \r\nQ 3016 3291 2770 3770 \r\nQ 2525 4250 2034 4250 \r\nz\r\nM 2034 4750 \r\nQ 2819 4750 3233 4129 \r\nQ 3647 3509 3647 2328 \r\nQ 3647 1150 3233 529 \r\nQ 2819 -91 2034 -91 \r\nQ 1250 -91 836 529 \r\nQ 422 1150 422 2328 \r\nQ 422 3509 836 4129 \r\nQ 1250 4750 2034 4750 \r\nz\r\n\" id=\"DejaVuSans-30\" transform=\"scale(0.015625)\"/>\r\n       </defs>\r\n       <use xlink:href=\"#DejaVuSans-30\"/>\r\n      </g>\r\n     </g>\r\n    </g>\r\n    <g id=\"xtick_2\">\r\n     <g id=\"line2d_2\">\r\n      <g>\r\n       <use style=\"stroke:#000000;stroke-width:0.8;\" x=\"180.21868\" xlink:href=\"#me5ce70eae1\" y=\"565.918125\"/>\r\n      </g>\r\n     </g>\r\n     <g id=\"text_2\">\r\n      <!-- 20 -->\r\n      <g transform=\"translate(173.85618 580.516562)scale(0.1 -0.1)\">\r\n       <defs>\r\n        <path d=\"M 1228 531 \r\nL 3431 531 \r\nL 3431 0 \r\nL 469 0 \r\nL 469 531 \r\nQ 828 903 1448 1529 \r\nQ 2069 2156 2228 2338 \r\nQ 2531 2678 2651 2914 \r\nQ 2772 3150 2772 3378 \r\nQ 2772 3750 2511 3984 \r\nQ 2250 4219 1831 4219 \r\nQ 1534 4219 1204 4116 \r\nQ 875 4013 500 3803 \r\nL 500 4441 \r\nQ 881 4594 1212 4672 \r\nQ 1544 4750 1819 4750 \r\nQ 2544 4750 2975 4387 \r\nQ 3406 4025 3406 3419 \r\nQ 3406 3131 3298 2873 \r\nQ 3191 2616 2906 2266 \r\nQ 2828 2175 2409 1742 \r\nQ 1991 1309 1228 531 \r\nz\r\n\" id=\"DejaVuSans-32\" transform=\"scale(0.015625)\"/>\r\n       </defs>\r\n       <use xlink:href=\"#DejaVuSans-32\"/>\r\n       <use x=\"63.623047\" xlink:href=\"#DejaVuSans-30\"/>\r\n      </g>\r\n     </g>\r\n    </g>\r\n    <g id=\"xtick_3\">\r\n     <g id=\"line2d_3\">\r\n      <g>\r\n       <use style=\"stroke:#000000;stroke-width:0.8;\" x=\"283.743727\" xlink:href=\"#me5ce70eae1\" y=\"565.918125\"/>\r\n      </g>\r\n     </g>\r\n     <g id=\"text_3\">\r\n      <!-- 40 -->\r\n      <g transform=\"translate(277.381227 580.516562)scale(0.1 -0.1)\">\r\n       <defs>\r\n        <path d=\"M 2419 4116 \r\nL 825 1625 \r\nL 2419 1625 \r\nL 2419 4116 \r\nz\r\nM 2253 4666 \r\nL 3047 4666 \r\nL 3047 1625 \r\nL 3713 1625 \r\nL 3713 1100 \r\nL 3047 1100 \r\nL 3047 0 \r\nL 2419 0 \r\nL 2419 1100 \r\nL 313 1100 \r\nL 313 1709 \r\nL 2253 4666 \r\nz\r\n\" id=\"DejaVuSans-34\" transform=\"scale(0.015625)\"/>\r\n       </defs>\r\n       <use xlink:href=\"#DejaVuSans-34\"/>\r\n       <use x=\"63.623047\" xlink:href=\"#DejaVuSans-30\"/>\r\n      </g>\r\n     </g>\r\n    </g>\r\n    <g id=\"xtick_4\">\r\n     <g id=\"line2d_4\">\r\n      <g>\r\n       <use style=\"stroke:#000000;stroke-width:0.8;\" x=\"387.268773\" xlink:href=\"#me5ce70eae1\" y=\"565.918125\"/>\r\n      </g>\r\n     </g>\r\n     <g id=\"text_4\">\r\n      <!-- 60 -->\r\n      <g transform=\"translate(380.906273 580.516562)scale(0.1 -0.1)\">\r\n       <defs>\r\n        <path d=\"M 2113 2584 \r\nQ 1688 2584 1439 2293 \r\nQ 1191 2003 1191 1497 \r\nQ 1191 994 1439 701 \r\nQ 1688 409 2113 409 \r\nQ 2538 409 2786 701 \r\nQ 3034 994 3034 1497 \r\nQ 3034 2003 2786 2293 \r\nQ 2538 2584 2113 2584 \r\nz\r\nM 3366 4563 \r\nL 3366 3988 \r\nQ 3128 4100 2886 4159 \r\nQ 2644 4219 2406 4219 \r\nQ 1781 4219 1451 3797 \r\nQ 1122 3375 1075 2522 \r\nQ 1259 2794 1537 2939 \r\nQ 1816 3084 2150 3084 \r\nQ 2853 3084 3261 2657 \r\nQ 3669 2231 3669 1497 \r\nQ 3669 778 3244 343 \r\nQ 2819 -91 2113 -91 \r\nQ 1303 -91 875 529 \r\nQ 447 1150 447 2328 \r\nQ 447 3434 972 4092 \r\nQ 1497 4750 2381 4750 \r\nQ 2619 4750 2861 4703 \r\nQ 3103 4656 3366 4563 \r\nz\r\n\" id=\"DejaVuSans-36\" transform=\"scale(0.015625)\"/>\r\n       </defs>\r\n       <use xlink:href=\"#DejaVuSans-36\"/>\r\n       <use x=\"63.623047\" xlink:href=\"#DejaVuSans-30\"/>\r\n      </g>\r\n     </g>\r\n    </g>\r\n    <g id=\"xtick_5\">\r\n     <g id=\"line2d_5\">\r\n      <g>\r\n       <use style=\"stroke:#000000;stroke-width:0.8;\" x=\"490.79382\" xlink:href=\"#me5ce70eae1\" y=\"565.918125\"/>\r\n      </g>\r\n     </g>\r\n     <g id=\"text_5\">\r\n      <!-- 80 -->\r\n      <g transform=\"translate(484.43132 580.516562)scale(0.1 -0.1)\">\r\n       <defs>\r\n        <path d=\"M 2034 2216 \r\nQ 1584 2216 1326 1975 \r\nQ 1069 1734 1069 1313 \r\nQ 1069 891 1326 650 \r\nQ 1584 409 2034 409 \r\nQ 2484 409 2743 651 \r\nQ 3003 894 3003 1313 \r\nQ 3003 1734 2745 1975 \r\nQ 2488 2216 2034 2216 \r\nz\r\nM 1403 2484 \r\nQ 997 2584 770 2862 \r\nQ 544 3141 544 3541 \r\nQ 544 4100 942 4425 \r\nQ 1341 4750 2034 4750 \r\nQ 2731 4750 3128 4425 \r\nQ 3525 4100 3525 3541 \r\nQ 3525 3141 3298 2862 \r\nQ 3072 2584 2669 2484 \r\nQ 3125 2378 3379 2068 \r\nQ 3634 1759 3634 1313 \r\nQ 3634 634 3220 271 \r\nQ 2806 -91 2034 -91 \r\nQ 1263 -91 848 271 \r\nQ 434 634 434 1313 \r\nQ 434 1759 690 2068 \r\nQ 947 2378 1403 2484 \r\nz\r\nM 1172 3481 \r\nQ 1172 3119 1398 2916 \r\nQ 1625 2713 2034 2713 \r\nQ 2441 2713 2670 2916 \r\nQ 2900 3119 2900 3481 \r\nQ 2900 3844 2670 4047 \r\nQ 2441 4250 2034 4250 \r\nQ 1625 4250 1398 4047 \r\nQ 1172 3844 1172 3481 \r\nz\r\n\" id=\"DejaVuSans-38\" transform=\"scale(0.015625)\"/>\r\n       </defs>\r\n       <use xlink:href=\"#DejaVuSans-38\"/>\r\n       <use x=\"63.623047\" xlink:href=\"#DejaVuSans-30\"/>\r\n      </g>\r\n     </g>\r\n    </g>\r\n    <g id=\"xtick_6\">\r\n     <g id=\"line2d_6\">\r\n      <g>\r\n       <use style=\"stroke:#000000;stroke-width:0.8;\" x=\"594.318866\" xlink:href=\"#me5ce70eae1\" y=\"565.918125\"/>\r\n      </g>\r\n     </g>\r\n     <g id=\"text_6\">\r\n      <!-- 100 -->\r\n      <g transform=\"translate(584.775116 580.516562)scale(0.1 -0.1)\">\r\n       <defs>\r\n        <path d=\"M 794 531 \r\nL 1825 531 \r\nL 1825 4091 \r\nL 703 3866 \r\nL 703 4441 \r\nL 1819 4666 \r\nL 2450 4666 \r\nL 2450 531 \r\nL 3481 531 \r\nL 3481 0 \r\nL 794 0 \r\nL 794 531 \r\nz\r\n\" id=\"DejaVuSans-31\" transform=\"scale(0.015625)\"/>\r\n       </defs>\r\n       <use xlink:href=\"#DejaVuSans-31\"/>\r\n       <use x=\"63.623047\" xlink:href=\"#DejaVuSans-30\"/>\r\n       <use x=\"127.246094\" xlink:href=\"#DejaVuSans-30\"/>\r\n      </g>\r\n     </g>\r\n    </g>\r\n    <g id=\"text_7\">\r\n     <!-- Height Threshold -->\r\n     <g transform=\"translate(292.75 594.194687)scale(0.1 -0.1)\">\r\n      <defs>\r\n       <path d=\"M 628 4666 \r\nL 1259 4666 \r\nL 1259 2753 \r\nL 3553 2753 \r\nL 3553 4666 \r\nL 4184 4666 \r\nL 4184 0 \r\nL 3553 0 \r\nL 3553 2222 \r\nL 1259 2222 \r\nL 1259 0 \r\nL 628 0 \r\nL 628 4666 \r\nz\r\n\" id=\"DejaVuSans-48\" transform=\"scale(0.015625)\"/>\r\n       <path d=\"M 3597 1894 \r\nL 3597 1613 \r\nL 953 1613 \r\nQ 991 1019 1311 708 \r\nQ 1631 397 2203 397 \r\nQ 2534 397 2845 478 \r\nQ 3156 559 3463 722 \r\nL 3463 178 \r\nQ 3153 47 2828 -22 \r\nQ 2503 -91 2169 -91 \r\nQ 1331 -91 842 396 \r\nQ 353 884 353 1716 \r\nQ 353 2575 817 3079 \r\nQ 1281 3584 2069 3584 \r\nQ 2775 3584 3186 3129 \r\nQ 3597 2675 3597 1894 \r\nz\r\nM 3022 2063 \r\nQ 3016 2534 2758 2815 \r\nQ 2500 3097 2075 3097 \r\nQ 1594 3097 1305 2825 \r\nQ 1016 2553 972 2059 \r\nL 3022 2063 \r\nz\r\n\" id=\"DejaVuSans-65\" transform=\"scale(0.015625)\"/>\r\n       <path d=\"M 603 3500 \r\nL 1178 3500 \r\nL 1178 0 \r\nL 603 0 \r\nL 603 3500 \r\nz\r\nM 603 4863 \r\nL 1178 4863 \r\nL 1178 4134 \r\nL 603 4134 \r\nL 603 4863 \r\nz\r\n\" id=\"DejaVuSans-69\" transform=\"scale(0.015625)\"/>\r\n       <path d=\"M 2906 1791 \r\nQ 2906 2416 2648 2759 \r\nQ 2391 3103 1925 3103 \r\nQ 1463 3103 1205 2759 \r\nQ 947 2416 947 1791 \r\nQ 947 1169 1205 825 \r\nQ 1463 481 1925 481 \r\nQ 2391 481 2648 825 \r\nQ 2906 1169 2906 1791 \r\nz\r\nM 3481 434 \r\nQ 3481 -459 3084 -895 \r\nQ 2688 -1331 1869 -1331 \r\nQ 1566 -1331 1297 -1286 \r\nQ 1028 -1241 775 -1147 \r\nL 775 -588 \r\nQ 1028 -725 1275 -790 \r\nQ 1522 -856 1778 -856 \r\nQ 2344 -856 2625 -561 \r\nQ 2906 -266 2906 331 \r\nL 2906 616 \r\nQ 2728 306 2450 153 \r\nQ 2172 0 1784 0 \r\nQ 1141 0 747 490 \r\nQ 353 981 353 1791 \r\nQ 353 2603 747 3093 \r\nQ 1141 3584 1784 3584 \r\nQ 2172 3584 2450 3431 \r\nQ 2728 3278 2906 2969 \r\nL 2906 3500 \r\nL 3481 3500 \r\nL 3481 434 \r\nz\r\n\" id=\"DejaVuSans-67\" transform=\"scale(0.015625)\"/>\r\n       <path d=\"M 3513 2113 \r\nL 3513 0 \r\nL 2938 0 \r\nL 2938 2094 \r\nQ 2938 2591 2744 2837 \r\nQ 2550 3084 2163 3084 \r\nQ 1697 3084 1428 2787 \r\nQ 1159 2491 1159 1978 \r\nL 1159 0 \r\nL 581 0 \r\nL 581 4863 \r\nL 1159 4863 \r\nL 1159 2956 \r\nQ 1366 3272 1645 3428 \r\nQ 1925 3584 2291 3584 \r\nQ 2894 3584 3203 3211 \r\nQ 3513 2838 3513 2113 \r\nz\r\n\" id=\"DejaVuSans-68\" transform=\"scale(0.015625)\"/>\r\n       <path d=\"M 1172 4494 \r\nL 1172 3500 \r\nL 2356 3500 \r\nL 2356 3053 \r\nL 1172 3053 \r\nL 1172 1153 \r\nQ 1172 725 1289 603 \r\nQ 1406 481 1766 481 \r\nL 2356 481 \r\nL 2356 0 \r\nL 1766 0 \r\nQ 1100 0 847 248 \r\nQ 594 497 594 1153 \r\nL 594 3053 \r\nL 172 3053 \r\nL 172 3500 \r\nL 594 3500 \r\nL 594 4494 \r\nL 1172 4494 \r\nz\r\n\" id=\"DejaVuSans-74\" transform=\"scale(0.015625)\"/>\r\n       <path id=\"DejaVuSans-20\" transform=\"scale(0.015625)\"/>\r\n       <path d=\"M -19 4666 \r\nL 3928 4666 \r\nL 3928 4134 \r\nL 2272 4134 \r\nL 2272 0 \r\nL 1638 0 \r\nL 1638 4134 \r\nL -19 4134 \r\nL -19 4666 \r\nz\r\n\" id=\"DejaVuSans-54\" transform=\"scale(0.015625)\"/>\r\n       <path d=\"M 2631 2963 \r\nQ 2534 3019 2420 3045 \r\nQ 2306 3072 2169 3072 \r\nQ 1681 3072 1420 2755 \r\nQ 1159 2438 1159 1844 \r\nL 1159 0 \r\nL 581 0 \r\nL 581 3500 \r\nL 1159 3500 \r\nL 1159 2956 \r\nQ 1341 3275 1631 3429 \r\nQ 1922 3584 2338 3584 \r\nQ 2397 3584 2469 3576 \r\nQ 2541 3569 2628 3553 \r\nL 2631 2963 \r\nz\r\n\" id=\"DejaVuSans-72\" transform=\"scale(0.015625)\"/>\r\n       <path d=\"M 2834 3397 \r\nL 2834 2853 \r\nQ 2591 2978 2328 3040 \r\nQ 2066 3103 1784 3103 \r\nQ 1356 3103 1142 2972 \r\nQ 928 2841 928 2578 \r\nQ 928 2378 1081 2264 \r\nQ 1234 2150 1697 2047 \r\nL 1894 2003 \r\nQ 2506 1872 2764 1633 \r\nQ 3022 1394 3022 966 \r\nQ 3022 478 2636 193 \r\nQ 2250 -91 1575 -91 \r\nQ 1294 -91 989 -36 \r\nQ 684 19 347 128 \r\nL 347 722 \r\nQ 666 556 975 473 \r\nQ 1284 391 1588 391 \r\nQ 1994 391 2212 530 \r\nQ 2431 669 2431 922 \r\nQ 2431 1156 2273 1281 \r\nQ 2116 1406 1581 1522 \r\nL 1381 1569 \r\nQ 847 1681 609 1914 \r\nQ 372 2147 372 2553 \r\nQ 372 3047 722 3315 \r\nQ 1072 3584 1716 3584 \r\nQ 2034 3584 2315 3537 \r\nQ 2597 3491 2834 3397 \r\nz\r\n\" id=\"DejaVuSans-73\" transform=\"scale(0.015625)\"/>\r\n       <path d=\"M 1959 3097 \r\nQ 1497 3097 1228 2736 \r\nQ 959 2375 959 1747 \r\nQ 959 1119 1226 758 \r\nQ 1494 397 1959 397 \r\nQ 2419 397 2687 759 \r\nQ 2956 1122 2956 1747 \r\nQ 2956 2369 2687 2733 \r\nQ 2419 3097 1959 3097 \r\nz\r\nM 1959 3584 \r\nQ 2709 3584 3137 3096 \r\nQ 3566 2609 3566 1747 \r\nQ 3566 888 3137 398 \r\nQ 2709 -91 1959 -91 \r\nQ 1206 -91 779 398 \r\nQ 353 888 353 1747 \r\nQ 353 2609 779 3096 \r\nQ 1206 3584 1959 3584 \r\nz\r\n\" id=\"DejaVuSans-6f\" transform=\"scale(0.015625)\"/>\r\n       <path d=\"M 603 4863 \r\nL 1178 4863 \r\nL 1178 0 \r\nL 603 0 \r\nL 603 4863 \r\nz\r\n\" id=\"DejaVuSans-6c\" transform=\"scale(0.015625)\"/>\r\n       <path d=\"M 2906 2969 \r\nL 2906 4863 \r\nL 3481 4863 \r\nL 3481 0 \r\nL 2906 0 \r\nL 2906 525 \r\nQ 2725 213 2448 61 \r\nQ 2172 -91 1784 -91 \r\nQ 1150 -91 751 415 \r\nQ 353 922 353 1747 \r\nQ 353 2572 751 3078 \r\nQ 1150 3584 1784 3584 \r\nQ 2172 3584 2448 3432 \r\nQ 2725 3281 2906 2969 \r\nz\r\nM 947 1747 \r\nQ 947 1113 1208 752 \r\nQ 1469 391 1925 391 \r\nQ 2381 391 2643 752 \r\nQ 2906 1113 2906 1747 \r\nQ 2906 2381 2643 2742 \r\nQ 2381 3103 1925 3103 \r\nQ 1469 3103 1208 2742 \r\nQ 947 2381 947 1747 \r\nz\r\n\" id=\"DejaVuSans-64\" transform=\"scale(0.015625)\"/>\r\n      </defs>\r\n      <use xlink:href=\"#DejaVuSans-48\"/>\r\n      <use x=\"75.195312\" xlink:href=\"#DejaVuSans-65\"/>\r\n      <use x=\"136.71875\" xlink:href=\"#DejaVuSans-69\"/>\r\n      <use x=\"164.501953\" xlink:href=\"#DejaVuSans-67\"/>\r\n      <use x=\"227.978516\" xlink:href=\"#DejaVuSans-68\"/>\r\n      <use x=\"291.357422\" xlink:href=\"#DejaVuSans-74\"/>\r\n      <use x=\"330.566406\" xlink:href=\"#DejaVuSans-20\"/>\r\n      <use x=\"362.353516\" xlink:href=\"#DejaVuSans-54\"/>\r\n      <use x=\"423.4375\" xlink:href=\"#DejaVuSans-68\"/>\r\n      <use x=\"486.816406\" xlink:href=\"#DejaVuSans-72\"/>\r\n      <use x=\"525.679688\" xlink:href=\"#DejaVuSans-65\"/>\r\n      <use x=\"587.203125\" xlink:href=\"#DejaVuSans-73\"/>\r\n      <use x=\"639.302734\" xlink:href=\"#DejaVuSans-68\"/>\r\n      <use x=\"702.681641\" xlink:href=\"#DejaVuSans-6f\"/>\r\n      <use x=\"763.863281\" xlink:href=\"#DejaVuSans-6c\"/>\r\n      <use x=\"791.646484\" xlink:href=\"#DejaVuSans-64\"/>\r\n     </g>\r\n    </g>\r\n   </g>\r\n   <g id=\"matplotlib.axis_2\">\r\n    <g id=\"ytick_1\">\r\n     <g id=\"line2d_7\">\r\n      <defs>\r\n       <path d=\"M 0 0 \r\nL -3.5 0 \r\n\" id=\"mc6ed989041\" style=\"stroke:#000000;stroke-width:0.8;\"/>\r\n      </defs>\r\n      <g>\r\n       <use style=\"stroke:#000000;stroke-width:0.8;\" x=\"56.50625\" xlink:href=\"#mc6ed989041\" y=\"530.551995\"/>\r\n      </g>\r\n     </g>\r\n     <g id=\"text_8\">\r\n      <!-- 0.078 -->\r\n      <g transform=\"translate(20.878125 534.351213)scale(0.1 -0.1)\">\r\n       <defs>\r\n        <path d=\"M 684 794 \r\nL 1344 794 \r\nL 1344 0 \r\nL 684 0 \r\nL 684 794 \r\nz\r\n\" id=\"DejaVuSans-2e\" transform=\"scale(0.015625)\"/>\r\n        <path d=\"M 525 4666 \r\nL 3525 4666 \r\nL 3525 4397 \r\nL 1831 0 \r\nL 1172 0 \r\nL 2766 4134 \r\nL 525 4134 \r\nL 525 4666 \r\nz\r\n\" id=\"DejaVuSans-37\" transform=\"scale(0.015625)\"/>\r\n       </defs>\r\n       <use xlink:href=\"#DejaVuSans-30\"/>\r\n       <use x=\"63.623047\" xlink:href=\"#DejaVuSans-2e\"/>\r\n       <use x=\"95.410156\" xlink:href=\"#DejaVuSans-30\"/>\r\n       <use x=\"159.033203\" xlink:href=\"#DejaVuSans-37\"/>\r\n       <use x=\"222.65625\" xlink:href=\"#DejaVuSans-38\"/>\r\n      </g>\r\n     </g>\r\n    </g>\r\n    <g id=\"ytick_2\">\r\n     <g id=\"line2d_8\">\r\n      <g>\r\n       <use style=\"stroke:#000000;stroke-width:0.8;\" x=\"56.50625\" xlink:href=\"#mc6ed989041\" y=\"409.901115\"/>\r\n      </g>\r\n     </g>\r\n     <g id=\"text_9\">\r\n      <!-- 0.080 -->\r\n      <g transform=\"translate(20.878125 413.700334)scale(0.1 -0.1)\">\r\n       <use xlink:href=\"#DejaVuSans-30\"/>\r\n       <use x=\"63.623047\" xlink:href=\"#DejaVuSans-2e\"/>\r\n       <use x=\"95.410156\" xlink:href=\"#DejaVuSans-30\"/>\r\n       <use x=\"159.033203\" xlink:href=\"#DejaVuSans-38\"/>\r\n       <use x=\"222.65625\" xlink:href=\"#DejaVuSans-30\"/>\r\n      </g>\r\n     </g>\r\n    </g>\r\n    <g id=\"ytick_3\">\r\n     <g id=\"line2d_9\">\r\n      <g>\r\n       <use style=\"stroke:#000000;stroke-width:0.8;\" x=\"56.50625\" xlink:href=\"#mc6ed989041\" y=\"289.250235\"/>\r\n      </g>\r\n     </g>\r\n     <g id=\"text_10\">\r\n      <!-- 0.082 -->\r\n      <g transform=\"translate(20.878125 293.049454)scale(0.1 -0.1)\">\r\n       <use xlink:href=\"#DejaVuSans-30\"/>\r\n       <use x=\"63.623047\" xlink:href=\"#DejaVuSans-2e\"/>\r\n       <use x=\"95.410156\" xlink:href=\"#DejaVuSans-30\"/>\r\n       <use x=\"159.033203\" xlink:href=\"#DejaVuSans-38\"/>\r\n       <use x=\"222.65625\" xlink:href=\"#DejaVuSans-32\"/>\r\n      </g>\r\n     </g>\r\n    </g>\r\n    <g id=\"ytick_4\">\r\n     <g id=\"line2d_10\">\r\n      <g>\r\n       <use style=\"stroke:#000000;stroke-width:0.8;\" x=\"56.50625\" xlink:href=\"#mc6ed989041\" y=\"168.599355\"/>\r\n      </g>\r\n     </g>\r\n     <g id=\"text_11\">\r\n      <!-- 0.084 -->\r\n      <g transform=\"translate(20.878125 172.398574)scale(0.1 -0.1)\">\r\n       <use xlink:href=\"#DejaVuSans-30\"/>\r\n       <use x=\"63.623047\" xlink:href=\"#DejaVuSans-2e\"/>\r\n       <use x=\"95.410156\" xlink:href=\"#DejaVuSans-30\"/>\r\n       <use x=\"159.033203\" xlink:href=\"#DejaVuSans-38\"/>\r\n       <use x=\"222.65625\" xlink:href=\"#DejaVuSans-34\"/>\r\n      </g>\r\n     </g>\r\n    </g>\r\n    <g id=\"ytick_5\">\r\n     <g id=\"line2d_11\">\r\n      <g>\r\n       <use style=\"stroke:#000000;stroke-width:0.8;\" x=\"56.50625\" xlink:href=\"#mc6ed989041\" y=\"47.948475\"/>\r\n      </g>\r\n     </g>\r\n     <g id=\"text_12\">\r\n      <!-- 0.086 -->\r\n      <g transform=\"translate(20.878125 51.747694)scale(0.1 -0.1)\">\r\n       <use xlink:href=\"#DejaVuSans-30\"/>\r\n       <use x=\"63.623047\" xlink:href=\"#DejaVuSans-2e\"/>\r\n       <use x=\"95.410156\" xlink:href=\"#DejaVuSans-30\"/>\r\n       <use x=\"159.033203\" xlink:href=\"#DejaVuSans-38\"/>\r\n       <use x=\"222.65625\" xlink:href=\"#DejaVuSans-36\"/>\r\n      </g>\r\n     </g>\r\n    </g>\r\n    <g id=\"text_13\">\r\n     <!-- Levenshtein Accuracy -->\r\n     <g transform=\"translate(14.798437 348.882969)rotate(-90)scale(0.1 -0.1)\">\r\n      <defs>\r\n       <path d=\"M 628 4666 \r\nL 1259 4666 \r\nL 1259 531 \r\nL 3531 531 \r\nL 3531 0 \r\nL 628 0 \r\nL 628 4666 \r\nz\r\n\" id=\"DejaVuSans-4c\" transform=\"scale(0.015625)\"/>\r\n       <path d=\"M 191 3500 \r\nL 800 3500 \r\nL 1894 563 \r\nL 2988 3500 \r\nL 3597 3500 \r\nL 2284 0 \r\nL 1503 0 \r\nL 191 3500 \r\nz\r\n\" id=\"DejaVuSans-76\" transform=\"scale(0.015625)\"/>\r\n       <path d=\"M 3513 2113 \r\nL 3513 0 \r\nL 2938 0 \r\nL 2938 2094 \r\nQ 2938 2591 2744 2837 \r\nQ 2550 3084 2163 3084 \r\nQ 1697 3084 1428 2787 \r\nQ 1159 2491 1159 1978 \r\nL 1159 0 \r\nL 581 0 \r\nL 581 3500 \r\nL 1159 3500 \r\nL 1159 2956 \r\nQ 1366 3272 1645 3428 \r\nQ 1925 3584 2291 3584 \r\nQ 2894 3584 3203 3211 \r\nQ 3513 2838 3513 2113 \r\nz\r\n\" id=\"DejaVuSans-6e\" transform=\"scale(0.015625)\"/>\r\n       <path d=\"M 2188 4044 \r\nL 1331 1722 \r\nL 3047 1722 \r\nL 2188 4044 \r\nz\r\nM 1831 4666 \r\nL 2547 4666 \r\nL 4325 0 \r\nL 3669 0 \r\nL 3244 1197 \r\nL 1141 1197 \r\nL 716 0 \r\nL 50 0 \r\nL 1831 4666 \r\nz\r\n\" id=\"DejaVuSans-41\" transform=\"scale(0.015625)\"/>\r\n       <path d=\"M 3122 3366 \r\nL 3122 2828 \r\nQ 2878 2963 2633 3030 \r\nQ 2388 3097 2138 3097 \r\nQ 1578 3097 1268 2742 \r\nQ 959 2388 959 1747 \r\nQ 959 1106 1268 751 \r\nQ 1578 397 2138 397 \r\nQ 2388 397 2633 464 \r\nQ 2878 531 3122 666 \r\nL 3122 134 \r\nQ 2881 22 2623 -34 \r\nQ 2366 -91 2075 -91 \r\nQ 1284 -91 818 406 \r\nQ 353 903 353 1747 \r\nQ 353 2603 823 3093 \r\nQ 1294 3584 2113 3584 \r\nQ 2378 3584 2631 3529 \r\nQ 2884 3475 3122 3366 \r\nz\r\n\" id=\"DejaVuSans-63\" transform=\"scale(0.015625)\"/>\r\n       <path d=\"M 544 1381 \r\nL 544 3500 \r\nL 1119 3500 \r\nL 1119 1403 \r\nQ 1119 906 1312 657 \r\nQ 1506 409 1894 409 \r\nQ 2359 409 2629 706 \r\nQ 2900 1003 2900 1516 \r\nL 2900 3500 \r\nL 3475 3500 \r\nL 3475 0 \r\nL 2900 0 \r\nL 2900 538 \r\nQ 2691 219 2414 64 \r\nQ 2138 -91 1772 -91 \r\nQ 1169 -91 856 284 \r\nQ 544 659 544 1381 \r\nz\r\nM 1991 3584 \r\nL 1991 3584 \r\nz\r\n\" id=\"DejaVuSans-75\" transform=\"scale(0.015625)\"/>\r\n       <path d=\"M 2194 1759 \r\nQ 1497 1759 1228 1600 \r\nQ 959 1441 959 1056 \r\nQ 959 750 1161 570 \r\nQ 1363 391 1709 391 \r\nQ 2188 391 2477 730 \r\nQ 2766 1069 2766 1631 \r\nL 2766 1759 \r\nL 2194 1759 \r\nz\r\nM 3341 1997 \r\nL 3341 0 \r\nL 2766 0 \r\nL 2766 531 \r\nQ 2569 213 2275 61 \r\nQ 1981 -91 1556 -91 \r\nQ 1019 -91 701 211 \r\nQ 384 513 384 1019 \r\nQ 384 1609 779 1909 \r\nQ 1175 2209 1959 2209 \r\nL 2766 2209 \r\nL 2766 2266 \r\nQ 2766 2663 2505 2880 \r\nQ 2244 3097 1772 3097 \r\nQ 1472 3097 1187 3025 \r\nQ 903 2953 641 2809 \r\nL 641 3341 \r\nQ 956 3463 1253 3523 \r\nQ 1550 3584 1831 3584 \r\nQ 2591 3584 2966 3190 \r\nQ 3341 2797 3341 1997 \r\nz\r\n\" id=\"DejaVuSans-61\" transform=\"scale(0.015625)\"/>\r\n       <path d=\"M 2059 -325 \r\nQ 1816 -950 1584 -1140 \r\nQ 1353 -1331 966 -1331 \r\nL 506 -1331 \r\nL 506 -850 \r\nL 844 -850 \r\nQ 1081 -850 1212 -737 \r\nQ 1344 -625 1503 -206 \r\nL 1606 56 \r\nL 191 3500 \r\nL 800 3500 \r\nL 1894 763 \r\nL 2988 3500 \r\nL 3597 3500 \r\nL 2059 -325 \r\nz\r\n\" id=\"DejaVuSans-79\" transform=\"scale(0.015625)\"/>\r\n      </defs>\r\n      <use xlink:href=\"#DejaVuSans-4c\"/>\r\n      <use x=\"53.962891\" xlink:href=\"#DejaVuSans-65\"/>\r\n      <use x=\"115.486328\" xlink:href=\"#DejaVuSans-76\"/>\r\n      <use x=\"174.666016\" xlink:href=\"#DejaVuSans-65\"/>\r\n      <use x=\"236.189453\" xlink:href=\"#DejaVuSans-6e\"/>\r\n      <use x=\"299.568359\" xlink:href=\"#DejaVuSans-73\"/>\r\n      <use x=\"351.667969\" xlink:href=\"#DejaVuSans-68\"/>\r\n      <use x=\"415.046875\" xlink:href=\"#DejaVuSans-74\"/>\r\n      <use x=\"454.255859\" xlink:href=\"#DejaVuSans-65\"/>\r\n      <use x=\"515.779297\" xlink:href=\"#DejaVuSans-69\"/>\r\n      <use x=\"543.5625\" xlink:href=\"#DejaVuSans-6e\"/>\r\n      <use x=\"606.941406\" xlink:href=\"#DejaVuSans-20\"/>\r\n      <use x=\"638.728516\" xlink:href=\"#DejaVuSans-41\"/>\r\n      <use x=\"705.386719\" xlink:href=\"#DejaVuSans-63\"/>\r\n      <use x=\"760.367188\" xlink:href=\"#DejaVuSans-63\"/>\r\n      <use x=\"815.347656\" xlink:href=\"#DejaVuSans-75\"/>\r\n      <use x=\"878.726562\" xlink:href=\"#DejaVuSans-72\"/>\r\n      <use x=\"919.839844\" xlink:href=\"#DejaVuSans-61\"/>\r\n      <use x=\"981.119141\" xlink:href=\"#DejaVuSans-63\"/>\r\n      <use x=\"1036.099609\" xlink:href=\"#DejaVuSans-79\"/>\r\n     </g>\r\n    </g>\r\n   </g>\r\n   <g id=\"line2d_12\">\r\n    <path clip-path=\"url(#p14ae4e89c4)\" d=\"M 81.869886 294.118125 \r\nL 87.046139 294.118125 \r\nL 92.222391 294.118125 \r\nL 97.398643 294.118125 \r\nL 102.574896 294.118125 \r\nL 107.751148 294.118125 \r\nL 112.9274 294.118125 \r\nL 118.103653 294.118125 \r\nL 123.279905 294.118125 \r\nL 128.456157 294.118125 \r\nL 133.63241 294.118125 \r\nL 138.808662 294.118125 \r\nL 143.984914 294.118125 \r\nL 149.161167 294.118125 \r\nL 154.337419 294.118125 \r\nL 159.513671 294.118125 \r\nL 164.689923 294.118125 \r\nL 169.866176 294.118125 \r\nL 175.042428 294.118125 \r\nL 180.21868 294.118125 \r\nL 185.394933 294.118125 \r\nL 190.571185 294.118125 \r\nL 195.747437 294.118125 \r\nL 200.92369 294.118125 \r\nL 206.099942 294.118125 \r\nL 211.276194 294.118125 \r\nL 216.452447 294.118125 \r\nL 221.628699 294.118125 \r\nL 226.804951 294.118125 \r\nL 231.981204 294.118125 \r\nL 237.157456 294.118125 \r\nL 242.333708 294.118125 \r\nL 247.509961 294.118125 \r\nL 252.686213 294.118125 \r\nL 257.862465 294.118125 \r\nL 263.038718 294.118125 \r\nL 268.21497 294.118125 \r\nL 273.391222 294.118125 \r\nL 278.567474 294.118125 \r\nL 283.743727 294.118125 \r\nL 288.919979 294.118125 \r\nL 294.096231 294.118125 \r\nL 299.272484 294.118125 \r\nL 304.448736 294.118125 \r\nL 309.624988 294.118125 \r\nL 314.801241 294.118125 \r\nL 319.977493 294.118125 \r\nL 325.153745 294.118125 \r\nL 330.329998 294.118125 \r\nL 335.50625 294.118125 \r\nL 340.682502 294.118125 \r\nL 345.858755 294.118125 \r\nL 351.035007 294.118125 \r\nL 356.211259 294.118125 \r\nL 361.387512 294.118125 \r\nL 366.563764 294.118125 \r\nL 371.740016 294.118125 \r\nL 376.916269 294.118125 \r\nL 382.092521 294.118125 \r\nL 387.268773 294.118125 \r\nL 392.445026 294.118125 \r\nL 397.621278 294.118125 \r\nL 402.79753 294.118125 \r\nL 407.973782 294.118125 \r\nL 413.150035 294.118125 \r\nL 418.326287 294.118125 \r\nL 423.502539 294.118125 \r\nL 428.678792 294.118125 \r\nL 433.855044 294.118125 \r\nL 439.031296 294.118125 \r\nL 444.207549 294.118125 \r\nL 449.383801 294.118125 \r\nL 454.560053 294.118125 \r\nL 459.736306 294.118125 \r\nL 464.912558 294.118125 \r\nL 470.08881 294.118125 \r\nL 475.265063 294.118125 \r\nL 480.441315 294.118125 \r\nL 485.617567 294.118125 \r\nL 490.79382 294.118125 \r\nL 495.970072 294.118125 \r\nL 501.146324 294.118125 \r\nL 506.322577 294.118125 \r\nL 511.498829 294.118125 \r\nL 516.675081 294.118125 \r\nL 521.851333 294.118125 \r\nL 527.027586 294.118125 \r\nL 532.203838 294.118125 \r\nL 537.38009 294.118125 \r\nL 542.556343 294.118125 \r\nL 547.732595 294.118125 \r\nL 552.908847 294.118125 \r\nL 558.0851 294.118125 \r\nL 563.261352 294.118125 \r\nL 568.437604 294.118125 \r\nL 573.613857 294.118125 \r\nL 578.790109 294.118125 \r\nL 583.966361 294.118125 \r\nL 589.142614 294.118125 \r\n\" style=\"fill:none;stroke:#1f77b4;stroke-linecap:square;stroke-width:1.5;\"/>\r\n   </g>\r\n   <g id=\"patch_3\">\r\n    <path d=\"M 56.50625 565.918125 \r\nL 56.50625 22.318125 \r\n\" style=\"fill:none;stroke:#000000;stroke-linecap:square;stroke-linejoin:miter;stroke-width:0.8;\"/>\r\n   </g>\r\n   <g id=\"patch_4\">\r\n    <path d=\"M 614.50625 565.918125 \r\nL 614.50625 22.318125 \r\n\" style=\"fill:none;stroke:#000000;stroke-linecap:square;stroke-linejoin:miter;stroke-width:0.8;\"/>\r\n   </g>\r\n   <g id=\"patch_5\">\r\n    <path d=\"M 56.50625 565.918125 \r\nL 614.50625 565.918125 \r\n\" style=\"fill:none;stroke:#000000;stroke-linecap:square;stroke-linejoin:miter;stroke-width:0.8;\"/>\r\n   </g>\r\n   <g id=\"patch_6\">\r\n    <path d=\"M 56.50625 22.318125 \r\nL 614.50625 22.318125 \r\n\" style=\"fill:none;stroke:#000000;stroke-linecap:square;stroke-linejoin:miter;stroke-width:0.8;\"/>\r\n   </g>\r\n   <g id=\"text_14\">\r\n    <!-- Classifier Accuracy vs. Height Threshold -->\r\n    <g transform=\"translate(215.111563 16.318125)scale(0.12 -0.12)\">\r\n     <defs>\r\n      <path d=\"M 4122 4306 \r\nL 4122 3641 \r\nQ 3803 3938 3442 4084 \r\nQ 3081 4231 2675 4231 \r\nQ 1875 4231 1450 3742 \r\nQ 1025 3253 1025 2328 \r\nQ 1025 1406 1450 917 \r\nQ 1875 428 2675 428 \r\nQ 3081 428 3442 575 \r\nQ 3803 722 4122 1019 \r\nL 4122 359 \r\nQ 3791 134 3420 21 \r\nQ 3050 -91 2638 -91 \r\nQ 1578 -91 968 557 \r\nQ 359 1206 359 2328 \r\nQ 359 3453 968 4101 \r\nQ 1578 4750 2638 4750 \r\nQ 3056 4750 3426 4639 \r\nQ 3797 4528 4122 4306 \r\nz\r\n\" id=\"DejaVuSans-43\" transform=\"scale(0.015625)\"/>\r\n      <path d=\"M 2375 4863 \r\nL 2375 4384 \r\nL 1825 4384 \r\nQ 1516 4384 1395 4259 \r\nQ 1275 4134 1275 3809 \r\nL 1275 3500 \r\nL 2222 3500 \r\nL 2222 3053 \r\nL 1275 3053 \r\nL 1275 0 \r\nL 697 0 \r\nL 697 3053 \r\nL 147 3053 \r\nL 147 3500 \r\nL 697 3500 \r\nL 697 3744 \r\nQ 697 4328 969 4595 \r\nQ 1241 4863 1831 4863 \r\nL 2375 4863 \r\nz\r\n\" id=\"DejaVuSans-66\" transform=\"scale(0.015625)\"/>\r\n     </defs>\r\n     <use xlink:href=\"#DejaVuSans-43\"/>\r\n     <use x=\"69.824219\" xlink:href=\"#DejaVuSans-6c\"/>\r\n     <use x=\"97.607422\" xlink:href=\"#DejaVuSans-61\"/>\r\n     <use x=\"158.886719\" xlink:href=\"#DejaVuSans-73\"/>\r\n     <use x=\"210.986328\" xlink:href=\"#DejaVuSans-73\"/>\r\n     <use x=\"263.085938\" xlink:href=\"#DejaVuSans-69\"/>\r\n     <use x=\"290.869141\" xlink:href=\"#DejaVuSans-66\"/>\r\n     <use x=\"326.074219\" xlink:href=\"#DejaVuSans-69\"/>\r\n     <use x=\"353.857422\" xlink:href=\"#DejaVuSans-65\"/>\r\n     <use x=\"415.380859\" xlink:href=\"#DejaVuSans-72\"/>\r\n     <use x=\"456.494141\" xlink:href=\"#DejaVuSans-20\"/>\r\n     <use x=\"488.28125\" xlink:href=\"#DejaVuSans-41\"/>\r\n     <use x=\"554.939453\" xlink:href=\"#DejaVuSans-63\"/>\r\n     <use x=\"609.919922\" xlink:href=\"#DejaVuSans-63\"/>\r\n     <use x=\"664.900391\" xlink:href=\"#DejaVuSans-75\"/>\r\n     <use x=\"728.279297\" xlink:href=\"#DejaVuSans-72\"/>\r\n     <use x=\"769.392578\" xlink:href=\"#DejaVuSans-61\"/>\r\n     <use x=\"830.671875\" xlink:href=\"#DejaVuSans-63\"/>\r\n     <use x=\"885.652344\" xlink:href=\"#DejaVuSans-79\"/>\r\n     <use x=\"944.832031\" xlink:href=\"#DejaVuSans-20\"/>\r\n     <use x=\"976.619141\" xlink:href=\"#DejaVuSans-76\"/>\r\n     <use x=\"1035.798828\" xlink:href=\"#DejaVuSans-73\"/>\r\n     <use x=\"1087.898438\" xlink:href=\"#DejaVuSans-2e\"/>\r\n     <use x=\"1119.685547\" xlink:href=\"#DejaVuSans-20\"/>\r\n     <use x=\"1151.472656\" xlink:href=\"#DejaVuSans-48\"/>\r\n     <use x=\"1226.667969\" xlink:href=\"#DejaVuSans-65\"/>\r\n     <use x=\"1288.191406\" xlink:href=\"#DejaVuSans-69\"/>\r\n     <use x=\"1315.974609\" xlink:href=\"#DejaVuSans-67\"/>\r\n     <use x=\"1379.451172\" xlink:href=\"#DejaVuSans-68\"/>\r\n     <use x=\"1442.830078\" xlink:href=\"#DejaVuSans-74\"/>\r\n     <use x=\"1482.039062\" xlink:href=\"#DejaVuSans-20\"/>\r\n     <use x=\"1513.826172\" xlink:href=\"#DejaVuSans-54\"/>\r\n     <use x=\"1574.910156\" xlink:href=\"#DejaVuSans-68\"/>\r\n     <use x=\"1638.289062\" xlink:href=\"#DejaVuSans-72\"/>\r\n     <use x=\"1677.152344\" xlink:href=\"#DejaVuSans-65\"/>\r\n     <use x=\"1738.675781\" xlink:href=\"#DejaVuSans-73\"/>\r\n     <use x=\"1790.775391\" xlink:href=\"#DejaVuSans-68\"/>\r\n     <use x=\"1854.154297\" xlink:href=\"#DejaVuSans-6f\"/>\r\n     <use x=\"1915.335938\" xlink:href=\"#DejaVuSans-6c\"/>\r\n     <use x=\"1943.119141\" xlink:href=\"#DejaVuSans-64\"/>\r\n    </g>\r\n   </g>\r\n  </g>\r\n </g>\r\n <defs>\r\n  <clipPath id=\"p14ae4e89c4\">\r\n   <rect height=\"543.6\" width=\"558\" x=\"56.50625\" y=\"22.318125\"/>\r\n  </clipPath>\r\n </defs>\r\n</svg>\r\n",
      "image/png": "[encoded data removed]"
     },
     "metadata": {
      "needs_background": "light"
     }
    }
   ],
   "source": [
    "#print(all_accuracies)\n",
    "plt.figure(figsize=(10, 10))\n",
    "plt.plot(all_accuracies.keys(), all_accuracies.values())\n",
    "plt.ylabel(\"Levenshtein Accuracy\")\n",
    "plt.xlabel(\"Height Threshold\")\n",
    "plt.title(\"Classifier Accuracy vs. Height Threshold\")"
   ]
  },
  {
   "cell_type": "code",
   "execution_count": 9,
   "metadata": {},
   "outputs": [
    {
     "output_type": "stream",
     "name": "stdout",
     "text": [
      "Best height threshold values: [10, 11, 12, 13, 14, 15]\nAccuracy with best height threshold: 0.8649380122419338\n"
     ]
    }
   ],
   "source": [
    "best_heights = []\n",
    "best_value = 0\n",
    "for value in all_accuracies.values():\n",
    "    if round(value, 5) > round(best_value, 5):  #need to round because python maintains its floats very imprecisly\n",
    "        best_value = value\n",
    "\n",
    "for key, value in all_accuracies.items():\n",
    "    if round(value, 5) == round(best_value, 5):\n",
    "        best_heights.append(key)\n",
    "\n",
    "print(\"Best height threshold values:\", best_heights)\n",
    "print(\"Accuracy with best height threshold:\", all_accuracies[best_heights[0]])\n"
   ]
  },
  {
   "cell_type": "code",
   "execution_count": null,
   "metadata": {},
   "outputs": [],
   "source": []
  }
 ],
 "metadata": {
  "kernelspec": {
   "name": "python3810jvsc74a57bd0c4dc433831b506e0d25481c84a652fa4d2aed8e252441e22b25d2076b86b7e5b",
   "display_name": "Python 3.8.10 64-bit"
  },
  "language_info": {
   "codemirror_mode": {
    "name": "ipython",
    "version": 3
   },
   "file_extension": ".py",
   "mimetype": "text/x-python",
   "name": "python",
   "nbconvert_exporter": "python",
   "pygments_lexer": "ipython3",
   "version": "3.8.10"
  },
  "metadata": {
   "interpreter": {
    "hash": "c4dc433831b506e0d25481c84a652fa4d2aed8e252441e22b25d2076b86b7e5b"
   }
  }
 },
 "nbformat": 4,
 "nbformat_minor": 5
}