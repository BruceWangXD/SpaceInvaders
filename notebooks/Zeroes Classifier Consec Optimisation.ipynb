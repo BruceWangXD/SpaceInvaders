{
 "cells": [
  {
   "cell_type": "code",
   "execution_count": 3,
   "metadata": {},
   "outputs": [],
   "source": [
    "import numpy as np\n",
    "import pandas as pd\n",
    "import matplotlib.pyplot as plt\n",
    "import time\n",
    "import wave, struct\n",
    "from copy import deepcopy\n",
    "from weighted_levenshtein import lev\n",
    "import time\n",
    "\n",
    "from scipy.io import wavfile\n",
    "\n",
    "\n",
    "from Classifier.load_data import load_training_data\n",
    "\n",
    "from Classifier.plot_data import plot_labelled_wave, plot_predictions, plot_detection_errors\n",
    "\n",
    "from Classifier.classifier import streaming_classifier, zeroes_classifier\n",
    "\n",
    "PATH = \"../\"\n",
    "# To run all computation, change to True. Otherwise, precomputed files will be loaded instead.\n",
    "compute_all = False\n",
    "# If running, ensure the following line is commented out. It disables plots for knitting to html purposes. \n",
    "#%matplotlib agg\n",
    "\n",
    "# Set seed for reproducibility\n",
    "np.random.seed(420) \n",
    "# Path to outputs folder\n",
    "OUT_PATH = PATH + \"report_outputs/\"\n",
    "# Path to data\n",
    "IN_PATH = PATH + \"Datasets/data/\"\n",
    "# Path to other file dependencies\n",
    "DEP_PATH = PATH + \"requirements/other_files/\"\n"
   ]
  },
  {
   "cell_type": "code",
   "execution_count": 4,
   "metadata": {},
   "outputs": [
    {
     "output_type": "stream",
     "name": "stdout",
     "text": [
      "Successfully loaded 6 wavefiles:\n",
      "data1\n",
      "data2\n",
      "data3\n",
      "data4\n",
      "data6\n",
      "data8\n",
      "Successfully loaded 2 wavefiles:\n",
      "data5\n",
      "data7\n",
      "<ipython-input-4-5eed2c68d2fd>:30: ParserWarning: Falling back to the 'python' engine because the 'c' engine does not support regex separators (separators > 1 char and different from '\\s+' are interpreted as regex); you can avoid this warning by specifying engine='python'.\n",
      "  labels_dat = pd.read_csv(path+file+\".txt\", sep=\",\\t\", skiprows=1)\n"
     ]
    }
   ],
   "source": [
    "offsets = {\"data1\":0,\n",
    "           \"data2\":0,\n",
    "           \"data3\":0,\n",
    "           \"data4\":0,\n",
    "           \"data5\":-5,\n",
    "           \"data6\":0,\n",
    "           \"data7\":-1,\n",
    "           \"data8\":0}\n",
    "\n",
    "def load_data(path, fnames, scale_factor = 1, shift_factor = -512):\n",
    "    waves = {}\n",
    "    labels = {}\n",
    "    for file in fnames:\n",
    "        # Load in wave file\n",
    "        samprate, wav_array = wavfile.read(path+file+\".wav\")\n",
    "        wav_array = wav_array*scale_factor\n",
    "        wav_array += shift_factor\n",
    "        \n",
    "        # Fix the bug in alessandro's code\n",
    "        fixed_wav = []\n",
    "        step = 999\n",
    "        offset = offsets[file]\n",
    "        for j, i in enumerate(range(offset, len(wav_array)-step, step)):\n",
    "            if j == 0:\n",
    "                fixed_wav.append(np.flip(wav_array[0:i+step]))\n",
    "            fixed_wav.append(np.flip(wav_array[i:i+step]))\n",
    "\n",
    "        waves[file] = np.concatenate(fixed_wav)\n",
    "        # Load in label file\n",
    "        labels_dat = pd.read_csv(path+file+\".txt\", sep=\",\\t\", skiprows=1)\n",
    "        labels_dat.columns = [\"label\", \"time\"]\n",
    "        labels_dat.label = [\"L\" if label == 1 else \"R\" for label in labels_dat.label]\n",
    "        labels[file] = labels_dat\n",
    "    print(f\"Successfully loaded {len(waves)} wavefiles:\")\n",
    "    print(\"\\n\".join(sorted(waves.keys())))\n",
    "    return waves, labels\n",
    "\n",
    "fnames = [\"data1\", \"data2\", \"data3\", \"data4\", \"data5\", \"data6\", \"data7\", \"data8\"]\n",
    "\n",
    "# Randomly select two files for the test set, remainder as training\n",
    "test_files = np.random.choice(fnames, 2, replace=False)\n",
    "training_files = list(set(fnames) - set(test_files))\n",
    "\n",
    "# Training Data\n",
    "waves, labels = load_data(\n",
    "    IN_PATH, training_files, scale_factor = 1, shift_factor = -512)\n",
    "\n",
    "# Test Data\n",
    "test_waves, test_labels = load_data(\n",
    "    IN_PATH, test_files, scale_factor = 1, shift_factor = -512)\n",
    "\n",
    "# Define Sample Rate: 10,000 Hz\n",
    "samprate = 10_000\n",
    "\n",
    "\n",
    "time_buffers = {\"data3\":(-0.3, 0.55),\n",
    "                \"data2\":(-0.3, 0.55),\n",
    "                \"data0\":(-0.3, 0.55),\n",
    "                \"data1\":(-0.3, 0.55),\n",
    "                \"data5\":(-0.5, 0.75),\n",
    "                \"data4\":(-0.5, 0.75)}"
   ]
  },
  {
   "cell_type": "code",
   "execution_count": 5,
   "metadata": {},
   "outputs": [],
   "source": [
    "def my_lev_dist(prediction, actual, sub_L_cost = 1.25, sub_R_cost = 1.25, sub_under_score_cost = 0.5, delete_under_score_cost = 0, delete_L_cost = 1.25, delete_R_cost = 1.25):\n",
    "    substitute_costs = np.ones((128, 128), dtype=np.float64)  \n",
    "    substitute_costs[ord('L'), ord('R')] = sub_L_cost\n",
    "    substitute_costs[ord('R'), ord('L')] = sub_R_cost\n",
    "    substitute_costs[ord('_'), ord('L')] = sub_under_score_cost\n",
    "    substitute_costs[ord('_'), ord('R')] = sub_under_score_cost\n",
    "    \n",
    "    delete_costs = np.ones(128, dtype=np.float64)\n",
    "    delete_costs[ord('_')] = delete_under_score_cost\n",
    "    delete_costs[ord('L')] = delete_L_cost\n",
    "    delete_costs[ord('R')] = delete_R_cost\n",
    "\n",
    "    return lev(prediction, actual, substitute_costs = substitute_costs, delete_costs = delete_costs)\n",
    "\n",
    "\n",
    "\n",
    "def ts_zero_crossings(x):\n",
    "    return np.sum(x[0:-1]*x[1::] <= 0)\n"
   ]
  },
  {
   "cell_type": "code",
   "execution_count": 11,
   "metadata": {},
   "outputs": [],
   "source": [
    "det_window = 0.45\n",
    "hyp_event_smart_threshold_factor = 0.33\n",
    "\n",
    "hyp_event_smart_threshold_window = 5\n",
    "\n",
    "window_size = 0.66\n",
    "hyp_detection_buffer_end = (window_size - det_window) / 2\n",
    "hyp_detection_buffer_start = (window_size - det_window) / 2\n",
    "\n",
    "N_loops_over_window = int(np.ceil(window_size/0.05))"
   ]
  },
  {
   "cell_type": "code",
   "execution_count": 17,
   "metadata": {
    "tags": []
   },
   "outputs": [
    {
     "output_type": "stream",
     "name": "stdout",
     "text": [
      "Zeros classifier\n",
      "Current Consec Threshold: 0.001\n",
      "______________________\n",
      "_______________________\n",
      "________________\n",
      "_______________\n",
      "___________________\n",
      "_____________\n",
      "Current Consec Threshold: 0.0060404040404040404\n",
      "______________________\n",
      "_______________________\n",
      "________________\n",
      "_______________\n",
      "___________________\n",
      "_____________\n",
      "Current Consec Threshold: 0.01108080808080808\n",
      "______________________\n",
      "_______________________\n",
      "________________\n",
      "_______________\n",
      "___________________\n",
      "_____________\n",
      "Current Consec Threshold: 0.016121212121212123\n",
      "______________________\n",
      "_______________________\n",
      "________________\n",
      "_______________\n",
      "___________________\n",
      "_____________\n",
      "Current Consec Threshold: 0.021161616161616163\n"
     ]
    },
    {
     "output_type": "error",
     "ename": "KeyboardInterrupt",
     "evalue": "",
     "traceback": [
      "\u001b[1;31m---------------------------------------------------------------------------\u001b[0m",
      "\u001b[1;31mKeyboardInterrupt\u001b[0m                         Traceback (most recent call last)",
      "\u001b[1;32m<ipython-input-17-101d1170a9fb>\u001b[0m in \u001b[0;36m<module>\u001b[1;34m\u001b[0m\n\u001b[0;32m     13\u001b[0m         \u001b[1;32mfor\u001b[0m \u001b[0mi\u001b[0m\u001b[1;33m,\u001b[0m \u001b[0mkey\u001b[0m \u001b[1;32min\u001b[0m \u001b[0menumerate\u001b[0m\u001b[1;33m(\u001b[0m\u001b[0mwaves\u001b[0m\u001b[1;33m)\u001b[0m\u001b[1;33m:\u001b[0m\u001b[1;33m\u001b[0m\u001b[1;33m\u001b[0m\u001b[0m\n\u001b[0;32m     14\u001b[0m \u001b[1;33m\u001b[0m\u001b[0m\n\u001b[1;32m---> 15\u001b[1;33m             predictions, predictions_timestamps, predictions_storage = streaming_classifier(\n\u001b[0m\u001b[0;32m     16\u001b[0m                 \u001b[0mwaves\u001b[0m\u001b[1;33m[\u001b[0m\u001b[0mkey\u001b[0m\u001b[1;33m]\u001b[0m\u001b[1;33m,\u001b[0m\u001b[1;33m\u001b[0m\u001b[1;33m\u001b[0m\u001b[0m\n\u001b[0;32m     17\u001b[0m                 \u001b[0msamprate\u001b[0m\u001b[1;33m,\u001b[0m\u001b[1;33m\u001b[0m\u001b[1;33m\u001b[0m\u001b[0m\n",
      "\u001b[1;32mc:\\Users\\darap\\Documents\\School\\University\\2021, Sem. 1\\DATA3888\\Aqua10\\notebooks\\Classifier\\classifier.py\u001b[0m in \u001b[0;36mstreaming_classifier\u001b[1;34m(wav_array, samprate, classifier, window_size, N_loops_over_window, hyp_detection_buffer_end, hyp_detection_buffer_start, hyp_event_threshold, hyp_event_smart_threshold_window, hyp_calibration_statistic_function, hyp_test_statistic_function, hyp_event_smart_threshold_factor, hyp_event_history, hyp_consecutive_triggers, hyp_consecutive_reset, hyp_timeout, using_zeroes_classifier, plot_zeroes_classifier, use_smart_height_threshold_mmr, smart_height_factor, zeroes_height_threshold, zeroes_consec_threshold, using_max_min_range_classifier, max_min_range_threshold, use_smart_range_threshold_mmr, smart_range_factor, dumb_threshold, total_time, plot, store_events, store_times, nil_classifier, verbose, live, timeout, flip_threshold)\u001b[0m\n\u001b[0;32m    459\u001b[0m             \u001b[1;32mcontinue\u001b[0m\u001b[1;33m\u001b[0m\u001b[1;33m\u001b[0m\u001b[0m\n\u001b[0;32m    460\u001b[0m         \u001b[1;32melse\u001b[0m\u001b[1;33m:\u001b[0m\u001b[1;33m\u001b[0m\u001b[1;33m\u001b[0m\u001b[0m\n\u001b[1;32m--> 461\u001b[1;33m             \u001b[0mdata_plot\u001b[0m \u001b[1;33m=\u001b[0m \u001b[0mnp\u001b[0m\u001b[1;33m.\u001b[0m\u001b[0mroll\u001b[0m\u001b[1;33m(\u001b[0m\u001b[0mdata_plot\u001b[0m\u001b[1;33m,\u001b[0m\u001b[0mlen\u001b[0m\u001b[1;33m(\u001b[0m\u001b[0mdata_temp\u001b[0m\u001b[1;33m)\u001b[0m\u001b[1;33m)\u001b[0m\u001b[1;33m\u001b[0m\u001b[1;33m\u001b[0m\u001b[0m\n\u001b[0m\u001b[0;32m    462\u001b[0m             \u001b[0mdata_plot\u001b[0m\u001b[1;33m[\u001b[0m\u001b[1;36m0\u001b[0m\u001b[1;33m:\u001b[0m\u001b[0mlen\u001b[0m\u001b[1;33m(\u001b[0m\u001b[0mdata_temp\u001b[0m\u001b[1;33m)\u001b[0m\u001b[1;33m]\u001b[0m \u001b[1;33m=\u001b[0m \u001b[0mdata_temp\u001b[0m\u001b[1;33m\u001b[0m\u001b[1;33m\u001b[0m\u001b[0m\n\u001b[0;32m    463\u001b[0m \u001b[1;33m\u001b[0m\u001b[0m\n",
      "\u001b[1;32m<__array_function__ internals>\u001b[0m in \u001b[0;36mroll\u001b[1;34m(*args, **kwargs)\u001b[0m\n",
      "\u001b[1;32m~\\AppData\\Local\\Programs\\Python\\Python38\\lib\\site-packages\\numpy\\core\\numeric.py\u001b[0m in \u001b[0;36mroll\u001b[1;34m(a, shift, axis)\u001b[0m\n\u001b[0;32m   1217\u001b[0m     \u001b[0ma\u001b[0m \u001b[1;33m=\u001b[0m \u001b[0masanyarray\u001b[0m\u001b[1;33m(\u001b[0m\u001b[0ma\u001b[0m\u001b[1;33m)\u001b[0m\u001b[1;33m\u001b[0m\u001b[1;33m\u001b[0m\u001b[0m\n\u001b[0;32m   1218\u001b[0m     \u001b[1;32mif\u001b[0m \u001b[0maxis\u001b[0m \u001b[1;32mis\u001b[0m \u001b[1;32mNone\u001b[0m\u001b[1;33m:\u001b[0m\u001b[1;33m\u001b[0m\u001b[1;33m\u001b[0m\u001b[0m\n\u001b[1;32m-> 1219\u001b[1;33m         \u001b[1;32mreturn\u001b[0m \u001b[0mroll\u001b[0m\u001b[1;33m(\u001b[0m\u001b[0ma\u001b[0m\u001b[1;33m.\u001b[0m\u001b[0mravel\u001b[0m\u001b[1;33m(\u001b[0m\u001b[1;33m)\u001b[0m\u001b[1;33m,\u001b[0m \u001b[0mshift\u001b[0m\u001b[1;33m,\u001b[0m \u001b[1;36m0\u001b[0m\u001b[1;33m)\u001b[0m\u001b[1;33m.\u001b[0m\u001b[0mreshape\u001b[0m\u001b[1;33m(\u001b[0m\u001b[0ma\u001b[0m\u001b[1;33m.\u001b[0m\u001b[0mshape\u001b[0m\u001b[1;33m)\u001b[0m\u001b[1;33m\u001b[0m\u001b[1;33m\u001b[0m\u001b[0m\n\u001b[0m\u001b[0;32m   1220\u001b[0m \u001b[1;33m\u001b[0m\u001b[0m\n\u001b[0;32m   1221\u001b[0m     \u001b[1;32melse\u001b[0m\u001b[1;33m:\u001b[0m\u001b[1;33m\u001b[0m\u001b[1;33m\u001b[0m\u001b[0m\n",
      "\u001b[1;32m<__array_function__ internals>\u001b[0m in \u001b[0;36mroll\u001b[1;34m(*args, **kwargs)\u001b[0m\n",
      "\u001b[1;32m~\\AppData\\Local\\Programs\\Python\\Python38\\lib\\site-packages\\numpy\\core\\numeric.py\u001b[0m in \u001b[0;36mroll\u001b[1;34m(a, shift, axis)\u001b[0m\n\u001b[0;32m   1240\u001b[0m         \u001b[1;32mfor\u001b[0m \u001b[0mindices\u001b[0m \u001b[1;32min\u001b[0m \u001b[0mitertools\u001b[0m\u001b[1;33m.\u001b[0m\u001b[0mproduct\u001b[0m\u001b[1;33m(\u001b[0m\u001b[1;33m*\u001b[0m\u001b[0mrolls\u001b[0m\u001b[1;33m)\u001b[0m\u001b[1;33m:\u001b[0m\u001b[1;33m\u001b[0m\u001b[1;33m\u001b[0m\u001b[0m\n\u001b[0;32m   1241\u001b[0m             \u001b[0marr_index\u001b[0m\u001b[1;33m,\u001b[0m \u001b[0mres_index\u001b[0m \u001b[1;33m=\u001b[0m \u001b[0mzip\u001b[0m\u001b[1;33m(\u001b[0m\u001b[1;33m*\u001b[0m\u001b[0mindices\u001b[0m\u001b[1;33m)\u001b[0m\u001b[1;33m\u001b[0m\u001b[1;33m\u001b[0m\u001b[0m\n\u001b[1;32m-> 1242\u001b[1;33m             \u001b[0mresult\u001b[0m\u001b[1;33m[\u001b[0m\u001b[0mres_index\u001b[0m\u001b[1;33m]\u001b[0m \u001b[1;33m=\u001b[0m \u001b[0ma\u001b[0m\u001b[1;33m[\u001b[0m\u001b[0marr_index\u001b[0m\u001b[1;33m]\u001b[0m\u001b[1;33m\u001b[0m\u001b[1;33m\u001b[0m\u001b[0m\n\u001b[0m\u001b[0;32m   1243\u001b[0m \u001b[1;33m\u001b[0m\u001b[0m\n\u001b[0;32m   1244\u001b[0m         \u001b[1;32mreturn\u001b[0m \u001b[0mresult\u001b[0m\u001b[1;33m\u001b[0m\u001b[1;33m\u001b[0m\u001b[0m\n",
      "\u001b[1;31mKeyboardInterrupt\u001b[0m: "
     ]
    }
   ],
   "source": [
    "classifiers = {\"Zeros classifier\": zeroes_classifier}\n",
    "\n",
    "file_accuracies = {}\n",
    "\n",
    "for classifier_label, classifier in classifiers.items():\n",
    "    print(classifier_label)\n",
    "    for consec_threshold in np.linspace(0.001, 0.5, 100):\n",
    "        print(\"Current Consec Threshold:\", consec_threshold)\n",
    "\n",
    "#         hyp_consecutive_triggers = int(np.ceil(det_window/buffer_size))\n",
    "\n",
    "        current_accuracies = []\n",
    "        for i, key in enumerate(waves):\n",
    "            \n",
    "            predictions, predictions_timestamps, predictions_storage = streaming_classifier(\n",
    "                waves[key],\n",
    "                samprate,\n",
    "                classifier = classifier,\n",
    "                window_size = window_size, # time plotted in window [s]\n",
    "                N_loops_over_window = N_loops_over_window, # implicitly defines buffer to be 1/x of the window\n",
    "                total_time = None,  # max time\n",
    "                hyp_detection_buffer_end = hyp_detection_buffer_end, # seconds - how much time to shave off either end of the window in order to define the middle portion\n",
    "                hyp_detection_buffer_start = hyp_detection_buffer_start,\n",
    "                hyp_event_smart_threshold_window = hyp_event_smart_threshold_window, \n",
    "                hyp_event_smart_threshold_factor = hyp_event_smart_threshold_factor, \n",
    "                hyp_calibration_statistic_function = lambda x: ts_zero_crossings(x)/(len(x)/samprate)*det_window, # Function that calculates the calibration statistic\n",
    "                hyp_test_statistic_function = ts_zero_crossings, # Function that calculates the test statistic\n",
    "                hyp_event_history = 30,\n",
    "    #             hyp_timeout = 20,\n",
    "                hyp_consecutive_triggers = 2,\n",
    "                hyp_consecutive_reset = 10,\n",
    "                zeroes_consec_threshold = consec_threshold,\n",
    "                zeroes_height_threshold = 5,\n",
    "                using_zeroes_classifier = True,\n",
    "                plot = False,\n",
    "                store_events = True, \n",
    "                verbose=False,\n",
    "                live = False,\n",
    "    #             dumb_threshold = True,\n",
    "                flip_threshold = True\n",
    "    #             timeout = True\n",
    "            )\n",
    "\n",
    "            actuals = \"\".join(labels[key].label)\n",
    "            print(predictions)\n",
    "            lev_dist = my_lev_dist(predictions, actuals)\n",
    "            acc = max((len(actuals) - lev_dist), 0)/len(actuals)\n",
    "            current_accuracies.append(acc)\n",
    "        if consec_threshold in file_accuracies:\n",
    "            file_accuracies[consec_threshold] += current_accuracies\n",
    "        else:\n",
    "            file_accuracies[consec_threshold] = current_accuracies\n",
    "\n",
    "\n",
    "ave_accuracies_per_consec_val = {}\n",
    "for height_thresh, acc_each_file_ls in file_accuracies.items():\n",
    "    ave_accuracies_per_consec_val[height_thresh] = sum(acc_each_file_ls) / len(acc_each_file_ls)\n",
    "print(\"done\")"
   ]
  },
  {
   "cell_type": "code",
   "execution_count": 15,
   "metadata": {},
   "outputs": [
    {
     "output_type": "stream",
     "name": "stderr",
     "text": [
      "No handles with labels found to put in legend.\n"
     ]
    },
    {
     "output_type": "display_data",
     "data": {
      "text/plain": "<Figure size 720x720 with 1 Axes>",
      "image/svg+xml": "<?xml version=\"1.0\" encoding=\"utf-8\" standalone=\"no\"?>\r\n<!DOCTYPE svg PUBLIC \"-//W3C//DTD SVG 1.1//EN\"\r\n  \"http://www.w3.org/Graphics/SVG/1.1/DTD/svg11.dtd\">\r\n<svg height=\"603.954375pt\" version=\"1.1\" viewBox=\"0 0 615.34375 603.954375\" width=\"615.34375pt\" xmlns=\"http://www.w3.org/2000/svg\" xmlns:xlink=\"http://www.w3.org/1999/xlink\">\r\n <metadata>\r\n  <rdf:RDF xmlns:cc=\"http://creativecommons.org/ns#\" xmlns:dc=\"http://purl.org/dc/elements/1.1/\" xmlns:rdf=\"http://www.w3.org/1999/02/22-rdf-syntax-ns#\">\r\n   <cc:Work>\r\n    <dc:type rdf:resource=\"http://purl.org/dc/dcmitype/StillImage\"/>\r\n    <dc:date>2021-06-11T15:57:59.425135</dc:date>\r\n    <dc:format>image/svg+xml</dc:format>\r\n    <dc:creator>\r\n     <cc:Agent>\r\n      <dc:title>Matplotlib v3.4.2, https://matplotlib.org/</dc:title>\r\n     </cc:Agent>\r\n    </dc:creator>\r\n   </cc:Work>\r\n  </rdf:RDF>\r\n </metadata>\r\n <defs>\r\n  <style type=\"text/css\">*{stroke-linecap:butt;stroke-linejoin:round;}</style>\r\n </defs>\r\n <g id=\"figure_1\">\r\n  <g id=\"patch_1\">\r\n   <path d=\"M 0 603.954375 \r\nL 615.34375 603.954375 \r\nL 615.34375 0 \r\nL 0 0 \r\nz\r\n\" style=\"fill:none;\"/>\r\n  </g>\r\n  <g id=\"axes_1\">\r\n   <g id=\"patch_2\">\r\n    <path d=\"M 50.14375 566.398125 \r\nL 608.14375 566.398125 \r\nL 608.14375 22.798125 \r\nL 50.14375 22.798125 \r\nz\r\n\" style=\"fill:#ffffff;\"/>\r\n   </g>\r\n   <g id=\"matplotlib.axis_1\">\r\n    <g id=\"xtick_1\">\r\n     <g id=\"line2d_1\">\r\n      <defs>\r\n       <path d=\"M 0 0 \r\nL 0 3.5 \r\n\" id=\"m229fb24b81\" style=\"stroke:#000000;stroke-width:0.8;\"/>\r\n      </defs>\r\n      <g>\r\n       <use style=\"stroke:#000000;stroke-width:0.8;\" x=\"74.490808\" xlink:href=\"#m229fb24b81\" y=\"566.398125\"/>\r\n      </g>\r\n     </g>\r\n     <g id=\"text_1\">\r\n      <!-- 0.0 -->\r\n      <g transform=\"translate(66.539245 580.996562)scale(0.1 -0.1)\">\r\n       <defs>\r\n        <path d=\"M 2034 4250 \r\nQ 1547 4250 1301 3770 \r\nQ 1056 3291 1056 2328 \r\nQ 1056 1369 1301 889 \r\nQ 1547 409 2034 409 \r\nQ 2525 409 2770 889 \r\nQ 3016 1369 3016 2328 \r\nQ 3016 3291 2770 3770 \r\nQ 2525 4250 2034 4250 \r\nz\r\nM 2034 4750 \r\nQ 2819 4750 3233 4129 \r\nQ 3647 3509 3647 2328 \r\nQ 3647 1150 3233 529 \r\nQ 2819 -91 2034 -91 \r\nQ 1250 -91 836 529 \r\nQ 422 1150 422 2328 \r\nQ 422 3509 836 4129 \r\nQ 1250 4750 2034 4750 \r\nz\r\n\" id=\"DejaVuSans-30\" transform=\"scale(0.015625)\"/>\r\n        <path d=\"M 684 794 \r\nL 1344 794 \r\nL 1344 0 \r\nL 684 0 \r\nL 684 794 \r\nz\r\n\" id=\"DejaVuSans-2e\" transform=\"scale(0.015625)\"/>\r\n       </defs>\r\n       <use xlink:href=\"#DejaVuSans-30\"/>\r\n       <use x=\"63.623047\" xlink:href=\"#DejaVuSans-2e\"/>\r\n       <use x=\"95.410156\" xlink:href=\"#DejaVuSans-30\"/>\r\n      </g>\r\n     </g>\r\n    </g>\r\n    <g id=\"xtick_2\">\r\n     <g id=\"line2d_2\">\r\n      <g>\r\n       <use style=\"stroke:#000000;stroke-width:0.8;\" x=\"176.148669\" xlink:href=\"#m229fb24b81\" y=\"566.398125\"/>\r\n      </g>\r\n     </g>\r\n     <g id=\"text_2\">\r\n      <!-- 0.1 -->\r\n      <g transform=\"translate(168.197106 580.996562)scale(0.1 -0.1)\">\r\n       <defs>\r\n        <path d=\"M 794 531 \r\nL 1825 531 \r\nL 1825 4091 \r\nL 703 3866 \r\nL 703 4441 \r\nL 1819 4666 \r\nL 2450 4666 \r\nL 2450 531 \r\nL 3481 531 \r\nL 3481 0 \r\nL 794 0 \r\nL 794 531 \r\nz\r\n\" id=\"DejaVuSans-31\" transform=\"scale(0.015625)\"/>\r\n       </defs>\r\n       <use xlink:href=\"#DejaVuSans-30\"/>\r\n       <use x=\"63.623047\" xlink:href=\"#DejaVuSans-2e\"/>\r\n       <use x=\"95.410156\" xlink:href=\"#DejaVuSans-31\"/>\r\n      </g>\r\n     </g>\r\n    </g>\r\n    <g id=\"xtick_3\">\r\n     <g id=\"line2d_3\">\r\n      <g>\r\n       <use style=\"stroke:#000000;stroke-width:0.8;\" x=\"277.80653\" xlink:href=\"#m229fb24b81\" y=\"566.398125\"/>\r\n      </g>\r\n     </g>\r\n     <g id=\"text_3\">\r\n      <!-- 0.2 -->\r\n      <g transform=\"translate(269.854968 580.996562)scale(0.1 -0.1)\">\r\n       <defs>\r\n        <path d=\"M 1228 531 \r\nL 3431 531 \r\nL 3431 0 \r\nL 469 0 \r\nL 469 531 \r\nQ 828 903 1448 1529 \r\nQ 2069 2156 2228 2338 \r\nQ 2531 2678 2651 2914 \r\nQ 2772 3150 2772 3378 \r\nQ 2772 3750 2511 3984 \r\nQ 2250 4219 1831 4219 \r\nQ 1534 4219 1204 4116 \r\nQ 875 4013 500 3803 \r\nL 500 4441 \r\nQ 881 4594 1212 4672 \r\nQ 1544 4750 1819 4750 \r\nQ 2544 4750 2975 4387 \r\nQ 3406 4025 3406 3419 \r\nQ 3406 3131 3298 2873 \r\nQ 3191 2616 2906 2266 \r\nQ 2828 2175 2409 1742 \r\nQ 1991 1309 1228 531 \r\nz\r\n\" id=\"DejaVuSans-32\" transform=\"scale(0.015625)\"/>\r\n       </defs>\r\n       <use xlink:href=\"#DejaVuSans-30\"/>\r\n       <use x=\"63.623047\" xlink:href=\"#DejaVuSans-2e\"/>\r\n       <use x=\"95.410156\" xlink:href=\"#DejaVuSans-32\"/>\r\n      </g>\r\n     </g>\r\n    </g>\r\n    <g id=\"xtick_4\">\r\n     <g id=\"line2d_4\">\r\n      <g>\r\n       <use style=\"stroke:#000000;stroke-width:0.8;\" x=\"379.464391\" xlink:href=\"#m229fb24b81\" y=\"566.398125\"/>\r\n      </g>\r\n     </g>\r\n     <g id=\"text_4\">\r\n      <!-- 0.3 -->\r\n      <g transform=\"translate(371.512829 580.996562)scale(0.1 -0.1)\">\r\n       <defs>\r\n        <path d=\"M 2597 2516 \r\nQ 3050 2419 3304 2112 \r\nQ 3559 1806 3559 1356 \r\nQ 3559 666 3084 287 \r\nQ 2609 -91 1734 -91 \r\nQ 1441 -91 1130 -33 \r\nQ 819 25 488 141 \r\nL 488 750 \r\nQ 750 597 1062 519 \r\nQ 1375 441 1716 441 \r\nQ 2309 441 2620 675 \r\nQ 2931 909 2931 1356 \r\nQ 2931 1769 2642 2001 \r\nQ 2353 2234 1838 2234 \r\nL 1294 2234 \r\nL 1294 2753 \r\nL 1863 2753 \r\nQ 2328 2753 2575 2939 \r\nQ 2822 3125 2822 3475 \r\nQ 2822 3834 2567 4026 \r\nQ 2313 4219 1838 4219 \r\nQ 1578 4219 1281 4162 \r\nQ 984 4106 628 3988 \r\nL 628 4550 \r\nQ 988 4650 1302 4700 \r\nQ 1616 4750 1894 4750 \r\nQ 2613 4750 3031 4423 \r\nQ 3450 4097 3450 3541 \r\nQ 3450 3153 3228 2886 \r\nQ 3006 2619 2597 2516 \r\nz\r\n\" id=\"DejaVuSans-33\" transform=\"scale(0.015625)\"/>\r\n       </defs>\r\n       <use xlink:href=\"#DejaVuSans-30\"/>\r\n       <use x=\"63.623047\" xlink:href=\"#DejaVuSans-2e\"/>\r\n       <use x=\"95.410156\" xlink:href=\"#DejaVuSans-33\"/>\r\n      </g>\r\n     </g>\r\n    </g>\r\n    <g id=\"xtick_5\">\r\n     <g id=\"line2d_5\">\r\n      <g>\r\n       <use style=\"stroke:#000000;stroke-width:0.8;\" x=\"481.122252\" xlink:href=\"#m229fb24b81\" y=\"566.398125\"/>\r\n      </g>\r\n     </g>\r\n     <g id=\"text_5\">\r\n      <!-- 0.4 -->\r\n      <g transform=\"translate(473.17069 580.996562)scale(0.1 -0.1)\">\r\n       <defs>\r\n        <path d=\"M 2419 4116 \r\nL 825 1625 \r\nL 2419 1625 \r\nL 2419 4116 \r\nz\r\nM 2253 4666 \r\nL 3047 4666 \r\nL 3047 1625 \r\nL 3713 1625 \r\nL 3713 1100 \r\nL 3047 1100 \r\nL 3047 0 \r\nL 2419 0 \r\nL 2419 1100 \r\nL 313 1100 \r\nL 313 1709 \r\nL 2253 4666 \r\nz\r\n\" id=\"DejaVuSans-34\" transform=\"scale(0.015625)\"/>\r\n       </defs>\r\n       <use xlink:href=\"#DejaVuSans-30\"/>\r\n       <use x=\"63.623047\" xlink:href=\"#DejaVuSans-2e\"/>\r\n       <use x=\"95.410156\" xlink:href=\"#DejaVuSans-34\"/>\r\n      </g>\r\n     </g>\r\n    </g>\r\n    <g id=\"xtick_6\">\r\n     <g id=\"line2d_6\">\r\n      <g>\r\n       <use style=\"stroke:#000000;stroke-width:0.8;\" x=\"582.780114\" xlink:href=\"#m229fb24b81\" y=\"566.398125\"/>\r\n      </g>\r\n     </g>\r\n     <g id=\"text_6\">\r\n      <!-- 0.5 -->\r\n      <g transform=\"translate(574.828551 580.996562)scale(0.1 -0.1)\">\r\n       <defs>\r\n        <path d=\"M 691 4666 \r\nL 3169 4666 \r\nL 3169 4134 \r\nL 1269 4134 \r\nL 1269 2991 \r\nQ 1406 3038 1543 3061 \r\nQ 1681 3084 1819 3084 \r\nQ 2600 3084 3056 2656 \r\nQ 3513 2228 3513 1497 \r\nQ 3513 744 3044 326 \r\nQ 2575 -91 1722 -91 \r\nQ 1428 -91 1123 -41 \r\nQ 819 9 494 109 \r\nL 494 744 \r\nQ 775 591 1075 516 \r\nQ 1375 441 1709 441 \r\nQ 2250 441 2565 725 \r\nQ 2881 1009 2881 1497 \r\nQ 2881 1984 2565 2268 \r\nQ 2250 2553 1709 2553 \r\nQ 1456 2553 1204 2497 \r\nQ 953 2441 691 2322 \r\nL 691 4666 \r\nz\r\n\" id=\"DejaVuSans-35\" transform=\"scale(0.015625)\"/>\r\n       </defs>\r\n       <use xlink:href=\"#DejaVuSans-30\"/>\r\n       <use x=\"63.623047\" xlink:href=\"#DejaVuSans-2e\"/>\r\n       <use x=\"95.410156\" xlink:href=\"#DejaVuSans-35\"/>\r\n      </g>\r\n     </g>\r\n    </g>\r\n    <g id=\"text_7\">\r\n     <!-- `Consec` Threshold -->\r\n     <g transform=\"translate(279.766406 594.674687)scale(0.1 -0.1)\">\r\n      <defs>\r\n       <path d=\"M 1147 5119 \r\nL 2028 3950 \r\nL 1550 3950 \r\nL 531 5119 \r\nL 1147 5119 \r\nz\r\n\" id=\"DejaVuSans-60\" transform=\"scale(0.015625)\"/>\r\n       <path d=\"M 4122 4306 \r\nL 4122 3641 \r\nQ 3803 3938 3442 4084 \r\nQ 3081 4231 2675 4231 \r\nQ 1875 4231 1450 3742 \r\nQ 1025 3253 1025 2328 \r\nQ 1025 1406 1450 917 \r\nQ 1875 428 2675 428 \r\nQ 3081 428 3442 575 \r\nQ 3803 722 4122 1019 \r\nL 4122 359 \r\nQ 3791 134 3420 21 \r\nQ 3050 -91 2638 -91 \r\nQ 1578 -91 968 557 \r\nQ 359 1206 359 2328 \r\nQ 359 3453 968 4101 \r\nQ 1578 4750 2638 4750 \r\nQ 3056 4750 3426 4639 \r\nQ 3797 4528 4122 4306 \r\nz\r\n\" id=\"DejaVuSans-43\" transform=\"scale(0.015625)\"/>\r\n       <path d=\"M 1959 3097 \r\nQ 1497 3097 1228 2736 \r\nQ 959 2375 959 1747 \r\nQ 959 1119 1226 758 \r\nQ 1494 397 1959 397 \r\nQ 2419 397 2687 759 \r\nQ 2956 1122 2956 1747 \r\nQ 2956 2369 2687 2733 \r\nQ 2419 3097 1959 3097 \r\nz\r\nM 1959 3584 \r\nQ 2709 3584 3137 3096 \r\nQ 3566 2609 3566 1747 \r\nQ 3566 888 3137 398 \r\nQ 2709 -91 1959 -91 \r\nQ 1206 -91 779 398 \r\nQ 353 888 353 1747 \r\nQ 353 2609 779 3096 \r\nQ 1206 3584 1959 3584 \r\nz\r\n\" id=\"DejaVuSans-6f\" transform=\"scale(0.015625)\"/>\r\n       <path d=\"M 3513 2113 \r\nL 3513 0 \r\nL 2938 0 \r\nL 2938 2094 \r\nQ 2938 2591 2744 2837 \r\nQ 2550 3084 2163 3084 \r\nQ 1697 3084 1428 2787 \r\nQ 1159 2491 1159 1978 \r\nL 1159 0 \r\nL 581 0 \r\nL 581 3500 \r\nL 1159 3500 \r\nL 1159 2956 \r\nQ 1366 3272 1645 3428 \r\nQ 1925 3584 2291 3584 \r\nQ 2894 3584 3203 3211 \r\nQ 3513 2838 3513 2113 \r\nz\r\n\" id=\"DejaVuSans-6e\" transform=\"scale(0.015625)\"/>\r\n       <path d=\"M 2834 3397 \r\nL 2834 2853 \r\nQ 2591 2978 2328 3040 \r\nQ 2066 3103 1784 3103 \r\nQ 1356 3103 1142 2972 \r\nQ 928 2841 928 2578 \r\nQ 928 2378 1081 2264 \r\nQ 1234 2150 1697 2047 \r\nL 1894 2003 \r\nQ 2506 1872 2764 1633 \r\nQ 3022 1394 3022 966 \r\nQ 3022 478 2636 193 \r\nQ 2250 -91 1575 -91 \r\nQ 1294 -91 989 -36 \r\nQ 684 19 347 128 \r\nL 347 722 \r\nQ 666 556 975 473 \r\nQ 1284 391 1588 391 \r\nQ 1994 391 2212 530 \r\nQ 2431 669 2431 922 \r\nQ 2431 1156 2273 1281 \r\nQ 2116 1406 1581 1522 \r\nL 1381 1569 \r\nQ 847 1681 609 1914 \r\nQ 372 2147 372 2553 \r\nQ 372 3047 722 3315 \r\nQ 1072 3584 1716 3584 \r\nQ 2034 3584 2315 3537 \r\nQ 2597 3491 2834 3397 \r\nz\r\n\" id=\"DejaVuSans-73\" transform=\"scale(0.015625)\"/>\r\n       <path d=\"M 3597 1894 \r\nL 3597 1613 \r\nL 953 1613 \r\nQ 991 1019 1311 708 \r\nQ 1631 397 2203 397 \r\nQ 2534 397 2845 478 \r\nQ 3156 559 3463 722 \r\nL 3463 178 \r\nQ 3153 47 2828 -22 \r\nQ 2503 -91 2169 -91 \r\nQ 1331 -91 842 396 \r\nQ 353 884 353 1716 \r\nQ 353 2575 817 3079 \r\nQ 1281 3584 2069 3584 \r\nQ 2775 3584 3186 3129 \r\nQ 3597 2675 3597 1894 \r\nz\r\nM 3022 2063 \r\nQ 3016 2534 2758 2815 \r\nQ 2500 3097 2075 3097 \r\nQ 1594 3097 1305 2825 \r\nQ 1016 2553 972 2059 \r\nL 3022 2063 \r\nz\r\n\" id=\"DejaVuSans-65\" transform=\"scale(0.015625)\"/>\r\n       <path d=\"M 3122 3366 \r\nL 3122 2828 \r\nQ 2878 2963 2633 3030 \r\nQ 2388 3097 2138 3097 \r\nQ 1578 3097 1268 2742 \r\nQ 959 2388 959 1747 \r\nQ 959 1106 1268 751 \r\nQ 1578 397 2138 397 \r\nQ 2388 397 2633 464 \r\nQ 2878 531 3122 666 \r\nL 3122 134 \r\nQ 2881 22 2623 -34 \r\nQ 2366 -91 2075 -91 \r\nQ 1284 -91 818 406 \r\nQ 353 903 353 1747 \r\nQ 353 2603 823 3093 \r\nQ 1294 3584 2113 3584 \r\nQ 2378 3584 2631 3529 \r\nQ 2884 3475 3122 3366 \r\nz\r\n\" id=\"DejaVuSans-63\" transform=\"scale(0.015625)\"/>\r\n       <path id=\"DejaVuSans-20\" transform=\"scale(0.015625)\"/>\r\n       <path d=\"M -19 4666 \r\nL 3928 4666 \r\nL 3928 4134 \r\nL 2272 4134 \r\nL 2272 0 \r\nL 1638 0 \r\nL 1638 4134 \r\nL -19 4134 \r\nL -19 4666 \r\nz\r\n\" id=\"DejaVuSans-54\" transform=\"scale(0.015625)\"/>\r\n       <path d=\"M 3513 2113 \r\nL 3513 0 \r\nL 2938 0 \r\nL 2938 2094 \r\nQ 2938 2591 2744 2837 \r\nQ 2550 3084 2163 3084 \r\nQ 1697 3084 1428 2787 \r\nQ 1159 2491 1159 1978 \r\nL 1159 0 \r\nL 581 0 \r\nL 581 4863 \r\nL 1159 4863 \r\nL 1159 2956 \r\nQ 1366 3272 1645 3428 \r\nQ 1925 3584 2291 3584 \r\nQ 2894 3584 3203 3211 \r\nQ 3513 2838 3513 2113 \r\nz\r\n\" id=\"DejaVuSans-68\" transform=\"scale(0.015625)\"/>\r\n       <path d=\"M 2631 2963 \r\nQ 2534 3019 2420 3045 \r\nQ 2306 3072 2169 3072 \r\nQ 1681 3072 1420 2755 \r\nQ 1159 2438 1159 1844 \r\nL 1159 0 \r\nL 581 0 \r\nL 581 3500 \r\nL 1159 3500 \r\nL 1159 2956 \r\nQ 1341 3275 1631 3429 \r\nQ 1922 3584 2338 3584 \r\nQ 2397 3584 2469 3576 \r\nQ 2541 3569 2628 3553 \r\nL 2631 2963 \r\nz\r\n\" id=\"DejaVuSans-72\" transform=\"scale(0.015625)\"/>\r\n       <path d=\"M 603 4863 \r\nL 1178 4863 \r\nL 1178 0 \r\nL 603 0 \r\nL 603 4863 \r\nz\r\n\" id=\"DejaVuSans-6c\" transform=\"scale(0.015625)\"/>\r\n       <path d=\"M 2906 2969 \r\nL 2906 4863 \r\nL 3481 4863 \r\nL 3481 0 \r\nL 2906 0 \r\nL 2906 525 \r\nQ 2725 213 2448 61 \r\nQ 2172 -91 1784 -91 \r\nQ 1150 -91 751 415 \r\nQ 353 922 353 1747 \r\nQ 353 2572 751 3078 \r\nQ 1150 3584 1784 3584 \r\nQ 2172 3584 2448 3432 \r\nQ 2725 3281 2906 2969 \r\nz\r\nM 947 1747 \r\nQ 947 1113 1208 752 \r\nQ 1469 391 1925 391 \r\nQ 2381 391 2643 752 \r\nQ 2906 1113 2906 1747 \r\nQ 2906 2381 2643 2742 \r\nQ 2381 3103 1925 3103 \r\nQ 1469 3103 1208 2742 \r\nQ 947 2381 947 1747 \r\nz\r\n\" id=\"DejaVuSans-64\" transform=\"scale(0.015625)\"/>\r\n      </defs>\r\n      <use xlink:href=\"#DejaVuSans-60\"/>\r\n      <use x=\"50\" xlink:href=\"#DejaVuSans-43\"/>\r\n      <use x=\"119.824219\" xlink:href=\"#DejaVuSans-6f\"/>\r\n      <use x=\"181.005859\" xlink:href=\"#DejaVuSans-6e\"/>\r\n      <use x=\"244.384766\" xlink:href=\"#DejaVuSans-73\"/>\r\n      <use x=\"296.484375\" xlink:href=\"#DejaVuSans-65\"/>\r\n      <use x=\"358.007812\" xlink:href=\"#DejaVuSans-63\"/>\r\n      <use x=\"412.988281\" xlink:href=\"#DejaVuSans-60\"/>\r\n      <use x=\"462.988281\" xlink:href=\"#DejaVuSans-20\"/>\r\n      <use x=\"494.775391\" xlink:href=\"#DejaVuSans-54\"/>\r\n      <use x=\"555.859375\" xlink:href=\"#DejaVuSans-68\"/>\r\n      <use x=\"619.238281\" xlink:href=\"#DejaVuSans-72\"/>\r\n      <use x=\"658.101562\" xlink:href=\"#DejaVuSans-65\"/>\r\n      <use x=\"719.625\" xlink:href=\"#DejaVuSans-73\"/>\r\n      <use x=\"771.724609\" xlink:href=\"#DejaVuSans-68\"/>\r\n      <use x=\"835.103516\" xlink:href=\"#DejaVuSans-6f\"/>\r\n      <use x=\"896.285156\" xlink:href=\"#DejaVuSans-6c\"/>\r\n      <use x=\"924.068359\" xlink:href=\"#DejaVuSans-64\"/>\r\n     </g>\r\n    </g>\r\n   </g>\r\n   <g id=\"matplotlib.axis_2\">\r\n    <g id=\"ytick_1\">\r\n     <g id=\"line2d_7\">\r\n      <defs>\r\n       <path d=\"M 0 0 \r\nL -3.5 0 \r\n\" id=\"m7a20ecc36d\" style=\"stroke:#000000;stroke-width:0.8;\"/>\r\n      </defs>\r\n      <g>\r\n       <use style=\"stroke:#000000;stroke-width:0.8;\" x=\"50.14375\" xlink:href=\"#m7a20ecc36d\" y=\"492.270852\"/>\r\n      </g>\r\n     </g>\r\n     <g id=\"text_8\">\r\n      <!-- 0.48 -->\r\n      <g transform=\"translate(20.878125 496.070071)scale(0.1 -0.1)\">\r\n       <defs>\r\n        <path d=\"M 2034 2216 \r\nQ 1584 2216 1326 1975 \r\nQ 1069 1734 1069 1313 \r\nQ 1069 891 1326 650 \r\nQ 1584 409 2034 409 \r\nQ 2484 409 2743 651 \r\nQ 3003 894 3003 1313 \r\nQ 3003 1734 2745 1975 \r\nQ 2488 2216 2034 2216 \r\nz\r\nM 1403 2484 \r\nQ 997 2584 770 2862 \r\nQ 544 3141 544 3541 \r\nQ 544 4100 942 4425 \r\nQ 1341 4750 2034 4750 \r\nQ 2731 4750 3128 4425 \r\nQ 3525 4100 3525 3541 \r\nQ 3525 3141 3298 2862 \r\nQ 3072 2584 2669 2484 \r\nQ 3125 2378 3379 2068 \r\nQ 3634 1759 3634 1313 \r\nQ 3634 634 3220 271 \r\nQ 2806 -91 2034 -91 \r\nQ 1263 -91 848 271 \r\nQ 434 634 434 1313 \r\nQ 434 1759 690 2068 \r\nQ 947 2378 1403 2484 \r\nz\r\nM 1172 3481 \r\nQ 1172 3119 1398 2916 \r\nQ 1625 2713 2034 2713 \r\nQ 2441 2713 2670 2916 \r\nQ 2900 3119 2900 3481 \r\nQ 2900 3844 2670 4047 \r\nQ 2441 4250 2034 4250 \r\nQ 1625 4250 1398 4047 \r\nQ 1172 3844 1172 3481 \r\nz\r\n\" id=\"DejaVuSans-38\" transform=\"scale(0.015625)\"/>\r\n       </defs>\r\n       <use xlink:href=\"#DejaVuSans-30\"/>\r\n       <use x=\"63.623047\" xlink:href=\"#DejaVuSans-2e\"/>\r\n       <use x=\"95.410156\" xlink:href=\"#DejaVuSans-34\"/>\r\n       <use x=\"159.033203\" xlink:href=\"#DejaVuSans-38\"/>\r\n      </g>\r\n     </g>\r\n    </g>\r\n    <g id=\"ytick_2\">\r\n     <g id=\"line2d_8\">\r\n      <g>\r\n       <use style=\"stroke:#000000;stroke-width:0.8;\" x=\"50.14375\" xlink:href=\"#m7a20ecc36d\" y=\"393.434489\"/>\r\n      </g>\r\n     </g>\r\n     <g id=\"text_9\">\r\n      <!-- 0.49 -->\r\n      <g transform=\"translate(20.878125 397.233707)scale(0.1 -0.1)\">\r\n       <defs>\r\n        <path d=\"M 703 97 \r\nL 703 672 \r\nQ 941 559 1184 500 \r\nQ 1428 441 1663 441 \r\nQ 2288 441 2617 861 \r\nQ 2947 1281 2994 2138 \r\nQ 2813 1869 2534 1725 \r\nQ 2256 1581 1919 1581 \r\nQ 1219 1581 811 2004 \r\nQ 403 2428 403 3163 \r\nQ 403 3881 828 4315 \r\nQ 1253 4750 1959 4750 \r\nQ 2769 4750 3195 4129 \r\nQ 3622 3509 3622 2328 \r\nQ 3622 1225 3098 567 \r\nQ 2575 -91 1691 -91 \r\nQ 1453 -91 1209 -44 \r\nQ 966 3 703 97 \r\nz\r\nM 1959 2075 \r\nQ 2384 2075 2632 2365 \r\nQ 2881 2656 2881 3163 \r\nQ 2881 3666 2632 3958 \r\nQ 2384 4250 1959 4250 \r\nQ 1534 4250 1286 3958 \r\nQ 1038 3666 1038 3163 \r\nQ 1038 2656 1286 2365 \r\nQ 1534 2075 1959 2075 \r\nz\r\n\" id=\"DejaVuSans-39\" transform=\"scale(0.015625)\"/>\r\n       </defs>\r\n       <use xlink:href=\"#DejaVuSans-30\"/>\r\n       <use x=\"63.623047\" xlink:href=\"#DejaVuSans-2e\"/>\r\n       <use x=\"95.410156\" xlink:href=\"#DejaVuSans-34\"/>\r\n       <use x=\"159.033203\" xlink:href=\"#DejaVuSans-39\"/>\r\n      </g>\r\n     </g>\r\n    </g>\r\n    <g id=\"ytick_3\">\r\n     <g id=\"line2d_9\">\r\n      <g>\r\n       <use style=\"stroke:#000000;stroke-width:0.8;\" x=\"50.14375\" xlink:href=\"#m7a20ecc36d\" y=\"294.598125\"/>\r\n      </g>\r\n     </g>\r\n     <g id=\"text_10\">\r\n      <!-- 0.50 -->\r\n      <g transform=\"translate(20.878125 298.397344)scale(0.1 -0.1)\">\r\n       <use xlink:href=\"#DejaVuSans-30\"/>\r\n       <use x=\"63.623047\" xlink:href=\"#DejaVuSans-2e\"/>\r\n       <use x=\"95.410156\" xlink:href=\"#DejaVuSans-35\"/>\r\n       <use x=\"159.033203\" xlink:href=\"#DejaVuSans-30\"/>\r\n      </g>\r\n     </g>\r\n    </g>\r\n    <g id=\"ytick_4\">\r\n     <g id=\"line2d_10\">\r\n      <g>\r\n       <use style=\"stroke:#000000;stroke-width:0.8;\" x=\"50.14375\" xlink:href=\"#m7a20ecc36d\" y=\"195.761761\"/>\r\n      </g>\r\n     </g>\r\n     <g id=\"text_11\">\r\n      <!-- 0.51 -->\r\n      <g transform=\"translate(20.878125 199.56098)scale(0.1 -0.1)\">\r\n       <use xlink:href=\"#DejaVuSans-30\"/>\r\n       <use x=\"63.623047\" xlink:href=\"#DejaVuSans-2e\"/>\r\n       <use x=\"95.410156\" xlink:href=\"#DejaVuSans-35\"/>\r\n       <use x=\"159.033203\" xlink:href=\"#DejaVuSans-31\"/>\r\n      </g>\r\n     </g>\r\n    </g>\r\n    <g id=\"ytick_5\">\r\n     <g id=\"line2d_11\">\r\n      <g>\r\n       <use style=\"stroke:#000000;stroke-width:0.8;\" x=\"50.14375\" xlink:href=\"#m7a20ecc36d\" y=\"96.925398\"/>\r\n      </g>\r\n     </g>\r\n     <g id=\"text_12\">\r\n      <!-- 0.52 -->\r\n      <g transform=\"translate(20.878125 100.724616)scale(0.1 -0.1)\">\r\n       <use xlink:href=\"#DejaVuSans-30\"/>\r\n       <use x=\"63.623047\" xlink:href=\"#DejaVuSans-2e\"/>\r\n       <use x=\"95.410156\" xlink:href=\"#DejaVuSans-35\"/>\r\n       <use x=\"159.033203\" xlink:href=\"#DejaVuSans-32\"/>\r\n      </g>\r\n     </g>\r\n    </g>\r\n    <g id=\"text_13\">\r\n     <!-- Weighted Levenshtein Accuracy -->\r\n     <g transform=\"translate(14.798438 374.621562)rotate(-90)scale(0.1 -0.1)\">\r\n      <defs>\r\n       <path d=\"M 213 4666 \r\nL 850 4666 \r\nL 1831 722 \r\nL 2809 4666 \r\nL 3519 4666 \r\nL 4500 722 \r\nL 5478 4666 \r\nL 6119 4666 \r\nL 4947 0 \r\nL 4153 0 \r\nL 3169 4050 \r\nL 2175 0 \r\nL 1381 0 \r\nL 213 4666 \r\nz\r\n\" id=\"DejaVuSans-57\" transform=\"scale(0.015625)\"/>\r\n       <path d=\"M 603 3500 \r\nL 1178 3500 \r\nL 1178 0 \r\nL 603 0 \r\nL 603 3500 \r\nz\r\nM 603 4863 \r\nL 1178 4863 \r\nL 1178 4134 \r\nL 603 4134 \r\nL 603 4863 \r\nz\r\n\" id=\"DejaVuSans-69\" transform=\"scale(0.015625)\"/>\r\n       <path d=\"M 2906 1791 \r\nQ 2906 2416 2648 2759 \r\nQ 2391 3103 1925 3103 \r\nQ 1463 3103 1205 2759 \r\nQ 947 2416 947 1791 \r\nQ 947 1169 1205 825 \r\nQ 1463 481 1925 481 \r\nQ 2391 481 2648 825 \r\nQ 2906 1169 2906 1791 \r\nz\r\nM 3481 434 \r\nQ 3481 -459 3084 -895 \r\nQ 2688 -1331 1869 -1331 \r\nQ 1566 -1331 1297 -1286 \r\nQ 1028 -1241 775 -1147 \r\nL 775 -588 \r\nQ 1028 -725 1275 -790 \r\nQ 1522 -856 1778 -856 \r\nQ 2344 -856 2625 -561 \r\nQ 2906 -266 2906 331 \r\nL 2906 616 \r\nQ 2728 306 2450 153 \r\nQ 2172 0 1784 0 \r\nQ 1141 0 747 490 \r\nQ 353 981 353 1791 \r\nQ 353 2603 747 3093 \r\nQ 1141 3584 1784 3584 \r\nQ 2172 3584 2450 3431 \r\nQ 2728 3278 2906 2969 \r\nL 2906 3500 \r\nL 3481 3500 \r\nL 3481 434 \r\nz\r\n\" id=\"DejaVuSans-67\" transform=\"scale(0.015625)\"/>\r\n       <path d=\"M 1172 4494 \r\nL 1172 3500 \r\nL 2356 3500 \r\nL 2356 3053 \r\nL 1172 3053 \r\nL 1172 1153 \r\nQ 1172 725 1289 603 \r\nQ 1406 481 1766 481 \r\nL 2356 481 \r\nL 2356 0 \r\nL 1766 0 \r\nQ 1100 0 847 248 \r\nQ 594 497 594 1153 \r\nL 594 3053 \r\nL 172 3053 \r\nL 172 3500 \r\nL 594 3500 \r\nL 594 4494 \r\nL 1172 4494 \r\nz\r\n\" id=\"DejaVuSans-74\" transform=\"scale(0.015625)\"/>\r\n       <path d=\"M 628 4666 \r\nL 1259 4666 \r\nL 1259 531 \r\nL 3531 531 \r\nL 3531 0 \r\nL 628 0 \r\nL 628 4666 \r\nz\r\n\" id=\"DejaVuSans-4c\" transform=\"scale(0.015625)\"/>\r\n       <path d=\"M 191 3500 \r\nL 800 3500 \r\nL 1894 563 \r\nL 2988 3500 \r\nL 3597 3500 \r\nL 2284 0 \r\nL 1503 0 \r\nL 191 3500 \r\nz\r\n\" id=\"DejaVuSans-76\" transform=\"scale(0.015625)\"/>\r\n       <path d=\"M 2188 4044 \r\nL 1331 1722 \r\nL 3047 1722 \r\nL 2188 4044 \r\nz\r\nM 1831 4666 \r\nL 2547 4666 \r\nL 4325 0 \r\nL 3669 0 \r\nL 3244 1197 \r\nL 1141 1197 \r\nL 716 0 \r\nL 50 0 \r\nL 1831 4666 \r\nz\r\n\" id=\"DejaVuSans-41\" transform=\"scale(0.015625)\"/>\r\n       <path d=\"M 544 1381 \r\nL 544 3500 \r\nL 1119 3500 \r\nL 1119 1403 \r\nQ 1119 906 1312 657 \r\nQ 1506 409 1894 409 \r\nQ 2359 409 2629 706 \r\nQ 2900 1003 2900 1516 \r\nL 2900 3500 \r\nL 3475 3500 \r\nL 3475 0 \r\nL 2900 0 \r\nL 2900 538 \r\nQ 2691 219 2414 64 \r\nQ 2138 -91 1772 -91 \r\nQ 1169 -91 856 284 \r\nQ 544 659 544 1381 \r\nz\r\nM 1991 3584 \r\nL 1991 3584 \r\nz\r\n\" id=\"DejaVuSans-75\" transform=\"scale(0.015625)\"/>\r\n       <path d=\"M 2194 1759 \r\nQ 1497 1759 1228 1600 \r\nQ 959 1441 959 1056 \r\nQ 959 750 1161 570 \r\nQ 1363 391 1709 391 \r\nQ 2188 391 2477 730 \r\nQ 2766 1069 2766 1631 \r\nL 2766 1759 \r\nL 2194 1759 \r\nz\r\nM 3341 1997 \r\nL 3341 0 \r\nL 2766 0 \r\nL 2766 531 \r\nQ 2569 213 2275 61 \r\nQ 1981 -91 1556 -91 \r\nQ 1019 -91 701 211 \r\nQ 384 513 384 1019 \r\nQ 384 1609 779 1909 \r\nQ 1175 2209 1959 2209 \r\nL 2766 2209 \r\nL 2766 2266 \r\nQ 2766 2663 2505 2880 \r\nQ 2244 3097 1772 3097 \r\nQ 1472 3097 1187 3025 \r\nQ 903 2953 641 2809 \r\nL 641 3341 \r\nQ 956 3463 1253 3523 \r\nQ 1550 3584 1831 3584 \r\nQ 2591 3584 2966 3190 \r\nQ 3341 2797 3341 1997 \r\nz\r\n\" id=\"DejaVuSans-61\" transform=\"scale(0.015625)\"/>\r\n       <path d=\"M 2059 -325 \r\nQ 1816 -950 1584 -1140 \r\nQ 1353 -1331 966 -1331 \r\nL 506 -1331 \r\nL 506 -850 \r\nL 844 -850 \r\nQ 1081 -850 1212 -737 \r\nQ 1344 -625 1503 -206 \r\nL 1606 56 \r\nL 191 3500 \r\nL 800 3500 \r\nL 1894 763 \r\nL 2988 3500 \r\nL 3597 3500 \r\nL 2059 -325 \r\nz\r\n\" id=\"DejaVuSans-79\" transform=\"scale(0.015625)\"/>\r\n      </defs>\r\n      <use xlink:href=\"#DejaVuSans-57\"/>\r\n      <use x=\"93.001953\" xlink:href=\"#DejaVuSans-65\"/>\r\n      <use x=\"154.525391\" xlink:href=\"#DejaVuSans-69\"/>\r\n      <use x=\"182.308594\" xlink:href=\"#DejaVuSans-67\"/>\r\n      <use x=\"245.785156\" xlink:href=\"#DejaVuSans-68\"/>\r\n      <use x=\"309.164062\" xlink:href=\"#DejaVuSans-74\"/>\r\n      <use x=\"348.373047\" xlink:href=\"#DejaVuSans-65\"/>\r\n      <use x=\"409.896484\" xlink:href=\"#DejaVuSans-64\"/>\r\n      <use x=\"473.373047\" xlink:href=\"#DejaVuSans-20\"/>\r\n      <use x=\"505.160156\" xlink:href=\"#DejaVuSans-4c\"/>\r\n      <use x=\"559.123047\" xlink:href=\"#DejaVuSans-65\"/>\r\n      <use x=\"620.646484\" xlink:href=\"#DejaVuSans-76\"/>\r\n      <use x=\"679.826172\" xlink:href=\"#DejaVuSans-65\"/>\r\n      <use x=\"741.349609\" xlink:href=\"#DejaVuSans-6e\"/>\r\n      <use x=\"804.728516\" xlink:href=\"#DejaVuSans-73\"/>\r\n      <use x=\"856.828125\" xlink:href=\"#DejaVuSans-68\"/>\r\n      <use x=\"920.207031\" xlink:href=\"#DejaVuSans-74\"/>\r\n      <use x=\"959.416016\" xlink:href=\"#DejaVuSans-65\"/>\r\n      <use x=\"1020.939453\" xlink:href=\"#DejaVuSans-69\"/>\r\n      <use x=\"1048.722656\" xlink:href=\"#DejaVuSans-6e\"/>\r\n      <use x=\"1112.101562\" xlink:href=\"#DejaVuSans-20\"/>\r\n      <use x=\"1143.888672\" xlink:href=\"#DejaVuSans-41\"/>\r\n      <use x=\"1210.546875\" xlink:href=\"#DejaVuSans-63\"/>\r\n      <use x=\"1265.527344\" xlink:href=\"#DejaVuSans-63\"/>\r\n      <use x=\"1320.507812\" xlink:href=\"#DejaVuSans-75\"/>\r\n      <use x=\"1383.886719\" xlink:href=\"#DejaVuSans-72\"/>\r\n      <use x=\"1425\" xlink:href=\"#DejaVuSans-61\"/>\r\n      <use x=\"1486.279297\" xlink:href=\"#DejaVuSans-63\"/>\r\n      <use x=\"1541.259766\" xlink:href=\"#DejaVuSans-79\"/>\r\n     </g>\r\n    </g>\r\n   </g>\r\n   <g id=\"line2d_12\">\r\n    <path clip-path=\"url(#p860614ae04)\" d=\"M 75.507386 294.598125 \r\nL 80.631353 294.598125 \r\nL 85.75532 294.598125 \r\nL 90.879287 294.598125 \r\nL 96.003254 294.598125 \r\nL 101.127221 294.598125 \r\nL 106.251188 294.598125 \r\nL 111.375155 294.598125 \r\nL 116.499122 294.598125 \r\nL 121.623089 294.598125 \r\nL 126.747056 294.598125 \r\nL 131.871023 294.598125 \r\nL 136.99499 294.598125 \r\nL 142.118957 294.598125 \r\nL 147.242924 294.598125 \r\nL 152.36689 294.598125 \r\nL 157.490857 294.598125 \r\nL 162.614824 294.598125 \r\nL 167.738791 294.598125 \r\nL 172.862758 294.598125 \r\nL 177.986725 294.598125 \r\nL 183.110692 294.598125 \r\nL 188.234659 294.598125 \r\nL 193.358626 294.598125 \r\nL 198.482593 294.598125 \r\nL 203.60656 294.598125 \r\nL 208.730527 294.598125 \r\nL 213.854494 294.598125 \r\nL 218.978461 294.598125 \r\nL 224.102428 294.598125 \r\nL 229.226395 294.598125 \r\nL 234.350362 294.598125 \r\nL 239.474329 294.598125 \r\nL 244.598295 294.598125 \r\nL 249.722262 294.598125 \r\nL 254.846229 294.598125 \r\nL 259.970196 294.598125 \r\nL 265.094163 294.598125 \r\nL 270.21813 294.598125 \r\nL 275.342097 294.598125 \r\nL 280.466064 294.598125 \r\nL 285.590031 294.598125 \r\nL 290.713998 294.598125 \r\nL 295.837965 294.598125 \r\nL 300.961932 294.598125 \r\nL 306.085899 294.598125 \r\nL 311.209866 294.598125 \r\nL 316.333833 294.598125 \r\nL 321.4578 294.598125 \r\nL 326.581767 294.598125 \r\nL 331.705733 294.598125 \r\nL 336.8297 294.598125 \r\nL 341.953667 294.598125 \r\nL 347.077634 294.598125 \r\nL 352.201601 294.598125 \r\nL 357.325568 294.598125 \r\nL 362.449535 294.598125 \r\nL 367.573502 294.598125 \r\nL 372.697469 294.598125 \r\nL 377.821436 294.598125 \r\nL 382.945403 294.598125 \r\nL 388.06937 294.598125 \r\nL 393.193337 294.598125 \r\nL 398.317304 294.598125 \r\nL 403.441271 294.598125 \r\nL 408.565238 294.598125 \r\nL 413.689205 294.598125 \r\nL 418.813171 294.598125 \r\nL 423.937138 294.598125 \r\nL 429.061105 294.598125 \r\nL 434.185072 294.598125 \r\nL 439.309039 294.598125 \r\nL 444.433006 294.598125 \r\nL 449.556973 294.598125 \r\nL 454.68094 294.598125 \r\nL 459.804907 294.598125 \r\nL 464.928874 294.598125 \r\nL 470.052841 294.598125 \r\nL 475.176808 294.598125 \r\nL 480.300775 294.598125 \r\nL 485.424742 294.598125 \r\nL 490.548709 294.598125 \r\nL 495.672676 294.598125 \r\nL 500.796643 294.598125 \r\nL 505.92061 294.598125 \r\nL 511.044576 294.598125 \r\nL 516.168543 294.598125 \r\nL 521.29251 294.598125 \r\nL 526.416477 294.598125 \r\nL 531.540444 294.598125 \r\nL 536.664411 294.598125 \r\nL 541.788378 294.598125 \r\nL 546.912345 294.598125 \r\nL 552.036312 294.598125 \r\nL 557.160279 294.598125 \r\nL 562.284246 294.598125 \r\nL 567.408213 294.598125 \r\nL 572.53218 294.598125 \r\nL 577.656147 294.598125 \r\nL 582.780114 294.598125 \r\n\" style=\"fill:none;stroke:#1f77b4;stroke-linecap:square;stroke-width:1.5;\"/>\r\n   </g>\r\n   <g id=\"patch_3\">\r\n    <path d=\"M 50.14375 566.398125 \r\nL 50.14375 22.798125 \r\n\" style=\"fill:none;stroke:#000000;stroke-linecap:square;stroke-linejoin:miter;stroke-width:0.8;\"/>\r\n   </g>\r\n   <g id=\"patch_4\">\r\n    <path d=\"M 608.14375 566.398125 \r\nL 608.14375 22.798125 \r\n\" style=\"fill:none;stroke:#000000;stroke-linecap:square;stroke-linejoin:miter;stroke-width:0.8;\"/>\r\n   </g>\r\n   <g id=\"patch_5\">\r\n    <path d=\"M 50.14375 566.398125 \r\nL 608.14375 566.398125 \r\n\" style=\"fill:none;stroke:#000000;stroke-linecap:square;stroke-linejoin:miter;stroke-width:0.8;\"/>\r\n   </g>\r\n   <g id=\"patch_6\">\r\n    <path d=\"M 50.14375 22.798125 \r\nL 608.14375 22.798125 \r\n\" style=\"fill:none;stroke:#000000;stroke-linecap:square;stroke-linejoin:miter;stroke-width:0.8;\"/>\r\n   </g>\r\n   <g id=\"text_14\">\r\n    <!-- Classifier Accuracy vs. `Consec` Threshold for Window Size of 0.46 Seconds -->\r\n    <g transform=\"translate(100.790313 16.798125)scale(0.12 -0.12)\">\r\n     <defs>\r\n      <path d=\"M 2375 4863 \r\nL 2375 4384 \r\nL 1825 4384 \r\nQ 1516 4384 1395 4259 \r\nQ 1275 4134 1275 3809 \r\nL 1275 3500 \r\nL 2222 3500 \r\nL 2222 3053 \r\nL 1275 3053 \r\nL 1275 0 \r\nL 697 0 \r\nL 697 3053 \r\nL 147 3053 \r\nL 147 3500 \r\nL 697 3500 \r\nL 697 3744 \r\nQ 697 4328 969 4595 \r\nQ 1241 4863 1831 4863 \r\nL 2375 4863 \r\nz\r\n\" id=\"DejaVuSans-66\" transform=\"scale(0.015625)\"/>\r\n      <path d=\"M 269 3500 \r\nL 844 3500 \r\nL 1563 769 \r\nL 2278 3500 \r\nL 2956 3500 \r\nL 3675 769 \r\nL 4391 3500 \r\nL 4966 3500 \r\nL 4050 0 \r\nL 3372 0 \r\nL 2619 2869 \r\nL 1863 0 \r\nL 1184 0 \r\nL 269 3500 \r\nz\r\n\" id=\"DejaVuSans-77\" transform=\"scale(0.015625)\"/>\r\n      <path d=\"M 3425 4513 \r\nL 3425 3897 \r\nQ 3066 4069 2747 4153 \r\nQ 2428 4238 2131 4238 \r\nQ 1616 4238 1336 4038 \r\nQ 1056 3838 1056 3469 \r\nQ 1056 3159 1242 3001 \r\nQ 1428 2844 1947 2747 \r\nL 2328 2669 \r\nQ 3034 2534 3370 2195 \r\nQ 3706 1856 3706 1288 \r\nQ 3706 609 3251 259 \r\nQ 2797 -91 1919 -91 \r\nQ 1588 -91 1214 -16 \r\nQ 841 59 441 206 \r\nL 441 856 \r\nQ 825 641 1194 531 \r\nQ 1563 422 1919 422 \r\nQ 2459 422 2753 634 \r\nQ 3047 847 3047 1241 \r\nQ 3047 1584 2836 1778 \r\nQ 2625 1972 2144 2069 \r\nL 1759 2144 \r\nQ 1053 2284 737 2584 \r\nQ 422 2884 422 3419 \r\nQ 422 4038 858 4394 \r\nQ 1294 4750 2059 4750 \r\nQ 2388 4750 2728 4690 \r\nQ 3069 4631 3425 4513 \r\nz\r\n\" id=\"DejaVuSans-53\" transform=\"scale(0.015625)\"/>\r\n      <path d=\"M 353 3500 \r\nL 3084 3500 \r\nL 3084 2975 \r\nL 922 459 \r\nL 3084 459 \r\nL 3084 0 \r\nL 275 0 \r\nL 275 525 \r\nL 2438 3041 \r\nL 353 3041 \r\nL 353 3500 \r\nz\r\n\" id=\"DejaVuSans-7a\" transform=\"scale(0.015625)\"/>\r\n      <path d=\"M 2113 2584 \r\nQ 1688 2584 1439 2293 \r\nQ 1191 2003 1191 1497 \r\nQ 1191 994 1439 701 \r\nQ 1688 409 2113 409 \r\nQ 2538 409 2786 701 \r\nQ 3034 994 3034 1497 \r\nQ 3034 2003 2786 2293 \r\nQ 2538 2584 2113 2584 \r\nz\r\nM 3366 4563 \r\nL 3366 3988 \r\nQ 3128 4100 2886 4159 \r\nQ 2644 4219 2406 4219 \r\nQ 1781 4219 1451 3797 \r\nQ 1122 3375 1075 2522 \r\nQ 1259 2794 1537 2939 \r\nQ 1816 3084 2150 3084 \r\nQ 2853 3084 3261 2657 \r\nQ 3669 2231 3669 1497 \r\nQ 3669 778 3244 343 \r\nQ 2819 -91 2113 -91 \r\nQ 1303 -91 875 529 \r\nQ 447 1150 447 2328 \r\nQ 447 3434 972 4092 \r\nQ 1497 4750 2381 4750 \r\nQ 2619 4750 2861 4703 \r\nQ 3103 4656 3366 4563 \r\nz\r\n\" id=\"DejaVuSans-36\" transform=\"scale(0.015625)\"/>\r\n     </defs>\r\n     <use xlink:href=\"#DejaVuSans-43\"/>\r\n     <use x=\"69.824219\" xlink:href=\"#DejaVuSans-6c\"/>\r\n     <use x=\"97.607422\" xlink:href=\"#DejaVuSans-61\"/>\r\n     <use x=\"158.886719\" xlink:href=\"#DejaVuSans-73\"/>\r\n     <use x=\"210.986328\" xlink:href=\"#DejaVuSans-73\"/>\r\n     <use x=\"263.085938\" xlink:href=\"#DejaVuSans-69\"/>\r\n     <use x=\"290.869141\" xlink:href=\"#DejaVuSans-66\"/>\r\n     <use x=\"326.074219\" xlink:href=\"#DejaVuSans-69\"/>\r\n     <use x=\"353.857422\" xlink:href=\"#DejaVuSans-65\"/>\r\n     <use x=\"415.380859\" xlink:href=\"#DejaVuSans-72\"/>\r\n     <use x=\"456.494141\" xlink:href=\"#DejaVuSans-20\"/>\r\n     <use x=\"488.28125\" xlink:href=\"#DejaVuSans-41\"/>\r\n     <use x=\"554.939453\" xlink:href=\"#DejaVuSans-63\"/>\r\n     <use x=\"609.919922\" xlink:href=\"#DejaVuSans-63\"/>\r\n     <use x=\"664.900391\" xlink:href=\"#DejaVuSans-75\"/>\r\n     <use x=\"728.279297\" xlink:href=\"#DejaVuSans-72\"/>\r\n     <use x=\"769.392578\" xlink:href=\"#DejaVuSans-61\"/>\r\n     <use x=\"830.671875\" xlink:href=\"#DejaVuSans-63\"/>\r\n     <use x=\"885.652344\" xlink:href=\"#DejaVuSans-79\"/>\r\n     <use x=\"944.832031\" xlink:href=\"#DejaVuSans-20\"/>\r\n     <use x=\"976.619141\" xlink:href=\"#DejaVuSans-76\"/>\r\n     <use x=\"1035.798828\" xlink:href=\"#DejaVuSans-73\"/>\r\n     <use x=\"1087.898438\" xlink:href=\"#DejaVuSans-2e\"/>\r\n     <use x=\"1119.685547\" xlink:href=\"#DejaVuSans-20\"/>\r\n     <use x=\"1151.472656\" xlink:href=\"#DejaVuSans-60\"/>\r\n     <use x=\"1201.472656\" xlink:href=\"#DejaVuSans-43\"/>\r\n     <use x=\"1271.296875\" xlink:href=\"#DejaVuSans-6f\"/>\r\n     <use x=\"1332.478516\" xlink:href=\"#DejaVuSans-6e\"/>\r\n     <use x=\"1395.857422\" xlink:href=\"#DejaVuSans-73\"/>\r\n     <use x=\"1447.957031\" xlink:href=\"#DejaVuSans-65\"/>\r\n     <use x=\"1509.480469\" xlink:href=\"#DejaVuSans-63\"/>\r\n     <use x=\"1564.460938\" xlink:href=\"#DejaVuSans-60\"/>\r\n     <use x=\"1614.460938\" xlink:href=\"#DejaVuSans-20\"/>\r\n     <use x=\"1646.248047\" xlink:href=\"#DejaVuSans-54\"/>\r\n     <use x=\"1707.332031\" xlink:href=\"#DejaVuSans-68\"/>\r\n     <use x=\"1770.710938\" xlink:href=\"#DejaVuSans-72\"/>\r\n     <use x=\"1809.574219\" xlink:href=\"#DejaVuSans-65\"/>\r\n     <use x=\"1871.097656\" xlink:href=\"#DejaVuSans-73\"/>\r\n     <use x=\"1923.197266\" xlink:href=\"#DejaVuSans-68\"/>\r\n     <use x=\"1986.576172\" xlink:href=\"#DejaVuSans-6f\"/>\r\n     <use x=\"2047.757812\" xlink:href=\"#DejaVuSans-6c\"/>\r\n     <use x=\"2075.541016\" xlink:href=\"#DejaVuSans-64\"/>\r\n     <use x=\"2139.017578\" xlink:href=\"#DejaVuSans-20\"/>\r\n     <use x=\"2170.804688\" xlink:href=\"#DejaVuSans-66\"/>\r\n     <use x=\"2206.009766\" xlink:href=\"#DejaVuSans-6f\"/>\r\n     <use x=\"2267.191406\" xlink:href=\"#DejaVuSans-72\"/>\r\n     <use x=\"2308.304688\" xlink:href=\"#DejaVuSans-20\"/>\r\n     <use x=\"2340.091797\" xlink:href=\"#DejaVuSans-57\"/>\r\n     <use x=\"2436.71875\" xlink:href=\"#DejaVuSans-69\"/>\r\n     <use x=\"2464.501953\" xlink:href=\"#DejaVuSans-6e\"/>\r\n     <use x=\"2527.880859\" xlink:href=\"#DejaVuSans-64\"/>\r\n     <use x=\"2591.357422\" xlink:href=\"#DejaVuSans-6f\"/>\r\n     <use x=\"2652.539062\" xlink:href=\"#DejaVuSans-77\"/>\r\n     <use x=\"2734.326172\" xlink:href=\"#DejaVuSans-20\"/>\r\n     <use x=\"2766.113281\" xlink:href=\"#DejaVuSans-53\"/>\r\n     <use x=\"2829.589844\" xlink:href=\"#DejaVuSans-69\"/>\r\n     <use x=\"2857.373047\" xlink:href=\"#DejaVuSans-7a\"/>\r\n     <use x=\"2909.863281\" xlink:href=\"#DejaVuSans-65\"/>\r\n     <use x=\"2971.386719\" xlink:href=\"#DejaVuSans-20\"/>\r\n     <use x=\"3003.173828\" xlink:href=\"#DejaVuSans-6f\"/>\r\n     <use x=\"3064.355469\" xlink:href=\"#DejaVuSans-66\"/>\r\n     <use x=\"3099.560547\" xlink:href=\"#DejaVuSans-20\"/>\r\n     <use x=\"3131.347656\" xlink:href=\"#DejaVuSans-30\"/>\r\n     <use x=\"3194.970703\" xlink:href=\"#DejaVuSans-2e\"/>\r\n     <use x=\"3226.757812\" xlink:href=\"#DejaVuSans-34\"/>\r\n     <use x=\"3290.380859\" xlink:href=\"#DejaVuSans-36\"/>\r\n     <use x=\"3354.003906\" xlink:href=\"#DejaVuSans-20\"/>\r\n     <use x=\"3385.791016\" xlink:href=\"#DejaVuSans-53\"/>\r\n     <use x=\"3449.267578\" xlink:href=\"#DejaVuSans-65\"/>\r\n     <use x=\"3510.791016\" xlink:href=\"#DejaVuSans-63\"/>\r\n     <use x=\"3565.771484\" xlink:href=\"#DejaVuSans-6f\"/>\r\n     <use x=\"3626.953125\" xlink:href=\"#DejaVuSans-6e\"/>\r\n     <use x=\"3690.332031\" xlink:href=\"#DejaVuSans-64\"/>\r\n     <use x=\"3753.808594\" xlink:href=\"#DejaVuSans-73\"/>\r\n    </g>\r\n   </g>\r\n   <g id=\"legend_1\">\r\n    <g id=\"patch_7\">\r\n     <path d=\"M 597.14375 561.398125 \r\nL 601.14375 561.398125 \r\nQ 603.14375 561.398125 603.14375 559.398125 \r\nL 603.14375 555.398125 \r\nQ 603.14375 553.398125 601.14375 553.398125 \r\nL 597.14375 553.398125 \r\nQ 595.14375 553.398125 595.14375 555.398125 \r\nL 595.14375 559.398125 \r\nQ 595.14375 561.398125 597.14375 561.398125 \r\nz\r\n\" style=\"fill:#ffffff;opacity:0.8;stroke:#cccccc;stroke-linejoin:miter;\"/>\r\n    </g>\r\n   </g>\r\n  </g>\r\n </g>\r\n <defs>\r\n  <clipPath id=\"p860614ae04\">\r\n   <rect height=\"543.6\" width=\"558\" x=\"50.14375\" y=\"22.798125\"/>\r\n  </clipPath>\r\n </defs>\r\n</svg>\r\n",
      "image/png": "[encoded data removed]"
     },
     "metadata": {
      "needs_background": "light"
     }
    }
   ],
   "source": [
    "best_heights = []\n",
    "best_value = 0\n",
    "for acc in ave_accuracies_per_consec_val.values():\n",
    "    if round(acc, 5) > round(best_value, 5):  #need to round because python maintains its floats very imprecisly\n",
    "        best_value = acc\n",
    "\n",
    "for key, value in ave_accuracies_per_consec_val.items():\n",
    "    if round(value, 5) == round(best_value, 5):\n",
    "        best_heights.append(key)\n",
    "\n",
    "plt.figure(figsize=(10, 10))\n",
    "plt.plot(ave_accuracies_per_consec_val.keys(), ave_accuracies_per_consec_val.values())\n",
    "#plt.vlines(best_heights[0], 0, best_value, linestyle=\":\", label=f\"Best Ranges: {round(best_heights[0], 2)} to {round(best_heights[len(best_heights) - 1], 2)}, Accuracy = {round(best_value, 2)}\")\n",
    "#plt.vlines(best_heights[len(best_heights) - 1], 0, best_value, linestyle=\":\")\n",
    "#plt.axvspan(best_heights[0], best_heights[len(best_heights) - 1], alpha=0.1, color='red')\n",
    "\n",
    "plt.legend(loc = \"lower right\")\n",
    "plt.ylabel(\"Weighted Levenshtein Accuracy\")\n",
    "plt.xlabel(\"`Consec` Threshold\")\n",
    "plt.title(\"Classifier Accuracy vs. `Consec` Threshold for Window Size of 0.46 Seconds\")\n",
    "plt.show()"
   ]
  },
  {
   "cell_type": "code",
   "execution_count": 20,
   "metadata": {},
   "outputs": [
    {
     "output_type": "error",
     "ename": "TypeError",
     "evalue": "type list doesn't define __round__ method",
     "traceback": [
      "\u001b[1;31m---------------------------------------------------------------------------\u001b[0m",
      "\u001b[1;31mTypeError\u001b[0m                                 Traceback (most recent call last)",
      "\u001b[1;32m<ipython-input-20-47213065a673>\u001b[0m in \u001b[0;36m<module>\u001b[1;34m\u001b[0m\n\u001b[0;32m      2\u001b[0m \u001b[0mbest_value\u001b[0m \u001b[1;33m=\u001b[0m \u001b[1;36m0\u001b[0m\u001b[1;33m\u001b[0m\u001b[1;33m\u001b[0m\u001b[0m\n\u001b[0;32m      3\u001b[0m \u001b[1;32mfor\u001b[0m \u001b[0mvalue\u001b[0m \u001b[1;32min\u001b[0m \u001b[0mall_accuracies\u001b[0m\u001b[1;33m.\u001b[0m\u001b[0mvalues\u001b[0m\u001b[1;33m(\u001b[0m\u001b[1;33m)\u001b[0m\u001b[1;33m:\u001b[0m\u001b[1;33m\u001b[0m\u001b[1;33m\u001b[0m\u001b[0m\n\u001b[1;32m----> 4\u001b[1;33m     \u001b[1;32mif\u001b[0m \u001b[0mround\u001b[0m\u001b[1;33m(\u001b[0m\u001b[0mvalue\u001b[0m\u001b[1;33m,\u001b[0m \u001b[1;36m5\u001b[0m\u001b[1;33m)\u001b[0m \u001b[1;33m>\u001b[0m \u001b[0mround\u001b[0m\u001b[1;33m(\u001b[0m\u001b[0mbest_value\u001b[0m\u001b[1;33m,\u001b[0m \u001b[1;36m5\u001b[0m\u001b[1;33m)\u001b[0m\u001b[1;33m:\u001b[0m  \u001b[1;31m#need to round because python maintains its floats very imprecisly\u001b[0m\u001b[1;33m\u001b[0m\u001b[1;33m\u001b[0m\u001b[0m\n\u001b[0m\u001b[0;32m      5\u001b[0m         \u001b[0mbest_value\u001b[0m \u001b[1;33m=\u001b[0m \u001b[0mvalue\u001b[0m\u001b[1;33m\u001b[0m\u001b[1;33m\u001b[0m\u001b[0m\n\u001b[0;32m      6\u001b[0m \u001b[1;33m\u001b[0m\u001b[0m\n",
      "\u001b[1;31mTypeError\u001b[0m: type list doesn't define __round__ method"
     ]
    }
   ],
   "source": [
    "best_consecs = []\n",
    "best_value = 0\n",
    "for wav_values in all_accuracies.values():\n",
    "    for value in wav_values:\n",
    "        if round(value, 5) > round(best_value, 5):  #need to round because python maintains its floats very imprecisly\n",
    "            best_value = value\n",
    "\n",
    "for key, value in all_accuracies.items():\n",
    "    if round(value, 5) == round(best_value, 5):\n",
    "        best_consecs.append(key)\n",
    "\n",
    "print(\"Best consec threshold values:\", best_consecs)\n",
    "print(\"Accuracy with best consec threshold:\", all_accuracies[best_consecs[0]])"
   ]
  },
  {
   "cell_type": "code",
   "execution_count": null,
   "metadata": {},
   "outputs": [],
   "source": []
  }
 ],
 "metadata": {
  "kernelspec": {
   "name": "python3810jvsc74a57bd0c4dc433831b506e0d25481c84a652fa4d2aed8e252441e22b25d2076b86b7e5b",
   "display_name": "Python 3.8.10 64-bit"
  },
  "language_info": {
   "codemirror_mode": {
    "name": "ipython",
    "version": 3
   },
   "file_extension": ".py",
   "mimetype": "text/x-python",
   "name": "python",
   "nbconvert_exporter": "python",
   "pygments_lexer": "ipython3",
   "version": "3.8.10"
  },
  "metadata": {
   "interpreter": {
    "hash": "c4dc433831b506e0d25481c84a652fa4d2aed8e252441e22b25d2076b86b7e5b"
   }
  }
 },
 "nbformat": 4,
 "nbformat_minor": 5
}