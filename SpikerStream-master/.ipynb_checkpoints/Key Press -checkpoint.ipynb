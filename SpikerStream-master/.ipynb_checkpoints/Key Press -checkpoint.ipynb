{
 "cells": [
  {
   "cell_type": "code",
   "execution_count": 1,
   "metadata": {},
   "outputs": [],
   "source": [
    "from pynput.keyboard import Listener\n",
    "import logging\n",
    "\n",
    "# Setup logging\n",
    "# This will save a list of key presses and key releases as a textfile in the same directory we are in.\n",
    "for handler in logging.root.handlers[:]:\n",
    "    logging.root.removeHandler(handler)\n",
    "logging.basicConfig(filename=\"filename.txt\", level=logging.DEBUG, format='%(asctime)s: %(message)s')\n",
    "\n",
    "# This logs the key press and stops when the 's' key is pressed.\n",
    "def on_press(key):  # The function that's called when a key is pressed\n",
    "    logging.info(\"Key pressed: {0}\".format(key))\n",
    "    if key.char == 's':\n",
    "        listener.stop()\n",
    "    \n",
    "# This logs the key release (can probably just put pass so we don't log it)\n",
    "def on_release(key):  # The function that's called when a key is released\n",
    "    logging.info(\"Key released: {0}\".format(key))\n",
    "\n",
    "with Listener(on_press=on_press, on_release=on_release) as listener:  # Create an instance of Listener\n",
    "    listener.join()  # Join the listener thread to the main thread to keep waiting for keys"
   ]
  }
 ],
 "metadata": {
  "kernelspec": {
   "display_name": "Python 3",
   "language": "python",
   "name": "python3"
  },
  "language_info": {
   "codemirror_mode": {
    "name": "ipython",
    "version": 3
   },
   "file_extension": ".py",
   "mimetype": "text/x-python",
   "name": "python",
   "nbconvert_exporter": "python",
   "pygments_lexer": "ipython3",
   "version": "3.9.0"
  }
 },
 "nbformat": 4,
 "nbformat_minor": 4
}
