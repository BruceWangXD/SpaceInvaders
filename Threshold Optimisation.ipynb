{
 "cells": [
  {
   "cell_type": "code",
   "execution_count": 13,
   "id": "7e0b933d",
   "metadata": {},
   "outputs": [],
   "source": [
    "import numpy as np\n",
    "import pandas as pd\n",
    "import matplotlib.pyplot as plt\n",
    "import time\n",
    "import wave, struct\n",
    "from copy import deepcopy\n",
    "\n",
    "\n",
    "from scipy.io import wavfile\n",
    "\n",
    "\n",
    "from Classifier.load_data import load_training_data\n",
    "\n",
    "from Classifier.plot_data import plot_labelled_wave, plot_predictions, plot_detection_errors\n",
    "\n",
    "from Classifier.classifier import streaming_classifier\n",
    "\n"
   ]
  },
  {
   "cell_type": "code",
   "execution_count": 11,
   "id": "fea6cb6c",
   "metadata": {},
   "outputs": [
    {
     "name": "stdout",
     "output_type": "stream",
     "text": [
      "dict_keys(['left-middle-right-middle', 'left-middle', 'left-middle-right-steph', 'right-middle', 'left-middle-right-steph2', 'left-middle-right-middle#2']) dict_keys(['left-middle-right-middle', 'left-middle', 'left-middle-right-steph', 'right-middle', 'left-middle-right-steph2', 'left-middle-right-middle#2'])\n"
     ]
    },
    {
     "name": "stderr",
     "output_type": "stream",
     "text": [
      "/Users/billydodds/Documents/Uni/DATA3888/Aqua10/Classifier/load_data.py:68: ParserWarning: Falling back to the 'python' engine because the 'c' engine does not support regex separators (separators > 1 char and different from '\\s+' are interpreted as regex); you can avoid this warning by specifying engine='python'.\n",
      "  labels_dat = pd.read_csv(path+file, sep=\",\\t\", skiprows=1)\n"
     ]
    }
   ],
   "source": [
    "\n",
    "waves, labels, samprate = load_training_data(path = \"/Users/billydodds/Documents/Uni/DATA3888/Aqua10/Datasets/Good Data - Sandeep no errors/\",\n",
    "                       scale_factor= 512/(2**13 - 1),\n",
    "                       blacklist = [\"blink\", \"different\", \"fast\", \"slow\", \"eyebrow\", \"left-right-middle-sandeep\", \"left-right-middle-marina\"])\n"
   ]
  },
  {
   "cell_type": "code",
   "execution_count": 14,
   "id": "2f9a6118",
   "metadata": {},
   "outputs": [
    {
     "name": "stdout",
     "output_type": "stream",
     "text": [
      "1.0 0.7899159663865546\n",
      "1.5 0.8728813559322034\n",
      "2.0 0.9244444444444444\n",
      "2.5 0.9541284403669725\n",
      "3.0 0.9765258215962441\n",
      "3.5 0.9765258215962441\n",
      "4.0 0.9765258215962441\n",
      "4.5 0.9765258215962441\n",
      "5.0 0.9765258215962441\n",
      "5.5 0.976303317535545\n",
      "6.0 0.9760765550239234\n",
      "6.5 0.9711538461538461\n",
      "7.0 0.9504950495049505\n",
      "7.5 0.934010152284264\n",
      "8.0 0.8709677419354839\n",
      "8.5 0.8181818181818182\n",
      "9.0 0.7544910179640718\n",
      "9.5 0.6918238993710691\n",
      "10.0 0.5945945945945946\n"
     ]
    }
   ],
   "source": [
    "\n",
    "range_opt_window = 0.6432\n",
    "\n",
    "\n",
    "\n",
    "st_window = 10 # Seconds\n",
    "\n",
    "\n",
    "\n",
    "before_buffer = 0.7\n",
    "after_buffer = 1\n",
    "\n",
    "st_list = []\n",
    "f_score_list = []\n",
    "\n",
    "for st_scale in np.linspace(1, 10, 19):\n",
    "\n",
    "    fps = 0\n",
    "    fns = 0\n",
    "    tps = 0\n",
    "\n",
    "\n",
    "    i=0\n",
    "    for key in waves.keys():\n",
    "\n",
    "        predictions, predictions_timestamps, predictions_storage = streaming_classifier(\n",
    "            waves[key],\n",
    "            samprate,\n",
    "            window_size = 1.5, # time plotted in window [s]\n",
    "            N_loops_over_window = 15, # implicitly defines buffer to be 1/x of the window\n",
    "            total_time = None,  # max time\n",
    "            hyp_detection_buffer_end = 0.3, # seconds - how much time to shave off either end of the window in order to define the middle portion\n",
    "            hyp_detection_buffer_start = 1.5 - 0.3 - range_opt_window,\n",
    "            hyp_event_smart_threshold_window = st_window, \n",
    "            hyp_event_smart_threshold_factor = st_scale, \n",
    "            hyp_calibration_statistic_function = lambda x: np.std(x), # Function that calculates the calibration statistic\n",
    "            hyp_test_statistic_function = lambda x: np.max(x) - np.min(x), # Function that calculates the test statistic\n",
    "            hyp_event_history = 5,\n",
    "            hyp_consecutive_triggers = 3,\n",
    "            hyp_consecutive_reset = 1,\n",
    "            plot = False,\n",
    "            store_events = True, \n",
    "            verbose=False,\n",
    "            live = False\n",
    "        )\n",
    "\n",
    "        actual_times = [(time-before_buffer, time+after_buffer) for time in labels[key].time]\n",
    "        actual_leftovers = deepcopy(actual_times)\n",
    "        pred_leftovers = deepcopy(predictions_timestamps)\n",
    "        \n",
    "        tps += len(actual_times)\n",
    "\n",
    "\n",
    "        for act_times in actual_times:\n",
    "            if act_times[1] < st_window:\n",
    "                actual_leftovers.remove(act_times)\n",
    "                continue\n",
    "            for pred_times in predictions_timestamps:\n",
    "                if act_times[0] < pred_times[1] and act_times[1] > pred_times[0] and pred_times in pred_leftovers and act_times in actual_leftovers:\n",
    "                    actual_leftovers.remove(act_times)\n",
    "                    pred_leftovers.remove(pred_times)\n",
    "\n",
    "        tps -= len(actual_leftovers)\n",
    "    \n",
    "        fns += len(actual_leftovers)\n",
    "        fps += len(pred_leftovers)\n",
    "\n",
    "\n",
    "        i+=1\n",
    "        \n",
    "        \n",
    "    fscore = tps/(tps+0.5*(fns+fps))\n",
    "        \n",
    "    print(st_scale, fscore)\n",
    "    st_list.append(st_scale)\n",
    "    f_score_list.append(fscore)\n",
    "\n",
    "\n",
    "\n",
    "    \n",
    "    "
   ]
  },
  {
   "cell_type": "code",
   "execution_count": 23,
   "id": "be369b11",
   "metadata": {},
   "outputs": [
    {
     "data": {
      "text/plain": [
       "Text(0, 0.5, 'F-Score')"
      ]
     },
     "execution_count": 23,
     "metadata": {},
     "output_type": "execute_result"
    },
    {
     "data": {
      "image/png": "[encoded data removed]",
      "text/plain": [
       "<Figure size 432x288 with 1 Axes>"
      ]
     },
     "metadata": {
      "needs_background": "light"
     },
     "output_type": "display_data"
    }
   ],
   "source": [
    "plt.plot(st_list, f_score_list)\n",
    "plt.title(\"F-Score vs. Threshold Factor\\n(Standard Deviation Calibration Stat)\")\n",
    "plt.xlabel(\"Threshold Factor\")\n",
    "plt.ylabel(\"F-Score\")"
   ]
  },
  {
   "cell_type": "code",
   "execution_count": null,
   "id": "3556c1e2",
   "metadata": {},
   "outputs": [],
   "source": []
  }
 ],
 "metadata": {
  "kernelspec": {
   "display_name": "Python 3",
   "language": "python",
   "name": "python3"
  },
  "language_info": {
   "codemirror_mode": {
    "name": "ipython",
    "version": 3
   },
   "file_extension": ".py",
   "mimetype": "text/x-python",
   "name": "python",
   "nbconvert_exporter": "python",
   "pygments_lexer": "ipython3",
   "version": "3.9.0"
  }
 },
 "nbformat": 4,
 "nbformat_minor": 5
}
