{
 "cells": [
  {
   "cell_type": "code",
   "execution_count": 1,
   "metadata": {},
   "outputs": [],
   "source": [
    "from Classifier.load_data import read_arduino, process_data, read_arduinbro, load_training_data\r\n",
    "from Classifier.classifier import classify_event, zeroes_classifier, one_pronged_smoothing_classifier, streaming_classifier\r\n",
    "\r\n",
    "from copy import deepcopy\r\n",
    "from Levenshtein import distance as levenshtein_distance\r\n",
    "from scipy import signal\r\n",
    "import serial\r\n",
    "import numpy as np\r\n",
    "import matplotlib.pyplot as plt\r\n",
    "import time\r\n",
    "import pandas as pd\r\n",
    "from scipy.io import wavfile"
   ]
  },
  {
   "cell_type": "code",
   "execution_count": 63,
   "metadata": {},
   "outputs": [],
   "source": [
    "import numba\n",
    "\n",
    "@njit\n",
    "def get_event_regions(wav_array, samprate, labels_dat, before_buffer = 0.7,\n",
    "                       after_buffer = 1):\n",
    "    \n",
    "    time_seq = np.linspace(1, len(wav_array), len(wav_array))/samprate\n",
    "\n",
    "    \n",
    "\n",
    "    left_events_bool = np.array([False]*len(time_seq))\n",
    "    for time in labels_dat.time[labels_dat.label == \"L\"]:\n",
    "        left_events_bool = ( (time_seq > time - before_buffer) & (time_seq < time+after_buffer) ) | left_events_bool\n",
    "\n",
    "    right_events_bool = np.array([False]*len(time_seq))\n",
    "    for time in labels_dat.time[labels_dat.label == \"R\"]:\n",
    "        right_events_bool = ( (time_seq > time - before_buffer) & (time_seq < time+after_buffer) ) | right_events_bool\n",
    "\n",
    "    event_bool = np.bitwise_or(left_events_bool, right_events_bool)\n",
    "    return event_bool\n",
    "\n",
    "\n",
    "\n",
    "def contrast_all_files(window_size, test_stat_fn,\n",
    "                samprate,       #not important\n",
    "                waves,     #not important\n",
    "                labels):   #not important\n",
    "\n",
    "    event_test_stats = np.array([])\n",
    "    non_event_test_stats = np.array([])\n",
    "    for key in waves.keys():\n",
    "        wav_array = waves[key]\n",
    "        labels_dat = labels[key]\n",
    "        \n",
    "        total_time = len(wav_array)/samprate\n",
    "        \n",
    "        events_bool = get_event_regions(wav_array, samprate, labels_dat)\n",
    "        \n",
    "        index = 0\n",
    "        step = int(0.1*samprate)\n",
    "        test_stats = np.array([None]*len(wav_array))\n",
    "    \n",
    "        while index + 1 < len(wav_array):\n",
    "            subset = wav_array[index:(index+window_size)]\n",
    "            test_stats[index:index+step] = test_stat_fn(subset)\n",
    "            index += step\n",
    "        #print(\"test_stats\", test_stats[events_bool])\n",
    "        #print(\"len test stats: \", len(test_stats[events_bool]) + len(test_stats[~events_bool]))\n",
    "        #print(\"event_test_stats\", event_test_stats)\n",
    "        event_test_stats = np.append(event_test_stats, test_stats[events_bool])\n",
    "        non_event_test_stats = np.append(non_event_test_stats, test_stats[~events_bool])\n",
    "    #need to fix appends ^\n",
    "    if len(event_test_stats) > 0 and len(non_event_test_stats) > 0:\n",
    "        contrast_stat = (np.amin(event_test_stats) - np.amax(non_event_test_stats))\n",
    "        print(contrast_stat)\n",
    "        return contrast_stat\n",
    "    else:\n",
    "        print(\"len 0!!!!\")"
   ]
  },
  {
   "cell_type": "code",
   "execution_count": 9,
   "metadata": {},
   "outputs": [],
   "source": [
    "def range_test_stat(subset):\n",
    "    return np.max(subset) - np.min(subset)"
   ]
  },
  {
   "cell_type": "code",
   "execution_count": 69,
   "metadata": {
    "tags": []
   },
   "outputs": [
    {
     "output_type": "stream",
     "name": "stdout",
     "text": [
      "dict_keys(['left-middle-right-middle#2', 'left-middle-right-middle', 'left-middle-right-steph', 'left-middle-right-steph2', 'left-middle', 'left-right-middle-marina', 'left-right-middle-marina2', 'left-right-middle-marina3', 'left-right-middle-sandeep', 'right-middle']) dict_keys(['left-middle-right-middle#2', 'left-middle-right-middle', 'left-middle-right-steph', 'left-middle-right-steph2', 'left-middle', 'left-right-middle-marina', 'left-right-middle-marina2', 'left-right-middle-marina3', 'left-right-middle-sandeep', 'right-middle'])\n",
      "c:\\Users\\darap\\Documents\\School\\University\\2021, Sem. 1\\DATA3888\\Aqua10\\Classifier\\load_data.py:68: ParserWarning: Falling back to the 'python' engine because the 'c' engine does not support regex separators (separators > 1 char and different from '\\s+' are interpreted as regex); you can avoid this warning by specifying engine='python'.\n",
      "  labels_dat = pd.read_csv(path+file, sep=\",\\t\", skiprows=1)\n"
     ]
    },
    {
     "output_type": "error",
     "ename": "TypeError",
     "evalue": "'int' object is not subscriptable",
     "traceback": [
      "\u001b[1;31m---------------------------------------------------------------------------\u001b[0m",
      "\u001b[1;31mTypeError\u001b[0m                                 Traceback (most recent call last)",
      "\u001b[1;32m<ipython-input-69-aa903497b84e>\u001b[0m in \u001b[0;36m<module>\u001b[1;34m\u001b[0m\n\u001b[0;32m      4\u001b[0m \u001b[1;31m#print(\"samprate: \", samprate1)\u001b[0m\u001b[1;33m\u001b[0m\u001b[1;33m\u001b[0m\u001b[1;33m\u001b[0m\u001b[0m\n\u001b[0;32m      5\u001b[0m \u001b[0mcontrasts\u001b[0m \u001b[1;33m=\u001b[0m \u001b[1;33m[\u001b[0m\u001b[1;33m]\u001b[0m\u001b[1;33m\u001b[0m\u001b[1;33m\u001b[0m\u001b[0m\n\u001b[1;32m----> 6\u001b[1;33m \u001b[0mcontrast_all_files\u001b[0m\u001b[1;33m(\u001b[0m\u001b[0mwindow_size\u001b[0m \u001b[1;33m=\u001b[0m \u001b[1;36m1\u001b[0m\u001b[1;33m,\u001b[0m \u001b[0mtest_stat_fn\u001b[0m\u001b[1;33m=\u001b[0m\u001b[0mrange_test_stat\u001b[0m\u001b[1;33m,\u001b[0m \u001b[0msamprate\u001b[0m \u001b[1;33m=\u001b[0m \u001b[0msamprate\u001b[0m\u001b[1;33m[\u001b[0m\u001b[1;36m0\u001b[0m\u001b[1;33m]\u001b[0m\u001b[1;33m,\u001b[0m \u001b[0mwaves\u001b[0m \u001b[1;33m=\u001b[0m \u001b[0mwaves1\u001b[0m\u001b[1;33m[\u001b[0m\u001b[1;36m0\u001b[0m\u001b[1;33m]\u001b[0m\u001b[1;33m,\u001b[0m \u001b[0mlabels\u001b[0m \u001b[1;33m=\u001b[0m \u001b[0mlabels1\u001b[0m\u001b[1;33m[\u001b[0m\u001b[1;36m0\u001b[0m\u001b[1;33m]\u001b[0m\u001b[1;33m)\u001b[0m\u001b[1;33m\u001b[0m\u001b[1;33m\u001b[0m\u001b[0m\n\u001b[0m\u001b[0;32m      7\u001b[0m \u001b[1;32mfor\u001b[0m \u001b[0mx\u001b[0m \u001b[1;32min\u001b[0m \u001b[0mrange\u001b[0m\u001b[1;33m(\u001b[0m\u001b[1;36m1\u001b[0m\u001b[1;33m,\u001b[0m \u001b[1;36m20000\u001b[0m\u001b[1;33m,\u001b[0m \u001b[1;36m100\u001b[0m\u001b[1;33m)\u001b[0m\u001b[1;33m:\u001b[0m\u001b[1;33m\u001b[0m\u001b[1;33m\u001b[0m\u001b[0m\n\u001b[0;32m      8\u001b[0m     contrasts.append(contrast_all_files(window_size = x, test_stat_fn = range_test_stat,\n",
      "\u001b[1;31mTypeError\u001b[0m: 'int' object is not subscriptable"
     ]
    }
   ],
   "source": [
    "waves1, labels1, samprate1 = load_training_data(path = \"/Users/darap/Documents/School/University/2021, Sem. 1/DATA3888/Aqua10/Datasets/Good Data - Sandeep no errors/\",\n",
    "                       scale_factor= 512/(2**13 - 1),\n",
    "                       blacklist = [\"blink\", \"different\", \"fast\", \"slow\", \"eyebrow\"])\n",
    "#print(\"samprate: \", samprate1)\n",
    "contrasts = []\n",
    "for key in waves1.keys():\n",
    "    print(\"JITTING\")\n",
    "    contrast_all_files(window_size = 1, test_stat_fn=range_test_stat, samprate = samprate[key], waves = waves1[key], labels = labels1[key])\n",
    "    print(\"JITTING DONE\")\n",
    "    break\n",
    "for x in range(1, 20000, 100):\n",
    "    contrasts.append(contrast_all_files(window_size = x, test_stat_fn = range_test_stat,\n",
    "                    samprate = samprate1,\n",
    "                    waves = waves1,\n",
    "                    labels = labels1))\n"
   ]
  }
 ],
 "metadata": {
  "kernelspec": {
   "name": "python395jvsc74a57bd07d845306f7225881f10ddea820c2625692dd8b44140339028ba513f9926a16c9",
   "display_name": "Python 3.9.5 64-bit"
  },
  "language_info": {
   "codemirror_mode": {
    "name": "ipython",
    "version": 3
   },
   "file_extension": ".py",
   "mimetype": "text/x-python",
   "name": "python",
   "nbconvert_exporter": "python",
   "pygments_lexer": "ipython3",
   "version": "3.9.5"
  },
  "metadata": {
   "interpreter": {
    "hash": "7d845306f7225881f10ddea820c2625692dd8b44140339028ba513f9926a16c9"
   }
  }
 },
 "nbformat": 4,
 "nbformat_minor": 2
}