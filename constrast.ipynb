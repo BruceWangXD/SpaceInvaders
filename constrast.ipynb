{
 "cells": [
  {
   "cell_type": "code",
   "execution_count": 1,
   "metadata": {},
   "outputs": [],
   "source": [
    "from Classifier.load_data import read_arduino, process_data, read_arduinbro, load_training_data\n",
    "from Classifier.classifier import classify_event, zeroes_classifier, one_pronged_smoothing_classifier, streaming_classifier\n",
    "\n",
    "from copy import deepcopy\n",
    "from Levenshtein import distance as levenshtein_distance\n",
    "from scipy import signal\n",
    "import serial\n",
    "import numpy as np\n",
    "import matplotlib.pyplot as plt\n",
    "import time\n",
    "import pandas as pd\n",
    "from scipy.io import wavfile"
   ]
  },
  {
   "cell_type": "code",
   "execution_count": 55,
   "metadata": {},
   "outputs": [],
   "source": [
    "\"\"\"\n",
    "from numba import njit\n",
    "\n",
    "@njit\n",
    "\"\"\"\n",
    "def get_event_regions(wav_array, samprate, labels_dat, before_buffer = 0.7,\n",
    "                       after_buffer = 1):\n",
    "    \n",
    "    time_seq = np.linspace(1, len(wav_array), len(wav_array))/samprate\n",
    "\n",
    "    \n",
    "\n",
    "    left_events_bool = np.array([False]*len(time_seq))\n",
    "    for time in labels_dat.time[labels_dat.label == \"L\"]:\n",
    "        left_events_bool = ( (time_seq > time - before_buffer) & (time_seq < time+after_buffer) ) | left_events_bool\n",
    "\n",
    "    right_events_bool = np.array([False]*len(time_seq))\n",
    "    for time in labels_dat.time[labels_dat.label == \"R\"]:\n",
    "        right_events_bool = ( (time_seq > time - before_buffer) & (time_seq < time+after_buffer) ) | right_events_bool\n",
    "\n",
    "    event_bool = np.bitwise_or(left_events_bool, right_events_bool)\n",
    "    return event_bool\n",
    "\n",
    "#@njit\n",
    "def contrast_all_files(window_size, test_stat_fn,\n",
    "                samprate,       #not important\n",
    "                waves,     #not important\n",
    "                labels):   #not important\n",
    "    start = time.time()\n",
    "    event_test_stats = np.array([])\n",
    "    non_event_test_stats = np.array([])\n",
    "    for key in waves.keys():\n",
    "        wav_array = waves[key]\n",
    "        labels_dat = labels[key]\n",
    "        \n",
    "        total_time = len(wav_array)/samprate\n",
    "        \n",
    "        events_bool = get_event_regions(wav_array, samprate, labels_dat)\n",
    "        \n",
    "        index = 0\n",
    "        step = int(0.1*samprate)\n",
    "        test_stats = np.array([None]*len(wav_array))\n",
    "    \n",
    "        while index + 1 < len(wav_array):\n",
    "            subset = wav_array[index:(index+window_size)]\n",
    "            test_stats[index:index+step] = test_stat_fn(subset)\n",
    "            index += step\n",
    "        #print(\"test_stats\", test_stats[events_bool])\n",
    "        #print(\"len test stats: \", len(test_stats[events_bool]) + len(test_stats[~events_bool]))\n",
    "        #print(\"event_test_stats\", event_test_stats)\n",
    "        event_test_stats = np.append(event_test_stats, test_stats[events_bool])\n",
    "        non_event_test_stats = np.append(non_event_test_stats, test_stats[~events_bool])\n",
    "    #need to fix appends ^\n",
    "    if len(event_test_stats) > 0 and len(non_event_test_stats) > 0:\n",
    "        contrast_stat = (np.amin(event_test_stats) - np.amax(non_event_test_stats))\n",
    "        print(contrast_stat)\n",
    "        end = time.time()\n",
    "        print(\"time taken: \", end - start)\n",
    "        return contrast_stat\n",
    "    else:\n",
    "        end = time.time()\n",
    "        print(\"time taken: \", end - start)\n",
    "        print(\"len 0!!!!\")"
   ]
  },
  {
   "cell_type": "code",
   "execution_count": 56,
   "metadata": {},
   "outputs": [],
   "source": [
    "\"\"\"from numba import njit\n",
    "\n",
    "@njit\"\"\"\n",
    "def range_test_stat(subset):\n",
    "    return np.max(subset) - np.min(subset)"
   ]
  },
  {
   "cell_type": "code",
   "execution_count": 57,
   "metadata": {
    "tags": []
   },
   "outputs": [
    {
     "output_type": "stream",
     "name": "stderr",
     "text": [
      "c:\\Users\\darap\\Documents\\School\\University\\2021, Sem. 1\\DATA3888\\Aqua10\\Classifier\\load_data.py:68: ParserWarning: Falling back to the 'python' engine because the 'c' engine does not support regex separators (separators > 1 char and different from '\\s+' are interpreted as regex); you can avoid this warning by specifying engine='python'.\n",
      "  labels_dat = pd.read_csv(path+file, sep=\",\\t\", skiprows=1)\n",
      "dict_keys(['left-middle-right-middle#2', 'left-middle-right-middle', 'left-middle-right-steph', 'left-middle-right-steph2', 'left-middle', 'left-right-middle-marina', 'left-right-middle-marina2', 'left-right-middle-marina3', 'left-right-middle-sandeep', 'right-middle']) dict_keys(['left-middle-right-middle#2', 'left-middle-right-middle', 'left-middle-right-steph', 'left-middle-right-steph2', 'left-middle', 'left-right-middle-marina', 'left-right-middle-marina2', 'left-right-middle-marina3', 'left-right-middle-sandeep', 'right-middle'])\n",
      "0.0\n",
      "time taken:  4.548992872238159\n",
      "-162.20730069588572\n",
      "time taken:  4.4110190868377686\n",
      "-170.95836894152117\n",
      "time taken:  4.473722457885742\n",
      "-182.2722500305213\n",
      "time taken:  4.324934959411621\n"
     ]
    },
    {
     "output_type": "error",
     "ename": "KeyboardInterrupt",
     "evalue": "",
     "traceback": [
      "\u001b[1;31m---------------------------------------------------------------------------\u001b[0m",
      "\u001b[1;31mKeyboardInterrupt\u001b[0m                         Traceback (most recent call last)",
      "\u001b[1;32m<ipython-input-57-3a366b2b9e43>\u001b[0m in \u001b[0;36m<module>\u001b[1;34m\u001b[0m\n\u001b[0;32m     18\u001b[0m \u001b[0mcontrasts\u001b[0m \u001b[1;33m=\u001b[0m \u001b[1;33m[\u001b[0m\u001b[1;33m]\u001b[0m\u001b[1;33m\u001b[0m\u001b[1;33m\u001b[0m\u001b[0m\n\u001b[0;32m     19\u001b[0m \u001b[1;32mfor\u001b[0m \u001b[0mx\u001b[0m \u001b[1;32min\u001b[0m \u001b[0mrange\u001b[0m\u001b[1;33m(\u001b[0m\u001b[1;36m1\u001b[0m\u001b[1;33m,\u001b[0m \u001b[1;36m20000\u001b[0m\u001b[1;33m,\u001b[0m \u001b[1;36m100\u001b[0m\u001b[1;33m)\u001b[0m\u001b[1;33m:\u001b[0m\u001b[1;33m\u001b[0m\u001b[1;33m\u001b[0m\u001b[0m\n\u001b[1;32m---> 20\u001b[1;33m     contrasts.append(contrast_all_files(window_size = x, test_stat_fn = range_test_stat,\n\u001b[0m\u001b[0;32m     21\u001b[0m                     \u001b[0msamprate\u001b[0m \u001b[1;33m=\u001b[0m \u001b[0msamprate\u001b[0m\u001b[1;33m,\u001b[0m\u001b[1;33m\u001b[0m\u001b[1;33m\u001b[0m\u001b[0m\n\u001b[0;32m     22\u001b[0m                     \u001b[0mwaves\u001b[0m \u001b[1;33m=\u001b[0m \u001b[0mwaves\u001b[0m\u001b[1;33m,\u001b[0m\u001b[1;33m\u001b[0m\u001b[1;33m\u001b[0m\u001b[0m\n",
      "\u001b[1;32m<ipython-input-55-c48c9b61d4d2>\u001b[0m in \u001b[0;36mcontrast_all_files\u001b[1;34m(window_size, test_stat_fn, samprate, waves, labels)\u001b[0m\n\u001b[0;32m     40\u001b[0m         \u001b[0mindex\u001b[0m \u001b[1;33m=\u001b[0m \u001b[1;36m0\u001b[0m\u001b[1;33m\u001b[0m\u001b[1;33m\u001b[0m\u001b[0m\n\u001b[0;32m     41\u001b[0m         \u001b[0mstep\u001b[0m \u001b[1;33m=\u001b[0m \u001b[0mint\u001b[0m\u001b[1;33m(\u001b[0m\u001b[1;36m0.1\u001b[0m\u001b[1;33m*\u001b[0m\u001b[0msamprate\u001b[0m\u001b[1;33m)\u001b[0m\u001b[1;33m\u001b[0m\u001b[1;33m\u001b[0m\u001b[0m\n\u001b[1;32m---> 42\u001b[1;33m         \u001b[0mtest_stats\u001b[0m \u001b[1;33m=\u001b[0m \u001b[0mnp\u001b[0m\u001b[1;33m.\u001b[0m\u001b[0marray\u001b[0m\u001b[1;33m(\u001b[0m\u001b[1;33m[\u001b[0m\u001b[1;32mNone\u001b[0m\u001b[1;33m]\u001b[0m\u001b[1;33m*\u001b[0m\u001b[0mlen\u001b[0m\u001b[1;33m(\u001b[0m\u001b[0mwav_array\u001b[0m\u001b[1;33m)\u001b[0m\u001b[1;33m)\u001b[0m\u001b[1;33m\u001b[0m\u001b[1;33m\u001b[0m\u001b[0m\n\u001b[0m\u001b[0;32m     43\u001b[0m \u001b[1;33m\u001b[0m\u001b[0m\n\u001b[0;32m     44\u001b[0m         \u001b[1;32mwhile\u001b[0m \u001b[0mindex\u001b[0m \u001b[1;33m+\u001b[0m \u001b[1;36m1\u001b[0m \u001b[1;33m<\u001b[0m \u001b[0mlen\u001b[0m\u001b[1;33m(\u001b[0m\u001b[0mwav_array\u001b[0m\u001b[1;33m)\u001b[0m\u001b[1;33m:\u001b[0m\u001b[1;33m\u001b[0m\u001b[1;33m\u001b[0m\u001b[0m\n",
      "\u001b[1;31mKeyboardInterrupt\u001b[0m: "
     ]
    }
   ],
   "source": [
    "waves, labels, samprate = load_training_data(path = \"/Users/darap/Documents/School/University/2021, Sem. 1/DATA3888/Aqua10/Datasets/Good Data - Sandeep no errors/\",\n",
    "                       scale_factor= 512/(2**13 - 1),\n",
    "                       blacklist = [\"blink\", \"different\", \"fast\", \"slow\", \"eyebrow\"])\n",
    "\"\"\"\n",
    "labels1 = np.array([])\n",
    "waves1 = []\n",
    "i = 0\n",
    "for key in waves.keys():\n",
    "    waves1.append(list(waves[key]))\n",
    "print(type(waves1))\n",
    "print(type(waves1[1]))\n",
    "print(type(waves1[1][1]))\n",
    "waves1 = np.ndarray(waves1, np.float64)\n",
    "print(waves1[1])\n",
    "print(len(waves1))\n",
    "print(len(waves1[5]))\n",
    "\"\"\"\n",
    "contrasts = []\n",
    "for x in range(1, 20000, 100):\n",
    "    contrasts.append(contrast_all_files(window_size = x, test_stat_fn = range_test_stat,\n",
    "                    samprate = samprate,\n",
    "                    waves = waves,\n",
    "                    labels = labels))\n"
   ]
  },
  {
   "cell_type": "code",
   "execution_count": 39,
   "metadata": {},
   "outputs": [
    {
     "output_type": "stream",
     "name": "stdout",
     "text": [
      "[1, 2, 3, 4, 5, 6]\n"
     ]
    }
   ],
   "source": [
    "a = [[1,2,3], [4,5,6]]\n",
    "b = np.ndarray()"
   ]
  }
 ],
 "metadata": {
  "kernelspec": {
   "name": "python395jvsc74a57bd07d845306f7225881f10ddea820c2625692dd8b44140339028ba513f9926a16c9",
   "display_name": "Python 3.9.5 64-bit"
  },
  "language_info": {
   "codemirror_mode": {
    "name": "ipython",
    "version": 3
   },
   "file_extension": ".py",
   "mimetype": "text/x-python",
   "name": "python",
   "nbconvert_exporter": "python",
   "pygments_lexer": "ipython3",
   "version": "3.9.5"
  },
  "metadata": {
   "interpreter": {
    "hash": "7d845306f7225881f10ddea820c2625692dd8b44140339028ba513f9926a16c9"
   }
  }
 },
 "nbformat": 4,
 "nbformat_minor": 2
}