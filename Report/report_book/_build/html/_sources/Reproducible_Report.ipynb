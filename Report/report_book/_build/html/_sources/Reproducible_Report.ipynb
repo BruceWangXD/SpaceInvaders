{
 "cells": [
  {
   "cell_type": "markdown",
   "metadata": {
    "toc": true
   },
   "source": [
    "<h1>Table of Contents<span class=\"tocSkip\"></span></h1>\n",
    "<div class=\"toc\"><ul class=\"toc-item\"><li><span><a href=\"#Executive-Summary\" data-toc-modified-id=\"Executive-Summary-1\"><span class=\"toc-item-num\">1&nbsp;&nbsp;</span>Executive Summary</a></span><ul class=\"toc-item\"><li><span><a href=\"#Dependencies\" data-toc-modified-id=\"Dependencies-1.1\"><span class=\"toc-item-num\">1.1&nbsp;&nbsp;</span>Dependencies</a></span></li></ul></li><li><span><a href=\"#Introduction\" data-toc-modified-id=\"Introduction-2\"><span class=\"toc-item-num\">2&nbsp;&nbsp;</span>Introduction</a></span></li><li><span><a href=\"#Motivation\" data-toc-modified-id=\"Motivation-3\"><span class=\"toc-item-num\">3&nbsp;&nbsp;</span>Motivation</a></span></li><li><span><a href=\"#Experimental-Design\" data-toc-modified-id=\"Experimental-Design-4\"><span class=\"toc-item-num\">4&nbsp;&nbsp;</span>Experimental Design</a></span><ul class=\"toc-item\"><li><span><a href=\"#Data-Collection\" data-toc-modified-id=\"Data-Collection-4.1\"><span class=\"toc-item-num\">4.1&nbsp;&nbsp;</span>Data Collection</a></span></li><li><span><a href=\"#Streaming-Algorithm-Design\" data-toc-modified-id=\"Streaming-Algorithm-Design-4.2\"><span class=\"toc-item-num\">4.2&nbsp;&nbsp;</span>Streaming Algorithm Design</a></span></li></ul></li><li><span><a href=\"#Optimisation\" data-toc-modified-id=\"Optimisation-5\"><span class=\"toc-item-num\">5&nbsp;&nbsp;</span>Optimisation</a></span><ul class=\"toc-item\"><li><span><a href=\"#Event-Detection\" data-toc-modified-id=\"Event-Detection-5.1\"><span class=\"toc-item-num\">5.1&nbsp;&nbsp;</span>Event Detection</a></span><ul class=\"toc-item\"><li><span><a href=\"#Test-Statistic\" data-toc-modified-id=\"Test-Statistic-5.1.1\"><span class=\"toc-item-num\">5.1.1&nbsp;&nbsp;</span>Test Statistic</a></span></li><li><span><a href=\"#Evaluation-Metric-(Contrast)\" data-toc-modified-id=\"Evaluation-Metric-(Contrast)-5.1.2\"><span class=\"toc-item-num\">5.1.2&nbsp;&nbsp;</span>Evaluation Metric (Contrast)</a></span></li><li><span><a href=\"#Threshold-Optimisation\" data-toc-modified-id=\"Threshold-Optimisation-5.1.3\"><span class=\"toc-item-num\">5.1.3&nbsp;&nbsp;</span>Threshold Optimisation</a></span></li></ul></li><li><span><a href=\"#Classification\" data-toc-modified-id=\"Classification-5.2\"><span class=\"toc-item-num\">5.2&nbsp;&nbsp;</span>Classification</a></span><ul class=\"toc-item\"><li><span><a href=\"#Classifiers\" data-toc-modified-id=\"Classifiers-5.2.1\"><span class=\"toc-item-num\">5.2.1&nbsp;&nbsp;</span>Classifiers</a></span></li><li><span><a href=\"#Accuracy-Metric\" data-toc-modified-id=\"Accuracy-Metric-5.2.2\"><span class=\"toc-item-num\">5.2.2&nbsp;&nbsp;</span>Accuracy Metric</a></span></li><li><span><a href=\"#Classifier-Optimisation\" data-toc-modified-id=\"Classifier-Optimisation-5.2.3\"><span class=\"toc-item-num\">5.2.3&nbsp;&nbsp;</span>Classifier Optimisation</a></span></li></ul></li></ul></li><li><span><a href=\"#Evaluation\" data-toc-modified-id=\"Evaluation-6\"><span class=\"toc-item-num\">6&nbsp;&nbsp;</span>Evaluation</a></span></li><li><span><a href=\"#Space-Invaders!\" data-toc-modified-id=\"Space-Invaders!-7\"><span class=\"toc-item-num\">7&nbsp;&nbsp;</span>Space Invaders!</a></span></li><li><span><a href=\"#Appendix\" data-toc-modified-id=\"Appendix-8\"><span class=\"toc-item-num\">8&nbsp;&nbsp;</span>Appendix</a></span></li><li><span><a href=\"#References\" data-toc-modified-id=\"References-9\"><span class=\"toc-item-num\">9&nbsp;&nbsp;</span>References</a></span></li></ul></div>"
   ]
  },
  {
   "cell_type": "markdown",
   "metadata": {},
   "source": [
    "# Making Space Invaders Fun and Accessible with Brain-Computer Interfacing"
   ]
  },
  {
   "cell_type": "markdown",
   "metadata": {},
   "source": [
    "## Executive Summary"
   ]
  },
  {
   "cell_type": "markdown",
   "metadata": {},
   "source": [
    "### Dependencies"
   ]
  },
  {
   "cell_type": "code",
   "execution_count": 22,
   "metadata": {
    "tags": [
     "hide-input"
    ]
   },
   "outputs": [],
   "source": [
    "import os\n",
    "import numpy as np\n",
    "import pandas as pd\n",
    "from scipy.io import wavfile\n",
    "import matplotlib.pyplot as plt\n",
    "import time\n",
    "from scipy.fft import fft, fftfreq, fftshift\n",
    "from scipy import signal\n",
    "from copy import deepcopy\n",
    "from catch22 import catch22_all\n",
    "import catch22\n",
    "from sklearn.neighbors import KNeighborsClassifier\n",
    "from numba import njit\n",
    "from weighted_levenshtein import lev\n",
    "import struct\n",
    "\n",
    "\n",
    "# Disables plots. Comment out this line to show plots generated from code.\n",
    "%matplotlib agg\n",
    "\n",
    "# Set seed for reproducibility\n",
    "np.random.seed(420)\n",
    "# Path to outputs folder\n",
    "OUT_PATH = \"/Users/billydodds/Documents/Uni/DATA3888/Aqua10/Report/report_outputs/\"\n",
    "# Path to data\n",
    "IN_PATH = \"/Users/billydodds/Documents/Uni/DATA3888/Aqua10/Datasets/data/\"\n",
    "# Path to other file dependencies\n",
    "DEP_PATH = \"/Users/billydodds/Documents/Uni/DATA3888/Aqua10/Report/requirements/other_files/\"\n"
   ]
  },
  {
   "cell_type": "markdown",
   "metadata": {},
   "source": [
    "## Introduction"
   ]
  },
  {
   "cell_type": "markdown",
   "metadata": {},
   "source": [
    "## Motivation"
   ]
  },
  {
   "cell_type": "markdown",
   "metadata": {},
   "source": [
    "## Experimental Design"
   ]
  },
  {
   "cell_type": "markdown",
   "metadata": {},
   "source": [
    "### Data Collection\n",
    "We have prepared 8 wave files (.wav) to the following specifications:\n",
    "- 50 seconds in length\n",
    "- First 5 seconds is a calibration period - no movements performed\n",
    "- A sequence of left and right movements are performed for the remaining 45 seconds\n",
    "- Each file is accompanied with a labels textfile (.txt) containing the timestamps and labels of every event in the wavefile. '1' corresponds to a left eye movement, and '2' corresponds to a right eye movement.\n",
    "- Each .wav file has a range of [0, 1024], but are centred to [-512, 512] within the `load_data` function defined below.\n",
    "\n",
    "Two of the eight files were randomly selected as the test set, and the rest were assigned to the training set. The files were re-numbered such that 7 and 8 correspond to those chosen for the test set."
   ]
  },
  {
   "cell_type": "code",
   "execution_count": 23,
   "metadata": {
    "code_folding": [
     0
    ],
    "tags": [
     "hide-input",
     "hide-output"
    ]
   },
   "outputs": [
    {
     "name": "stdout",
     "output_type": "stream",
     "text": [
      "Successfully loaded 6 wavefiles:\n",
      "data1\n",
      "data2\n",
      "data3\n",
      "data4\n",
      "data6\n",
      "data8\n",
      "Successfully loaded 2 wavefiles:\n",
      "data5\n",
      "data7\n"
     ]
    },
    {
     "name": "stderr",
     "output_type": "stream",
     "text": [
      "<ipython-input-23-a8397ba8da66>:11: ParserWarning: Falling back to the 'python' engine because the 'c' engine does not support regex separators (separators > 1 char and different from '\\s+' are interpreted as regex); you can avoid this warning by specifying engine='python'.\n",
      "  labels_dat = pd.read_csv(path+file+\".txt\", sep=\",\\t\", skiprows=1)\n"
     ]
    }
   ],
   "source": [
    "def load_data(path, fnames, scale_factor = 1, shift_factor = -512):\n",
    "    waves = {}\n",
    "    labels = {}\n",
    "    for file in fnames:\n",
    "        # Load in wave file\n",
    "        samprate, wav_array = wavfile.read(path+file+\".wav\")\n",
    "        wav_array = wav_array*scale_factor\n",
    "        wav_array += shift_factor\n",
    "        waves[file] = wav_array\n",
    "        # Load in label file\n",
    "        labels_dat = pd.read_csv(path+file+\".txt\", sep=\",\\t\", skiprows=1)\n",
    "        labels_dat.columns = [\"label\", \"time\"]\n",
    "        labels_dat.label = [\"L\" if label == 1 else \"R\" for label in labels_dat.label]\n",
    "        labels[file] = labels_dat\n",
    "    print(f\"Successfully loaded {len(waves)} wavefiles:\")\n",
    "    print(\"\\n\".join(sorted(waves.keys())))\n",
    "    return waves, labels\n",
    "\n",
    "fnames = [\"data1\", \"data2\", \"data3\", \"data4\", \"data5\", \"data6\", \"data7\", \"data8\"]\n",
    "\n",
    "# Randomly select two files for the test set, remainder as training\n",
    "test_files = np.random.choice(fnames, 2, replace=False)\n",
    "training_files = list(set(fnames) - set(test_files))\n",
    "\n",
    "# Training Data\n",
    "waves, labels = load_data(\n",
    "    IN_PATH, training_files, scale_factor = 1, shift_factor = -512)\n",
    "\n",
    "# Test Data\n",
    "test_waves, test_labels = load_data(\n",
    "    IN_PATH, test_files, scale_factor = 1, shift_factor = -512)\n",
    "\n",
    "# Define Sample Rate: 10,000 Hz\n",
    "samprate = 10_000\n"
   ]
  },
  {
   "cell_type": "markdown",
   "metadata": {},
   "source": [
    "Next, we convert the singular timestamps in the labels dataframe to the time interval of the entire event. There was a minor data quality issue with some of the timestamps which caused some files to have slightly shifted timestamps. To fix this, we went through and manually defined the interval for each file (the time to add before and after the timestamp to get the desired interval). We did this once to encompass the entire wave signal, and another time to only cover the first hump of the signal.\n"
   ]
  },
  {
   "cell_type": "code",
   "execution_count": 17,
   "metadata": {
    "code_folding": [
     1,
     13
    ],
    "tags": [
     "hide-input"
    ]
   },
   "outputs": [],
   "source": [
    "# First hump\n",
    "time_buffers_hump = {\n",
    "    \"data1\":(-0.3, 0.55),\n",
    "    \"data2\":(-0.3, 0.55),\n",
    "    \"data3\":(-0.3, 0.55),\n",
    "    \"data4\":(-0.5, 0.75),\n",
    "    \"data5\":(-0.5, 0.75),\n",
    "    \"data6\":(-0.5, 0.75),\n",
    "    \"data7\":(-0.5, 0.75),\n",
    "    \"data8\":(-0.5, 0.75)\n",
    "}\n",
    "\n",
    "# Whole wave\n",
    "time_buffers_whole = {\n",
    "    \"data1\":(-0.2, 1.15),\n",
    "    \"data2\":(-0.2, 1.15),\n",
    "    \"data3\":(-0.2, 1.15),\n",
    "    \"data4\":(-0.4, 1.35),\n",
    "    \"data5\":(-0.4, 1.35),\n",
    "    \"data6\":(-0.4, 1.35),\n",
    "    \"data7\":(-0.4, 1.35),\n",
    "    \"data8\":(-0.4, 1.35),\n",
    "}\n"
   ]
  },
  {
   "cell_type": "code",
   "execution_count": 21,
   "metadata": {
    "code_folding": [
     0
    ],
    "tags": [
     "hide-input"
    ]
   },
   "outputs": [],
   "source": [
    "def plot_labelled_wave(wav_array, samprate, labels_dat, ax, i, title=\"\", calibration_seconds = 5, \n",
    "                       before_buffer = 1, after_buffer = 1, shade_alpha=0.2, wave_alpha=1, \n",
    "                       ymin = -512, ymax = 512):\n",
    "    time_seq = np.linspace(1, len(wav_array), len(wav_array))/samprate\n",
    "    \n",
    "    # Calibration period\n",
    "    calibration_bool = time_seq < calibration_seconds\n",
    "\n",
    "    # Get locations of events\n",
    "    left_events_bool = np.array([False]*len(time_seq))\n",
    "    for time in labels_dat.time[labels_dat.label == \"L\"]:\n",
    "        left_events_bool = ( (time_seq > time - before_buffer) & (time_seq < time+after_buffer) ) | left_events_bool\n",
    "    right_events_bool = np.array([False]*len(time_seq))\n",
    "    for time in labels_dat.time[labels_dat.label == \"R\"]:\n",
    "        right_events_bool = ( (time_seq > time - before_buffer) & (time_seq < time+after_buffer) ) | right_events_bool\n",
    "\n",
    "    # Plot wave with events\n",
    "    ax[i].plot(time_seq, wav_array, alpha=wave_alpha)\n",
    "    ax[i].fill_between(time_seq, ymax, ymin,\n",
    "                     where = left_events_bool,\n",
    "                     color = 'g',\n",
    "                     label = \"Left\",\n",
    "                     alpha=shade_alpha)\n",
    "    ax[i].fill_between(time_seq, ymax, ymin,\n",
    "                     where = right_events_bool,\n",
    "                     color = 'r',\n",
    "                     label = \"Right\",\n",
    "                     alpha=shade_alpha)\n",
    "    ax[i].fill_between(time_seq, ymax, ymin,\n",
    "                     where = calibration_bool,\n",
    "                     color = 'y',\n",
    "                     label = \"Calibration\",\n",
    "                     alpha=shade_alpha)\n",
    "    ax[i].set_title(title)\n",
    "    \n",
    "\n",
    "fig, ax = plt.subplots(8, 1)\n",
    "fig.set_size_inches(16, 10)\n",
    "for i, key in enumerate(sorted(waves.keys())):\n",
    "    plot_labelled_wave(\n",
    "        waves[key], samprate, labels[key], ax, i, title=key, before_buffer = time_buffers_whole[key][0],\n",
    "        after_buffer = time_buffers_whole[key][1], shade_alpha=0.2, wave_alpha=1, ymin = -100, ymax = 100\n",
    "    )\n",
    "for i, key in enumerate(sorted(test_waves.keys())):\n",
    "    plot_labelled_wave(\n",
    "        test_waves[key], samprate, test_labels[key], ax, i+6, title=key, before_buffer = time_buffers_whole[key][0],\n",
    "        after_buffer = time_buffers_whole[key][1], shade_alpha=0.2, wave_alpha=1, ymin = -100, ymax = 100\n",
    "    )\n",
    "ax[0].legend()\n",
    "fig.tight_layout()\n",
    "fig.savefig(OUT_PATH + \"dataset_plot.png\")\n"
   ]
  },
  {
   "cell_type": "markdown",
   "metadata": {},
   "source": [
    "```{figure} ../report_outputs/dataset_plot.png\n",
    "---\n",
    "scale: 50%\n",
    "name: dataset\n",
    "---\n",
    "Visualisation of the entire dataset.\n",
    "```"
   ]
  },
  {
   "cell_type": "markdown",
   "metadata": {},
   "source": [
    "{numref}`dataset`"
   ]
  },
  {
   "cell_type": "markdown",
   "metadata": {},
   "source": [
    "### Streaming Algorithm Design\n",
    "\n",
    "First, we must design the basic structure of our streaming algorithm. The algorithm will consist of two parts, the first is event detection, and the second is classification. As the streaming data comes in, we will only keep a window of fixed length in memory, effectively behaving as a sliding window at the front of the stream. This window updates in discrete intervals of some *buffer length*, and we will deem this window the *classification window*. \n",
    "\n",
    "Within that classification window, we will fix another smaller window that slides along with the classification window. This subset of the classification window is what we will test an event criterion on, and is hence called the *detection window*. \n",
    "\n",
    "Each time the window is updated by the stream, the event criterion is tested on the detection window. To minimise false positives, that criterion will need to pass a set number of times, dictated by the `consecutive_event_triggers` parameter.\n",
    "\n",
    "Once the event criterion has passed `consecutive_event_triggers` times, we pass the classification window to the classifier algorithm and block the classifier from detecting another event. When the event criterion has failed `consecutive_nonevent_reset` times, we prime the streaming algorithm to predict events again. This is to stop the algorithm from detecting the same event twice.\n",
    "\n"
   ]
  },
  {
   "cell_type": "code",
   "execution_count": 19,
   "metadata": {
    "code_folding": [
     2
    ],
    "tags": [
     "hide-input"
    ]
   },
   "outputs": [],
   "source": [
    "# Function that reads in the kth <inputBufferSize> sized segment of the array\n",
    "# Simulates streaming condition on recorded wavefiles.\n",
    "def read_arduinbro(wav_array, inputBufferSize, k):\n",
    "    if inputBufferSize*(k+1) < len(wav_array):\n",
    "        data = wav_array[(inputBufferSize*(k)):(inputBufferSize*(k+1))]\n",
    "    else:\n",
    "        data = wav_array[(inputBufferSize*(k))::]\n",
    "    return np.flip(data)\n"
   ]
  },
  {
   "cell_type": "code",
   "execution_count": 20,
   "metadata": {
    "code_folding": [
     0
    ],
    "tags": [
     "hide-input"
    ]
   },
   "outputs": [],
   "source": [
    "def streaming_classifier(\n",
    "        wav_array,                             # Either the array from file (or ser if live = True)\n",
    "        samprate,\n",
    "        classifier,\n",
    "        input_buffer_size_sec = 0.1,           # Buffer size in seconds\n",
    "        store_events = False,                  # Whether to return the classification window array for\n",
    "                                                   # debugging purposes\n",
    "        store_times = False,                   # Store time taken for each classification\n",
    "        live = False,\n",
    "        FIFO_filename = None,\n",
    "        create_FIFO_msg = None,\n",
    "\n",
    "        classifier_params = {},\n",
    "        classification_window_size_sec = 1.5,  # Total detection window [s]\n",
    "\n",
    "        calibration_window_size_sec = 5,       # The length of the calibration period to define the threshold\n",
    "        calibration_statistic_function = None, # Function that calculates the calibration statistic\n",
    "\n",
    "        detection_window_size_sec = 0.5,\n",
    "        detection_window_offset_sec = 0.5,\n",
    "        event_test_statistic_function = None,  # Function that calculates the test statistic\n",
    "        event_threshold_factor = 0.5,          # The scale factor of the calibration stat that will become\n",
    "                                                   # the threshold\n",
    "        flip_threshold = False,                # Threshold is a lower bound if true, upper bound if false\n",
    "        consecutive_event_triggers = 3,        # How many threshold triggers need to occur in a row for an \n",
    "                                                   # event to be called\n",
    "        consecutive_nonevent_reset = 1         # How many threshold failures need to occur in a row for the\n",
    "                                                   # classifier to be primed for a new event\n",
    "        ):\n",
    "\n",
    "    # Connect to fifo\n",
    "    if FIFO_filename is not None:\n",
    "        fifo = os.open(FIFO_filename, os.O_WRONLY)\n",
    "    \n",
    "    if store_events:\n",
    "        predictions_storage = []\n",
    "    if store_times:\n",
    "        classification_times = []\n",
    "    predictions = \"\"\n",
    "    predictions_timestamps = []\n",
    "\n",
    "    # Initialise variables\n",
    "    N_loops_over_window = classification_window_size_sec//input_buffer_size_sec\n",
    "    input_buffer_size = int(round(input_buffer_size_sec * samprate))\n",
    "    detection_window_offset = int(round(detection_window_offset_sec * samprate))\n",
    "    detection_window_size = int(round(detection_window_size_sec * samprate))\n",
    "    \n",
    "    # Initialise Calibration\n",
    "    calibrate = True\n",
    "    N_loops_calibration = calibration_window_size_sec//input_buffer_size_sec\n",
    "\n",
    "    # Initialise Event History\n",
    "    num_event_history = max(consecutive_event_triggers,\n",
    "                            consecutive_nonevent_reset) + 1 \n",
    "    event_history = np.array([False]*num_event_history)\n",
    "\n",
    "    # Determine length of stream\n",
    "    if live:\n",
    "        N_loops = np.inf\n",
    "    else:\n",
    "        total_time = len(wav_array)/samprate\n",
    "        N_loops = (total_time*samprate)//input_buffer_size\n",
    "\n",
    "    # Prime the classifier for new event\n",
    "    primed = True\n",
    "    \n",
    "    ### Start stream ###\n",
    "    k = 0\n",
    "    while k < N_loops:\n",
    "        if live:\n",
    "            data = read_arduino(wav_array,input_buffer_size)\n",
    "            data_temp = process_data(data)\n",
    "        else:\n",
    "            data_temp = read_arduinbro(wav_array, input_buffer_size, k)\n",
    "        if k < N_loops_over_window:\n",
    "            if k == 0:\n",
    "                data_cal = data_temp\n",
    "                data_window = data_temp\n",
    "            else:\n",
    "                data_window = np.append(data_temp, data_window)\n",
    "                if calibrate:\n",
    "                    data_cal = np.append(data_temp, data_cal)\n",
    "            k+=1\n",
    "            continue\n",
    "        else:\n",
    "            data_window = np.roll(data_window,len(data_temp))\n",
    "            data_window[0:len(data_temp)] = data_temp\n",
    "            if calibrate:\n",
    "                data_cal = np.append(data_temp,data_cal)\n",
    "                if (k > N_loops_calibration):\n",
    "                    cal_stat = calibration_statistic_function(data_cal)\n",
    "                    event_threshold = cal_stat*event_threshold_factor\n",
    "                    calibrate = False\n",
    "                k+=1\n",
    "                continue\n",
    "        # Event Detection\n",
    "        # Take detection window from classification window\n",
    "        \n",
    "        interval = data_window[detection_window_offset:(detection_window_offset + detection_window_size)] \n",
    "        test_stat = event_test_statistic_function(interval) # Calculate test stat \n",
    "                \n",
    "        # Test threshold\n",
    "        if flip_threshold:\n",
    "            is_event = (test_stat < event_threshold) \n",
    "        else:\n",
    "            is_event = (test_stat > event_threshold)\n",
    "        \n",
    "        # Record History\n",
    "        event_history[1::] = event_history[0:-1]\n",
    "        event_history[0] = is_event\n",
    "        \n",
    "        # if event, pass window to classifier\n",
    "        if np.all(event_history[0:consecutive_event_triggers]) and primed:\n",
    "            start = time.time_ns()\n",
    "            prediction = classifier(data_window, samprate, **classifier_params)\n",
    "            end = time.time_ns()\n",
    "            if store_times:\n",
    "                classification_times.append(end - start)\n",
    "            if store_events:\n",
    "                predictions_storage.append(data_window)\n",
    "                        \n",
    "            # Record prediction and time interval of event\n",
    "            predictions += prediction\n",
    "            end_time = round(k*input_buffer_size_sec, 2)\n",
    "            start_time = round(end_time - classification_window_size_sec, 2)\n",
    "            predictions_timestamps.append((start_time, end_time))\n",
    "\n",
    "            # Pipe it up\n",
    "            if FIFO_filename is not None:\n",
    "                msg = create_FIFO_msg(prediction)\n",
    "                os.write(fifo, msg)\n",
    "            \n",
    "            # Unprime\n",
    "            primed = False\n",
    "        \n",
    "        # Check if condition for priming has been met\n",
    "        if np.all(~event_history[0:consecutive_nonevent_reset]):\n",
    "            primed = True\n",
    "\n",
    "        k += 1\n",
    "    \n",
    "    if FIFO_filename is not None:\n",
    "        os.close(fifo)\n",
    "    \n",
    "    if store_events and store_times:\n",
    "        return predictions, predictions_timestamps, predictions_storage, classification_times\n",
    "    elif store_events:\n",
    "        return predictions, predictions_timestamps, predictions_storage\n",
    "    elif store_times:\n",
    "        return predictions, predictions_timestamps, classification_times\n",
    "    else:\n",
    "        return predictions, predictions_timestamps\n",
    "                  "
   ]
  },
  {
   "cell_type": "markdown",
   "metadata": {},
   "source": [
    "## Optimisation\n",
    "\n",
    "We optimise the streaming algorithm in two dependent stages. The first stage is to optimise event detection by choosing the best test statistic and threshold to apply over the detection window. The test statistic will be the statistic that maximises the contrast between event and non-event regions, and the threshold will be the threshold that maximises the F-score on the training set. \n",
    "\n",
    "When our algorithm is effective at distinguishing events from non-events, we will use the optimised event detection method to optimise our classifiers on the training set. Once all classifiers are optimised, we will choose the classifier with the best accuracy on the test set based on a levenshtein distance weighted to reflect what is most desirable for its Space Invaders use."
   ]
  },
  {
   "cell_type": "markdown",
   "metadata": {},
   "source": [
    "### Event Detection\n"
   ]
  },
  {
   "cell_type": "markdown",
   "metadata": {},
   "source": [
    "#### Test Statistic\n",
    "\n",
    "The first component to optimising event detection is to choose the best test statistic to be applied over the detection window. To do this, we first define 5 possible candidates for the test statistic. These candidates were chosen because they were deemed likely to be effective in distinguishing events from non-events. "
   ]
  },
  {
   "cell_type": "code",
   "execution_count": 7,
   "metadata": {
    "code_folding": [],
    "tags": [
     "hide-input"
    ]
   },
   "outputs": [],
   "source": [
    "# Define Test Stat Functions\n",
    "\n",
    "# due to their sine wave-like shape, events have a larger range than non-events\n",
    "def ts_range(x): \n",
    "    return np.max(x) - np.min(x)\n",
    "\n",
    "# the range but using the middle half of the distribution to reduce influence from outliers\n",
    "def ts_IQR(x): \n",
    "    return np.quantile(x, 0.75) - np.quantile(x, 0.25)\n",
    "\n",
    "# events have high peaks due to their shape compared to non-events\n",
    "def ts_abs_max(x): \n",
    "    return np.max(np.abs(x))\n",
    "\n",
    "# non-events cross the zero line (x-axis) often due to noise, while events have long periods over/under the zero line\n",
    "def ts_zero_crossings(x):\n",
    "    return np.sum(x[0:-1]*x[1::] <= 0)\n",
    "\n",
    "# Fourier transforms can distinguish between events and non-events due to \n",
    "def max_frequency(frame, samprate=10000):\n",
    "    fs = samprate\n",
    "    dt = 1/fs\n",
    "    t = np.arange(0, (len(frame)*dt), dt)\n",
    "    # Num samples\n",
    "    N = len(frame)\n",
    "    yf = fft(frame)\n",
    "    xf = fftfreq(N, 1/fs)\n",
    "    np.size(xf)\n",
    "    np.size(t)\n",
    "    f, t, Sxx = signal.spectrogram(frame, fs)\n",
    "    maximum = np.max(Sxx)\n",
    "    threshold = maximum/5;\n",
    "    maximum_Freqs = np.amax(Sxx, 0) # max frequency for each time\n",
    "    return np.amax(maximum_Freqs)\n",
    "\n",
    "tfn_candidates = {\"Range\": ts_range,\n",
    "                  \"IQR\": ts_IQR,\n",
    "                  \"SD\": np.std,\n",
    "                  \"Absolute Max\": ts_abs_max,\n",
    "                  \"Zero Crossings\": ts_zero_crossings,\n",
    "                  \"Fourier\": ts_max_frequency}\n",
    "\n"
   ]
  },
  {
   "cell_type": "markdown",
   "metadata": {},
   "source": [
    "#### Evaluation Metric (Contrast)\n",
    "\n",
    "To choose the best test statistic from the candidates, we first calculate a series of test statistics using a sliding window over each training file. Next, we define an evaluation metric called *contrast*. Essentially, contrast is the absolute value of the Welch's t-test statistic between the set of test statistics for event regions, and the set of test statistics for non-event regions. It is defined by the following formula:\n",
    "$$\n",
    "\\textit{contrast}(E, E^*) = \\frac{|\\bar{E} - \\bar{E^*}|}{\\sqrt{\\frac{\\sigma_E^2}{N_E} + \\frac{\\sigma_{E^*}^2}{N_{E^*}}}}\n",
    "$$\n",
    "where $E$ is the set of test statistics calculated over event regions, $E^*$ is the non-event region test statistics, and $\\bar{k}$, $\\sigma_k$ and $N_k$ are the mean, standard deviation and number of elements in set $k$ respectively."
   ]
  },
  {
   "cell_type": "code",
   "execution_count": 8,
   "metadata": {
    "code_folding": [],
    "tags": [
     "hide-input"
    ]
   },
   "outputs": [],
   "source": [
    "def contrast(events, non_events): \n",
    "    pooled_sd = np.sqrt(np.var(events)/len(events) + np.var(non_events)/len(non_events))\n",
    "    return np.abs(np.mean(events, axis=1) - np.mean(non_events, axis=1))/pooled_sd"
   ]
  },
  {
   "cell_type": "markdown",
   "metadata": {},
   "source": [
    "Next, we perform a gridsearch varying the window length from 0 to 2 seconds and calculating the contrast of each test statistic each window length. Below, we "
   ]
  },
  {
   "cell_type": "code",
   "execution_count": 9,
   "metadata": {
    "code_folding": [
     0,
     20,
     34,
     43
    ],
    "tags": [
     "hide-input"
    ]
   },
   "outputs": [],
   "source": [
    "def get_event_regions(wav_array, samprate, labels_dat, time_buffer):\n",
    "    before_buffer = time_buffer[0]\n",
    "    after_buffer = time_buffer[1]\n",
    "    \n",
    "    time_seq = np.linspace(1, len(wav_array), len(wav_array))/samprate\n",
    "\n",
    "    left_events_bool = np.array([False]*len(time_seq))\n",
    "    for time in labels_dat.time[labels_dat.label == \"L\"]:\n",
    "        left_events_bool = (((time_seq > time - before_buffer) & \n",
    "                             (time_seq < time+after_buffer)) | left_events_bool)\n",
    "\n",
    "    right_events_bool = np.array([False]*len(time_seq))\n",
    "    for time in labels_dat.time[labels_dat.label == \"R\"]:\n",
    "        right_events_bool = (((time_seq > time - before_buffer) & \n",
    "                              (time_seq < time + after_buffer)) | right_events_bool)\n",
    "\n",
    "    event_bool = left_events_bool | right_events_bool\n",
    "    return event_bool\n",
    "\n",
    "\n",
    "def get_test_stats(wav_array, window_size, step, test_stat_fns):\n",
    "    test_stats = np.zeros((len(test_stat_fns), len(wav_array)))\n",
    "    all_windows = np.lib.stride_tricks.sliding_window_view(wav_array, window_shape = window_size)\n",
    "    all_windows = all_windows[::step, :]\n",
    "    for i, fn in enumerate(test_stat_fns):\n",
    "        testicles = np.apply_along_axis(fn, -1, all_windows)\n",
    "        for j, teste in enumerate(testicles):\n",
    "            if j == len(testicles)-1:\n",
    "                test_stats[i, (j*step)::] = teste\n",
    "            else:\n",
    "                test_stats[i, (j*step):((j+1)*step)]  = teste\n",
    "    return test_stats\n",
    "\n",
    "\n",
    "def get_contrast(wav_array, samprate, labels_dat, window_size, step, test_stat_fns, contrast_fn, time_buffer):\n",
    "    test_stats = get_test_stats(wav_array, window_size, step, test_stat_fns)\n",
    "    events_bool = get_event_regions(wav_array, samprate, labels_dat, time_buffer)\n",
    "    event_test_stats = test_stats[:, events_bool]           \n",
    "    non_event_test_stats = test_stats[:, ~events_bool]\n",
    "    contrast_stat = contrast_fn(event_test_stats, non_event_test_stats)\n",
    "    return contrast_stat\n",
    "\n",
    "    \n",
    "def contrast_all_files(output_filename, window_size, test_stat_fns, samprate, \n",
    "                       waves, labels, contrast_fn, step=0.1, time_buffers=time_buffers_whole):   \n",
    "    step = int(step*samprate)\n",
    "    for i, key in enumerate(waves.keys()):\n",
    "        wav_array = waves[key]\n",
    "        labels_dat = labels[key]\n",
    "        \n",
    "        cont = get_contrast(wav_array, samprate, labels_dat,\n",
    "                         window_size, step, test_stat_fns,\n",
    "                         contrast_fn, time_buffers[key])\n",
    "        with open(output_filename, \"a\") as file:\n",
    "            file.write(\",\".join([str(window_size), key]) + \",\" + ','.join(np.round(cont, 4).astype(str)) + \"\\n\")\n"
   ]
  },
  {
   "cell_type": "code",
   "execution_count": 11,
   "metadata": {
    "code_folding": [],
    "tags": [
     "hide-input",
     "hide-output"
    ]
   },
   "outputs": [
    {
     "name": "stdout",
     "output_type": "stream",
     "text": [
      "2000\n",
      "4000\n",
      "6000\n",
      "8000\n",
      "10000\n"
     ]
    }
   ],
   "source": [
    "output_filename_event_det_opt = OUT_PATH + \"event_detection_optimisation.csv\"\n",
    "\n",
    "granularity = 100\n",
    "open(output_filename_event_det_opt, 'w').close()    # Clears the file so that the code can be run again.\n",
    "for i, x in enumerate(np.linspace(100, 10000, granularity)):\n",
    "    x = int(x)\n",
    "    if i%10 == 0:\n",
    "        print(f\"{i} of {granularity})\n",
    "    contrast_all_files(\n",
    "        output_filename_event_det_opt, \n",
    "        window_size = x, \n",
    "        test_stat_fns = tfn_candidates.values(),\n",
    "        samprate = samprate,\n",
    "        waves = waves,\n",
    "        labels = labels,\n",
    "        step = 0.1,\n",
    "        contrast_fn = contrast,\n",
    "        time_buffers = time_buffers_whole\n",
    "    )"
   ]
  },
  {
   "cell_type": "code",
   "execution_count": 16,
   "metadata": {
    "tags": [
     "hide-input"
    ]
   },
   "outputs": [
    {
     "data": {
      "image/png": "[encoded data removed]",
      "text/plain": [
       "<Figure size 504x504 with 1 Axes>"
      ]
     },
     "metadata": {
      "needs_background": "light"
     },
     "output_type": "display_data"
    }
   ],
   "source": [
    "contrasts = pd.read_csv(output_filename_event_det_opt, header=None)\n",
    "contrasts.columns = [\"window_size\", \"file\"] + list(tfn_candidates.keys())\n",
    "contrasts_total = contrasts.groupby(\"window_size\").mean()\n",
    "\n",
    "plt.figure(figsize=(7, 7))\n",
    "for stat in tfn_candidates.keys():\n",
    "    plt.plot(contrasts_total.index/samprate,\n",
    "             np.abs(contrasts_total[stat]),\n",
    "             label = f\"{stat} Contrast\", alpha = 1)\n",
    "\n",
    "plt.title(\"Event Region Contrast vs. Detection Window\")\n",
    "plt.xlabel(\"Window Length (s)\")    \n",
    "plt.ylabel(\"Contrast (t Test Statistic)\")  \n",
    "opt_det_window = contrasts_total.index[np.argmax(np.abs(contrasts_total[\"Zero Crossings\"]))]/samprate\n",
    "opt_det_window_val = np.max(np.abs(contrasts_total[\"Zero Crossings\"]))\n",
    "plt.vlines(opt_det_window, 0, opt_det_window_val,\"r\", \":\", \n",
    "           label=f\"Optimal Point ({round(opt_det_window, 2)}, {round(opt_det_window_val, 2)})\")\n",
    "plt.hlines(opt_det_window_val, 0, opt_det_window,\"r\", \":\")\n",
    "plt.legend(loc=\"upper right\")\n",
    "plt.savefig(OUT_PATH+\"contrast.png\")"
   ]
  },
  {
   "cell_type": "markdown",
   "metadata": {},
   "source": [
    "#### Threshold Optimisation"
   ]
  },
  {
   "cell_type": "code",
   "execution_count": 12,
   "metadata": {
    "code_folding": [
     4
    ],
    "tags": [
     "hide-input"
    ]
   },
   "outputs": [
    {
     "name": "stdout",
     "output_type": "stream",
     "text": [
      "0.09999999999999999 0.7596153846153846\n",
      "0.2 0.957345971563981\n",
      "0.3 0.9859154929577465\n",
      "0.4 0.9674418604651163\n",
      "0.5 0.9493087557603687\n",
      "0.6 0.9483568075117371\n",
      "0.7000000000000001 0.9295774647887324\n",
      "0.8 0.8909952606635071\n",
      "0.9 0.7830188679245284\n",
      "1.0 0.5625\n"
     ]
    }
   ],
   "source": [
    "calibration_window_sec = 5\n",
    "\n",
    "st_list = []\n",
    "f_score_list = []\n",
    "for st_scale in np.linspace(0.01, 1, 100):\n",
    "    fps, fns, tps, i = 0, 0, 0, 0\n",
    "    for key in waves.keys():\n",
    "        predictions, predictions_timestamps = streaming_classifier(\n",
    "            waves[key],\n",
    "            samprate,\n",
    "            lambda x,y: \"R\" if np.random.rand()<0.5 else \"L\",\n",
    "            input_buffer_size_sec = 0.05,\n",
    "            classification_window_size_sec = opt_det_window,\n",
    "            detection_window_size_sec = opt_det_window,\n",
    "            detection_window_offset_sec = 0,\n",
    "            calibration_window_size_sec = 5,\n",
    "            calibration_statistic_function = lambda x: ts_zero_crossings(x)/len(x),\n",
    "            event_test_statistic_function = lambda x: ts_zero_crossings(x)/len(x), \n",
    "            event_threshold_factor = st_scale, \n",
    "            flip_threshold = True, \n",
    "            consecutive_event_triggers = 3, \n",
    "            consecutive_nonevent_reset = 10 \n",
    "        )\n",
    "        before_buffer = time_buffers_hump[key][0]\n",
    "        after_buffer = time_buffers_hump[key][1]\n",
    "        actual_times = [(time-before_buffer, time+after_buffer) for time in labels[key].time]\n",
    "        actual_leftovers = deepcopy(actual_times)\n",
    "        pred_leftovers = deepcopy(predictions_timestamps)\n",
    "        tps += len(actual_times)\n",
    "        for act_times in actual_times:\n",
    "            if act_times[1] < calibration_window_sec:\n",
    "                actual_leftovers.remove(act_times)\n",
    "                continue\n",
    "            for pred_times in predictions_timestamps:\n",
    "                if (act_times[0] < pred_times[1] and act_times[1] > pred_times[0] and\n",
    "                    pred_times in pred_leftovers and act_times in actual_leftovers):\n",
    "                    actual_leftovers.remove(act_times)\n",
    "                    pred_leftovers.remove(pred_times)\n",
    "        tps -= len(actual_leftovers)\n",
    "        fns += len(actual_leftovers)\n",
    "        fps += len(pred_leftovers)\n",
    "        i += 1\n",
    "    fscore = tps/(tps+0.5*(fns+fps))\n",
    "    if (st_scale*100)%10 == 0:\n",
    "        print(st_scale, fscore)\n",
    "    st_list.append(st_scale)\n",
    "    f_score_list.append(fscore)\n"
   ]
  },
  {
   "cell_type": "code",
   "execution_count": 13,
   "metadata": {
    "tags": [
     "hide-input"
    ]
   },
   "outputs": [
    {
     "data": {
      "image/png": "[encoded data removed]",
      "text/plain": [
       "<Figure size 504x504 with 1 Axes>"
      ]
     },
     "metadata": {
      "needs_background": "light"
     },
     "output_type": "display_data"
    }
   ],
   "source": [
    "plt.figure(figsize=(7, 7))\n",
    "plt.plot(st_list, f_score_list)\n",
    "plt.title(\"F-Score vs. Threshold Factor\\n(Zero Crossings Calibration Statistic)\")\n",
    "st_list = np.array(st_list)\n",
    "opt_thresh = np.mean(st_list[f_score_list == np.max(f_score_list)])\n",
    "opt_fscore = np.max(f_score_list)\n",
    "plt.vlines(opt_thresh, 0, opt_fscore, \"r\", \":\", \n",
    "           label=f\"Optimal Point ({round(opt_thresh, 2)}, {round(opt_fscore, 2)})\")\n",
    "plt.hlines(opt_fscore, 0, opt_thresh, \"r\", \":\")\n",
    "plt.xlabel(\"Threshold Factor\")\n",
    "plt.ylabel(\"F-Score\")\n",
    "plt.legend(loc = \"lower right\")\n",
    "plt.savefig(OUT_PATH+\"threshold.png\")"
   ]
  },
  {
   "cell_type": "markdown",
   "metadata": {},
   "source": [
    "### Classification"
   ]
  },
  {
   "cell_type": "markdown",
   "metadata": {},
   "source": [
    "#### Classifiers"
   ]
  },
  {
   "cell_type": "code",
   "execution_count": 14,
   "metadata": {
    "code_folding": [
     15,
     52,
     101
    ],
    "tags": [
     "hide-input"
    ]
   },
   "outputs": [],
   "source": [
    "# Prepare Classifier Candidates\n",
    "\n",
    "# catch22 kNN classifier (using stepwise selected features)\n",
    "step_csv = DEP_PATH+\"catch22_step_selected_features.csv\"\n",
    "catch22_step_training_data = pd.read_csv(step_csv)\n",
    "X_train = catch22_step_training_data.iloc[:,0:-1]\n",
    "y_labels = catch22_step_training_data.iloc[:,-1]   \n",
    "neigh = KNeighborsClassifier(n_neighbors=5)\n",
    "neigh.fit(X_train, y_labels)\n",
    "\n",
    "# \"Zeros\" classifier\n",
    "# returns a list of sub-arrays, grouped by the same consecutive value\n",
    "# (in this case they are groups of consecutive 1s or -1s) \n",
    "\n",
    "@njit # numba decorator that performs just-in-time (jit) compilation\n",
    "def consecutive(data, stepsize=0):                              \n",
    "    return np.split(data, np.where(np.diff(data) != stepsize)[0]+1)\n",
    "\n",
    "# looks for the first sequence where the sign doesn't change for a period of time,\n",
    "# checks whether the average height is higher or lower than a threshold then classifies\n",
    "@njit \n",
    "def zeroes_classifier(arr, samprate, downsample_rate=10, ave_height = 10, consec_seconds = 0.2):\n",
    "    arr_ds = arr[0::downsample_rate]\n",
    "    arr_sign = np.sign(arr_ds)            \n",
    "    i = 0\n",
    "    split_arrays = consecutive(arr_sign)  \n",
    "    for sub_arr in split_arrays:\n",
    "        if len(sub_arr) > consec_seconds * samprate / downsample_rate:  # RHS converts seconds to number of samples\n",
    "            # if there were 'consec_seconds' seconds of no zero-crossings,\n",
    "            # check if the average height is bigger than 'ave_height'\n",
    "            if np.mean(arr_ds[i:(i + len(sub_arr) - 1)]) > ave_height:          \n",
    "                return 'R'\n",
    "            elif np.mean(arr_ds[i:(i + len(sub_arr) - 1)]) < -1 * ave_height:\n",
    "                return 'L'\n",
    "        i += len(sub_arr)\n",
    "    return '_'   \n",
    "\n",
    "# calculates the 5 features selected from catch22, find the 5 nearest neighbours \n",
    "# calculated using Euclidean distance, then selects the majority classification\n",
    "def catch22_knn_classifier(arr, samprate, downsample_rate=10):\n",
    "    arr_ds = arr[0::downsample_rate]\n",
    "    arr_list = arr_ds.tolist()\n",
    "    feature_one = catch22.DN_HistogramMode_5(arr_list)\n",
    "    feature_two = catch22.SB_BinaryStats_mean_longstretch1(arr_list)\n",
    "    feature_three = catch22.FC_LocalSimple_mean1_tauresrat(arr_list)\n",
    "    feature_four = catch22.DN_OutlierInclude_p_001_mdrmd(arr_list)\n",
    "    feature_five = catch22.SP_Summaries_welch_rect_area_5_1(arr_list)\n",
    "    test_features = [[feature_one, feature_two, feature_three, feature_four, feature_five]]\n",
    "    return neigh.predict(test_features)[0]                    \n",
    "\n",
    "# wave is smoothed using Savitzky-Golay Filter, then decides whether the event is\n",
    "# a left or right depending on whether the first turning point is a max or min\n",
    "def one_pronged_smoothing_classifier(arr, samprate, downsample_rate=10, window_size_seconds=0.3, max_loops=10):\n",
    "    arr_ds = arr[0::downsample_rate]\n",
    "    fs = samprate/downsample_rate\n",
    "    dt = 1/fs\n",
    "    t = np.arange(0, (len(arr_ds)*dt), dt)\n",
    "\n",
    "    # Smooth wave\n",
    "    window_length = int(window_size_seconds*samprate/downsample_rate + 1)\n",
    "    filtered_arr = signal.savgol_filter(arr_ds, window_length, 1)\n",
    "\n",
    "    # Indices of positive maxima\n",
    "    max_locs = np.array(signal.argrelextrema(filtered_arr, np.greater)[0])\n",
    "    max_vals = filtered_arr[max_locs]\n",
    "    max_locs = max_locs[max_vals > 0]\n",
    "    \n",
    "    # Indices of negative minima\n",
    "    min_locs = np.array(signal.argrelextrema(filtered_arr, np.less)[0])\n",
    "    min_vals = filtered_arr[min_locs]\n",
    "    min_locs = min_locs[min_vals < 0]\n",
    "    \n",
    "    max_min_locs = np.append(max_locs, min_locs)    # Appended indices\n",
    "    max_min_values = filtered_arr[max_min_locs]     # Values of above indices    \n",
    "    abs_max_min_values = np.abs(max_min_values)     # Absolute value of those values\n",
    "\n",
    "    # A vector with a length equal to the number of minimums: all '-1' to say minimum\n",
    "    numMin = [-1]*len(min_locs)    \n",
    "    numMax = [1]*len(max_locs)     # Same for max, but with '1'\n",
    "    isMin = np.append(numMax, numMin)\n",
    "    val_and_idx = np.vstack([abs_max_min_values, max_min_locs, isMin])\n",
    "    # Sort the magnitudes of the extrema in descending order (-1 indicates descending)\n",
    "    val_and_idx_sorted = val_and_idx[ :, (-1*val_and_idx[0]).argsort()]\n",
    "\n",
    "    if val_and_idx_sorted.shape == (3, 0):\n",
    "        if val_and_idx_sorted[2] == -1:\n",
    "            return 'L'\n",
    "        elif val_and_idx_sorted[2] == 1:\n",
    "            return 'R'\n",
    "        else:\n",
    "            return \"_\"\n",
    "    else:\n",
    "        if val_and_idx_sorted[2, 0] == -1:\n",
    "            return 'L'\n",
    "        elif val_and_idx_sorted[2, 0] == 1:\n",
    "            return 'R'\n",
    "        else:\n",
    "            return \"_\"\n",
    "\n",
    "# wave is smoothed using Savitzky-Golay Filter, then decides whether the event is\n",
    "# a left or right depending on the order of the maximum and minimum turning points\n",
    "def two_pronged_smoothing_classifier(arr, samprate, downsample_rate=10, \n",
    "                                       window_size_seconds=0.3, max_loops=10):\n",
    "    arr_ds = arr[0::downsample_rate]\n",
    "    fs = samprate/downsample_rate\n",
    "    dt = 1/fs\n",
    "    t = np.arange(0, (len(arr_ds)*dt), dt)\n",
    "\n",
    "    # Smooth wave\n",
    "    window_length = int(window_size_seconds*samprate/downsample_rate + 1)\n",
    "    filtered_arr = signal.savgol_filter(arr_ds, window_length, 1)\n",
    "\n",
    "    # Indices of positive maxima\n",
    "    max_locs = np.array(signal.argrelextrema(filtered_arr, np.greater)[0])\n",
    "    max_vals = filtered_arr[max_locs]\n",
    "    max_locs = max_locs[max_vals > 0]\n",
    "    \n",
    "    # Indices of negative minima\n",
    "    min_locs = np.array(signal.argrelextrema(filtered_arr, np.less)[0])\n",
    "    min_vals = filtered_arr[min_locs]\n",
    "    min_locs = min_locs[min_vals < 0]\n",
    "    \n",
    "    max_min_locs = np.append(max_locs, min_locs)    # Appended indices\n",
    "    max_min_values = filtered_arr[max_min_locs]     # Values of above indices    \n",
    "    abs_max_min_values = np.abs(max_min_values)     # Absolute value of those values\n",
    "\n",
    "    # A vector with a length equal to the number of minimums: all '-1' to say minimum\n",
    "    numMin = [-1]*len(min_locs)    \n",
    "    numMax = [1]*len(max_locs)     # Same for max, but with '1'\n",
    "    isMin = np.append(numMax, numMin)\n",
    "    val_and_idx = np.vstack([abs_max_min_values, max_min_locs, isMin])\n",
    "    # Sort the magnitudes of the extrema in descending order (-1 indicates descending)\n",
    "    val_and_idx_sorted = val_and_idx[ :, (-1*val_and_idx[0]).argsort()]\n",
    "    \n",
    "    # We will continue looping until we have an appropriate classification. \n",
    "    # This relies on having the extrema INTERCHANGE between max and min (no two min right next to eachother)\n",
    "    loops = 0\n",
    "    classificationFound = False\n",
    "    while not classificationFound and loops < max_loops:\n",
    "        \n",
    "        top_2 = val_and_idx_sorted[:, 0:2]             # Take the top two magnitudes\n",
    "        top_2_sorted = top_2[ :, top_2[1].argsort()]   # Sort according to the indices of those values\n",
    "        if top_2_sorted.shape != (3, 2):               # Break if we run out of turning points\n",
    "            return \"_\"\n",
    "        \n",
    "        # If two min or two max occur one after the other, \n",
    "        # we know we have an inappropriate result so we delete one of those doubled min/max\n",
    "        if top_2_sorted[2, 0]*top_2_sorted[2, 1] > 0:\n",
    "            val_and_idx_sorted = np.delete(val_and_idx_sorted, 1, 1)\n",
    "        else:\n",
    "            classificationFound = True\n",
    "        loops += 1\n",
    "    if top_2_sorted[2, 0] == -1:\n",
    "        return 'L'\n",
    "    elif top_2_sorted[2, 0] == 1:\n",
    "        return 'R'\n",
    "    else:\n",
    "        return \"_\"\n",
    "\n",
    "# finds the index of the max and min values in the wave, then classifies\n",
    "# based on whether the max or min value occurred first\n",
    "def max_min_classifier(arr, samprate, downsample_rate=10):\n",
    "    arr_ds = arr[0::downsample_rate]\n",
    "    arr_max = np.amax(arr_ds)\n",
    "    arr_min = np.amin(arr_ds)\n",
    "    max_loc = np.where(arr_ds == arr_max)[0][0]\n",
    "    min_loc = np.where(arr_ds == arr_min)[0][0]\n",
    "    if max_loc > min_loc:\n",
    "        return \"R\"\n",
    "    elif min_loc > max_loc:\n",
    "        return \"L\"\n",
    "    else:\n",
    "        return \"_\"\n",
    "\n",
    "# finds the index of the max and min values in the wave, then checks whether both\n",
    "# values are outside the range. If both are outside, then classification is based\n",
    "# on whether max or min value occurred first. Else, if only one is outside, then\n",
    "# classification is based on whether the max or min's magnitude is larger\n",
    "def max_min_range_classifier(arr, samprate, downsample_rate=10, rng = 35):\n",
    "    arr_ds = arr[0::downsample_rate]\n",
    "    arr_max = np.amax(arr_ds)\n",
    "    arr_min = np.amin(arr_ds)\n",
    "    max_loc = np.where(arr_ds == arr_max)[0][0]\n",
    "    min_loc = np.where(arr_ds == arr_min)[0][0]\n",
    "\n",
    "    if arr_max > rng and arr_min < -1 * rng:\n",
    "        if max_loc > min_loc:\n",
    "            return \"R\"\n",
    "        elif min_loc > max_loc:\n",
    "            return \"L\"\n",
    "        else:\n",
    "            return \"_\"\n",
    "    elif arr_max > rng:\n",
    "        return \"R\"\n",
    "    elif arr_min < -1 * rng:\n",
    "        return \"L\"\n",
    "    else:\n",
    "        return \"_\"\n"
   ]
  },
  {
   "cell_type": "code",
   "execution_count": 15,
   "metadata": {
    "code_folding": [
     10,
     19
    ],
    "tags": [
     "hide-input"
    ]
   },
   "outputs": [],
   "source": [
    "# Prepare classifiers for optimisation and plotting\n",
    "classifiers = {\"One-pronged\": one_pronged_smoothing_classifier,\n",
    "               \"Two-pronged\": two_pronged_smoothing_classifier,\n",
    "               \"Max-Min\": max_min_classifier,\n",
    "               \"Max-Min-Range\": max_min_range_classifier,\n",
    "               \"Zeros\": zeroes_classifier,\n",
    "               \"KNN\": catch22_knn_classifier,\n",
    "               \"Naive Random\": lambda x,y: \"R\" if np.random.rand()<0.5 else \"L\",\n",
    "               \"Naive Undecided\": lambda x,y: \"_\"}\n",
    "\n",
    "classifier_parameters = {\"One-pronged\": {},\n",
    "               \"Two-pronged\": {},\n",
    "               \"Max-Min\": {},\n",
    "               \"Max-Min-Range\": {\"rng\":35},\n",
    "               \"Zeros\": {\"consec_seconds\": 0.2, \"ave_height\": 0.25},\n",
    "               \"KNN\": {},\n",
    "               \"Naive Random\": {},\n",
    "               \"Naive Undecided\": {}}\n",
    "\n",
    "classifier_colours = {\"One-pronged\": \"tab:blue\",\n",
    "               \"Two-pronged\": \"tab:cyan\",\n",
    "               \"Max-Min\": \"tab:olive\",\n",
    "               \"Max-Min-Range\": \"tab:brown\",\n",
    "               \"Zeros\": \"tab:purple\",\n",
    "               \"KNN\": \"tab:pink\",\n",
    "               \"Naive Random\": \"tab:red\",\n",
    "               \"Naive Undecided\": \"tab:orange\"}\n"
   ]
  },
  {
   "cell_type": "markdown",
   "metadata": {},
   "source": [
    "#### Accuracy Metric"
   ]
  },
  {
   "cell_type": "code",
   "execution_count": 16,
   "metadata": {
    "code_folding": [
     0
    ],
    "tags": [
     "hide-input"
    ]
   },
   "outputs": [],
   "source": [
    "def my_lev_dist(prediction, actual, L_cost = 1.25, R_cost = 1.25, under_score_cost = 0.5):\n",
    "    substitute_costs = np.ones((128, 128), dtype=np.float64)  \n",
    "    substitute_costs[ord('L'), ord('R')] = L_cost\n",
    "    substitute_costs[ord('R'), ord('L')] = R_cost\n",
    "    substitute_costs[ord('_'), ord('L')] = under_score_cost\n",
    "    substitute_costs[ord('_'), ord('R')] = under_score_cost\n",
    "    return lev(prediction, actual, substitute_costs = substitute_costs)\n"
   ]
  },
  {
   "cell_type": "markdown",
   "metadata": {},
   "source": [
    "#### Classifier Optimisation"
   ]
  },
  {
   "cell_type": "code",
   "execution_count": 17,
   "metadata": {
    "code_folding": [],
    "tags": [
     "hide-input",
     "hide-output"
    ]
   },
   "outputs": [
    {
     "name": "stdout",
     "output_type": "stream",
     "text": [
      "One-pronged\n",
      "0 of 200\n"
     ]
    },
    {
     "name": "stderr",
     "output_type": "stream",
     "text": [
      "<ipython-input-14-f350c6c0198c>:82: DeprecationWarning: The truth value of an empty array is ambiguous. Returning False, but in future this will result in an error. Use `array.size > 0` to check that an array is not empty.\n",
      "  if val_and_idx_sorted[2] == -1:\n",
      "<ipython-input-14-f350c6c0198c>:84: DeprecationWarning: The truth value of an empty array is ambiguous. Returning False, but in future this will result in an error. Use `array.size > 0` to check that an array is not empty.\n",
      "  elif val_and_idx_sorted[2] == 1:\n"
     ]
    },
    {
     "name": "stdout",
     "output_type": "stream",
     "text": [
      "20 of 200\n",
      "40 of 200\n",
      "60 of 200\n",
      "80 of 200\n",
      "100 of 200\n",
      "120 of 200\n",
      "140 of 200\n",
      "160 of 200\n",
      "180 of 200\n",
      "Two-pronged\n",
      "0 of 200\n",
      "20 of 200\n",
      "40 of 200\n",
      "60 of 200\n",
      "80 of 200\n",
      "100 of 200\n",
      "120 of 200\n",
      "140 of 200\n",
      "160 of 200\n",
      "180 of 200\n",
      "Max-Min\n",
      "0 of 200\n",
      "20 of 200\n",
      "40 of 200\n",
      "60 of 200\n",
      "80 of 200\n",
      "100 of 200\n",
      "120 of 200\n",
      "140 of 200\n",
      "160 of 200\n",
      "180 of 200\n",
      "Max-Min-Range\n",
      "0 of 200\n",
      "20 of 200\n",
      "40 of 200\n",
      "60 of 200\n",
      "80 of 200\n",
      "100 of 200\n",
      "120 of 200\n",
      "140 of 200\n",
      "160 of 200\n",
      "180 of 200\n",
      "Zeros\n",
      "0 of 200\n",
      "20 of 200\n",
      "40 of 200\n",
      "60 of 200\n",
      "80 of 200\n",
      "100 of 200\n",
      "120 of 200\n",
      "140 of 200\n",
      "160 of 200\n",
      "180 of 200\n",
      "KNN\n",
      "0 of 200\n",
      "20 of 200\n",
      "40 of 200\n",
      "60 of 200\n",
      "80 of 200\n",
      "100 of 200\n",
      "120 of 200\n",
      "140 of 200\n",
      "160 of 200\n",
      "180 of 200\n",
      "Naive Random\n",
      "0 of 200\n",
      "20 of 200\n",
      "40 of 200\n",
      "60 of 200\n",
      "80 of 200\n",
      "100 of 200\n",
      "120 of 200\n",
      "140 of 200\n",
      "160 of 200\n",
      "180 of 200\n",
      "Naive Undecided\n",
      "0 of 200\n",
      "20 of 200\n",
      "40 of 200\n",
      "60 of 200\n",
      "80 of 200\n",
      "100 of 200\n",
      "120 of 200\n",
      "140 of 200\n",
      "160 of 200\n",
      "180 of 200\n"
     ]
    }
   ],
   "source": [
    "output_filename_cls_opt = OUT_PATH + \"classifier_optimisation.csv\"\n",
    "open(output_filename_cls_opt, 'w').close()    # Clear the file\n",
    "\n",
    "search_space = (2-opt_det_window)/2\n",
    "granularity = 200\n",
    "\n",
    "for classifier_label, classifier in classifiers.items():\n",
    "    print(classifier_label)\n",
    "    for i, w in enumerate(np.linspace(0, search_space, granularity)):\n",
    "        w = max(1e-5, w)\n",
    "        if i%(granularity//10) == 0:\n",
    "            print(f\"{i} of {granularity}\")\n",
    "        classification_window = opt_det_window+2*w\n",
    "        buffer_size = 0.05\n",
    "        for i, key in enumerate(waves):\n",
    "            predictions, predictions_timestamps = streaming_classifier(\n",
    "                waves[key],\n",
    "                samprate,\n",
    "                classifier,\n",
    "                classifier_params=classifier_parameters[classifier_label],\n",
    "                input_buffer_size_sec = buffer_size,\n",
    "                classification_window_size_sec = classification_window,\n",
    "                detection_window_size_sec = opt_det_window,\n",
    "                detection_window_offset_sec = w,\n",
    "                calibration_window_size_sec = 5,\n",
    "                calibration_statistic_function = lambda x: ts_zero_crossings(x)/len(x),\n",
    "                event_test_statistic_function = lambda x: ts_zero_crossings(x)/len(x), \n",
    "                event_threshold_factor = opt_thresh, \n",
    "                flip_threshold = True, # Threshold is a lower bound, so true\n",
    "                consecutive_event_triggers = 3, \n",
    "                consecutive_nonevent_reset = 10 \n",
    "            )\n",
    "            actuals = \"\".join(labels[key].label)\n",
    "            lev_dist = my_lev_dist(predictions, actuals)\n",
    "            acc = max((len(actuals) - lev_dist), 0)/len(actuals)\n",
    "            with open(output_filename_cls_opt, \"a\") as file:\n",
    "                file.write(\",\".join([classifier_label, str(classification_window), \n",
    "                                     key, predictions, actuals, str(lev_dist), str(acc)]) + '\\n')\n"
   ]
  },
  {
   "cell_type": "code",
   "execution_count": 18,
   "metadata": {
    "tags": [
     "hide-input"
    ]
   },
   "outputs": [
    {
     "data": {
      "text/html": [
       "<div>\n",
       "<style scoped>\n",
       "    .dataframe tbody tr th:only-of-type {\n",
       "        vertical-align: middle;\n",
       "    }\n",
       "\n",
       "    .dataframe tbody tr th {\n",
       "        vertical-align: top;\n",
       "    }\n",
       "\n",
       "    .dataframe thead th {\n",
       "        text-align: right;\n",
       "    }\n",
       "</style>\n",
       "<table border=\"1\" class=\"dataframe\">\n",
       "  <thead>\n",
       "    <tr style=\"text-align: right;\">\n",
       "      <th></th>\n",
       "      <th>window_size</th>\n",
       "      <th>classifier</th>\n",
       "      <th>lev_dist</th>\n",
       "      <th>accuracy</th>\n",
       "    </tr>\n",
       "  </thead>\n",
       "  <tbody>\n",
       "    <tr>\n",
       "      <th>0</th>\n",
       "      <td>0.35002</td>\n",
       "      <td>KNN</td>\n",
       "      <td>8.875000</td>\n",
       "      <td>0.506063</td>\n",
       "    </tr>\n",
       "    <tr>\n",
       "      <th>1</th>\n",
       "      <td>0.35002</td>\n",
       "      <td>Max-Min</td>\n",
       "      <td>5.916667</td>\n",
       "      <td>0.655378</td>\n",
       "    </tr>\n",
       "    <tr>\n",
       "      <th>2</th>\n",
       "      <td>0.35002</td>\n",
       "      <td>Max-Min-Range</td>\n",
       "      <td>0.541667</td>\n",
       "      <td>0.967249</td>\n",
       "    </tr>\n",
       "    <tr>\n",
       "      <th>3</th>\n",
       "      <td>0.35002</td>\n",
       "      <td>Naive Random</td>\n",
       "      <td>6.916667</td>\n",
       "      <td>0.623820</td>\n",
       "    </tr>\n",
       "    <tr>\n",
       "      <th>4</th>\n",
       "      <td>0.35002</td>\n",
       "      <td>Naive Undecided</td>\n",
       "      <td>9.083333</td>\n",
       "      <td>0.476307</td>\n",
       "    </tr>\n",
       "    <tr>\n",
       "      <th>...</th>\n",
       "      <td>...</td>\n",
       "      <td>...</td>\n",
       "      <td>...</td>\n",
       "      <td>...</td>\n",
       "    </tr>\n",
       "    <tr>\n",
       "      <th>1595</th>\n",
       "      <td>2.00000</td>\n",
       "      <td>Naive Random</td>\n",
       "      <td>7.375000</td>\n",
       "      <td>0.567870</td>\n",
       "    </tr>\n",
       "    <tr>\n",
       "      <th>1596</th>\n",
       "      <td>2.00000</td>\n",
       "      <td>Naive Undecided</td>\n",
       "      <td>9.083333</td>\n",
       "      <td>0.478700</td>\n",
       "    </tr>\n",
       "    <tr>\n",
       "      <th>1597</th>\n",
       "      <td>2.00000</td>\n",
       "      <td>One-pronged</td>\n",
       "      <td>2.916667</td>\n",
       "      <td>0.817296</td>\n",
       "    </tr>\n",
       "    <tr>\n",
       "      <th>1598</th>\n",
       "      <td>2.00000</td>\n",
       "      <td>Two-pronged</td>\n",
       "      <td>8.750000</td>\n",
       "      <td>0.491019</td>\n",
       "    </tr>\n",
       "    <tr>\n",
       "      <th>1599</th>\n",
       "      <td>2.00000</td>\n",
       "      <td>Zeros</td>\n",
       "      <td>8.750000</td>\n",
       "      <td>0.491019</td>\n",
       "    </tr>\n",
       "  </tbody>\n",
       "</table>\n",
       "<p>1600 rows × 4 columns</p>\n",
       "</div>"
      ],
      "text/plain": [
       "      window_size       classifier  lev_dist  accuracy\n",
       "0         0.35002              KNN  8.875000  0.506063\n",
       "1         0.35002          Max-Min  5.916667  0.655378\n",
       "2         0.35002    Max-Min-Range  0.541667  0.967249\n",
       "3         0.35002     Naive Random  6.916667  0.623820\n",
       "4         0.35002  Naive Undecided  9.083333  0.476307\n",
       "...           ...              ...       ...       ...\n",
       "1595      2.00000     Naive Random  7.375000  0.567870\n",
       "1596      2.00000  Naive Undecided  9.083333  0.478700\n",
       "1597      2.00000      One-pronged  2.916667  0.817296\n",
       "1598      2.00000      Two-pronged  8.750000  0.491019\n",
       "1599      2.00000            Zeros  8.750000  0.491019\n",
       "\n",
       "[1600 rows x 4 columns]"
      ]
     },
     "execution_count": 18,
     "metadata": {},
     "output_type": "execute_result"
    }
   ],
   "source": [
    "results = pd.read_csv(output_filename_cls_opt, header=None)\n",
    "results.columns = [\"classifier\", \"window_size\", \"file\", \"predicted\", \"actual\", \"lev_dist\", \"accuracy\"]\n",
    "results_agg = results.groupby([\"window_size\", \"classifier\"]).mean()\n",
    "results_agg.reset_index(inplace=True)\n",
    "results_agg"
   ]
  },
  {
   "cell_type": "code",
   "execution_count": 19,
   "metadata": {
    "code_folding": [
     3
    ],
    "tags": [
     "hide-input"
    ]
   },
   "outputs": [
    {
     "name": "stdout",
     "output_type": "stream",
     "text": [
      "1.7595477386934673 0.4787000439174353\n"
     ]
    },
    {
     "data": {
      "image/png": "[encoded data removed]",
      "text/plain": [
       "<Figure size 504x504 with 1 Axes>"
      ]
     },
     "metadata": {
      "needs_background": "light"
     },
     "output_type": "display_data"
    }
   ],
   "source": [
    "optimal_cl_windows = {}\n",
    "\n",
    "plt.figure(figsize=(7, 7))\n",
    "for classifier in results.classifier.unique():\n",
    "    filt = results_agg.classifier == classifier\n",
    "    max_arg = np.argmax(signal.savgol_filter(results_agg[filt].accuracy, 15, 1))\n",
    "    max_val = np.max(signal.savgol_filter(results_agg[filt].accuracy, 15, 1))\n",
    "    optimal_cl_window = np.array(results_agg[filt].window_size)[max_arg]\n",
    "    optimal_cl_windows[classifier] = optimal_cl_window\n",
    "    \n",
    "    plt.plot(results_agg[filt].window_size, signal.savgol_filter(results_agg[filt].accuracy, 15, 1),\n",
    "             label=classifier + f\" ({round(optimal_cl_window, 2)},{round(max_val, 2)})\", color=classifier_colours[classifier])\n",
    "    plt.vlines(optimal_cl_window, 0, max_val, color=classifier_colours[classifier], linestyle=\":\")\n",
    "    \n",
    "plt.ylabel(\"Weighted Levenshtein Accuracy\")\n",
    "plt.xlabel(\"Window Size (s)\")\n",
    "plt.title(\"Classifier Accuracy vs. Window Size\")\n",
    "plt.ylim(0, 1)\n",
    "\n",
    "plt.legend(loc=\"lower right\")\n",
    "print(optimal_cl_window, max_val)\n",
    "plt.savefig(OUT_PATH+\"classifier.png\")"
   ]
  },
  {
   "cell_type": "markdown",
   "metadata": {},
   "source": [
    "## Evaluation"
   ]
  },
  {
   "cell_type": "code",
   "execution_count": 20,
   "metadata": {
    "code_folding": [],
    "tags": [
     "hide-input"
    ]
   },
   "outputs": [
    {
     "name": "stdout",
     "output_type": "stream",
     "text": [
      "One-pronged\n",
      "Two-pronged\n",
      "Max-Min\n",
      "Max-Min-Range\n",
      "Zeros\n",
      "KNN\n",
      "Naive Random\n",
      "Naive Undecided\n"
     ]
    }
   ],
   "source": [
    "output_filename_tst_res = OUT_PATH + \"test_results.csv\"\n",
    "open(output_filename_tst_res, 'w').close()    # Clear the file\n",
    "\n",
    "for classifier_label, classifier in classifiers.items():\n",
    "    print(classifier_label)\n",
    "    offset = (optimal_cl_windows[classifier_label] - opt_det_window)/2\n",
    "    buffer_size = 0.05\n",
    "    for i, key in enumerate(test_waves):\n",
    "        predictions, predictions_timestamps = streaming_classifier(\n",
    "            test_waves[key],\n",
    "            samprate,\n",
    "            classifier,\n",
    "            classifier_params=classifier_parameters[classifier_label],\n",
    "            input_buffer_size_sec = buffer_size,\n",
    "            classification_window_size_sec = optimal_cl_windows[classifier_label],\n",
    "            detection_window_size_sec = opt_det_window,\n",
    "            detection_window_offset_sec = offset,\n",
    "            calibration_window_size_sec = 5,\n",
    "            calibration_statistic_function = lambda x: ts_zero_crossings(x)/len(x),\n",
    "            event_test_statistic_function = lambda x: ts_zero_crossings(x)/len(x), \n",
    "            event_threshold_factor = opt_thresh, \n",
    "            flip_threshold = True,\n",
    "            consecutive_event_triggers = 3, \n",
    "            consecutive_nonevent_reset = 10 \n",
    "        )\n",
    "        actuals = \"\".join(test_labels[key].label)\n",
    "        lev_dist = my_lev_dist(predictions, actuals)\n",
    "        acc = max((len(actuals) - lev_dist), 0)/len(actuals)\n",
    "        with open(output_filename_tst_res, \"a\") as file:\n",
    "            file.write(\",\".join([classifier_label, key, predictions, actuals, str(lev_dist), str(acc)]) + '\\n')\n"
   ]
  },
  {
   "cell_type": "code",
   "execution_count": 21,
   "metadata": {
    "tags": [
     "hide-input"
    ]
   },
   "outputs": [
    {
     "data": {
      "text/html": [
       "<div>\n",
       "<style scoped>\n",
       "    .dataframe tbody tr th:only-of-type {\n",
       "        vertical-align: middle;\n",
       "    }\n",
       "\n",
       "    .dataframe tbody tr th {\n",
       "        vertical-align: top;\n",
       "    }\n",
       "\n",
       "    .dataframe thead th {\n",
       "        text-align: right;\n",
       "    }\n",
       "</style>\n",
       "<table border=\"1\" class=\"dataframe\">\n",
       "  <thead>\n",
       "    <tr style=\"text-align: right;\">\n",
       "      <th>Classifier</th>\n",
       "      <th>KNN</th>\n",
       "      <th>Max-Min</th>\n",
       "      <th>Max-Min-Range</th>\n",
       "      <th>Naive Random</th>\n",
       "      <th>Naive Undecided</th>\n",
       "      <th>One-pronged</th>\n",
       "      <th>Two-pronged</th>\n",
       "      <th>Zeros</th>\n",
       "    </tr>\n",
       "    <tr>\n",
       "      <th>File</th>\n",
       "      <th></th>\n",
       "      <th></th>\n",
       "      <th></th>\n",
       "      <th></th>\n",
       "      <th></th>\n",
       "      <th></th>\n",
       "      <th></th>\n",
       "      <th></th>\n",
       "    </tr>\n",
       "  </thead>\n",
       "  <tbody>\n",
       "    <tr>\n",
       "      <th>data5</th>\n",
       "      <td>0.787037</td>\n",
       "      <td>0.925926</td>\n",
       "      <td>0.962963</td>\n",
       "      <td>0.592593</td>\n",
       "      <td>0.462963</td>\n",
       "      <td>0.925926</td>\n",
       "      <td>0.685185</td>\n",
       "      <td>0.888889</td>\n",
       "    </tr>\n",
       "    <tr>\n",
       "      <th>data7</th>\n",
       "      <td>0.750000</td>\n",
       "      <td>0.870968</td>\n",
       "      <td>0.838710</td>\n",
       "      <td>0.685484</td>\n",
       "      <td>0.435484</td>\n",
       "      <td>0.870968</td>\n",
       "      <td>0.669355</td>\n",
       "      <td>0.838710</td>\n",
       "    </tr>\n",
       "    <tr>\n",
       "      <th>Total</th>\n",
       "      <td>0.768519</td>\n",
       "      <td>0.898447</td>\n",
       "      <td>0.900836</td>\n",
       "      <td>0.639038</td>\n",
       "      <td>0.449223</td>\n",
       "      <td>0.898447</td>\n",
       "      <td>0.677270</td>\n",
       "      <td>0.863799</td>\n",
       "    </tr>\n",
       "  </tbody>\n",
       "</table>\n",
       "</div>"
      ],
      "text/plain": [
       "Classifier       KNN   Max-Min  Max-Min-Range  Naive Random  Naive Undecided  \\\n",
       "File                                                                           \n",
       "data5       0.787037  0.925926       0.962963      0.592593         0.462963   \n",
       "data7       0.750000  0.870968       0.838710      0.685484         0.435484   \n",
       "Total       0.768519  0.898447       0.900836      0.639038         0.449223   \n",
       "\n",
       "Classifier  One-pronged  Two-pronged     Zeros  \n",
       "File                                            \n",
       "data5          0.925926     0.685185  0.888889  \n",
       "data7          0.870968     0.669355  0.838710  \n",
       "Total          0.898447     0.677270  0.863799  "
      ]
     },
     "execution_count": 21,
     "metadata": {},
     "output_type": "execute_result"
    }
   ],
   "source": [
    "test_results = pd.read_csv(output_filename_tst_res, header=None)\n",
    "test_results.columns = [\"Classifier\", \"File\", \"Predicted\", \"Actual\", \"Weighted Levenshtein Distance\", \"Accuracy\"]\n",
    "\n",
    "test_results = test_results.pivot(index = \"File\", columns='Classifier', values='Accuracy')\n",
    "test_results.loc['Total']= test_results.mean()\n",
    "test_results"
   ]
  },
  {
   "cell_type": "markdown",
   "metadata": {},
   "source": [
    "## Space Invaders!"
   ]
  },
  {
   "cell_type": "code",
   "execution_count": 22,
   "metadata": {
    "code_folding": [
     0,
     3,
     6
    ],
    "tags": [
     "hide-input"
    ]
   },
   "outputs": [],
   "source": [
    "def encode_msg_size(size: int) -> bytes:\n",
    "    return struct.pack(\"<I\", size)\n",
    "\n",
    "def decode_msg_size(size_bytes: bytes) -> int:\n",
    "    return struct.unpack(\"<I\", size_bytes)[0]\n",
    "\n",
    "def create_msg(content: bytes) -> bytes:\n",
    "    size = len(content)\n",
    "    return encode_msg_size(size) + content\n"
   ]
  },
  {
   "cell_type": "markdown",
   "metadata": {},
   "source": [
    "## Appendix"
   ]
  },
  {
   "cell_type": "code",
   "execution_count": 23,
   "metadata": {
    "code_folding": [],
    "tags": [
     "hide-input"
    ]
   },
   "outputs": [],
   "source": [
    "# Final classifier used for Space Invaders\n",
    "baudrate = 230400\n",
    "cport = \"/dev/cu.usbserial-DJ00E33Q\"\n",
    "ser = serial.Serial(port=cport, baudrate=baudrate)    \n",
    "inputBufferSize = 1000   # 20000 = 1 second\n",
    "buffer_size_sec = inputBufferSize/20000.0\n",
    "ser.timeout = buffer_size_sec  # set read timeout 20000\n",
    "\n",
    "classifier_label = \"One-pronged\"\n",
    "\n",
    "print(classifier_label)\n",
    "offset = (optimal_cl_windows[classifier_label] - opt_det_window)/2\n",
    "buffer_size = 0.05\n",
    "streaming_classifier(\n",
    "    ser,\n",
    "    samprate,\n",
    "    classifiers[classifier_label],\n",
    "    classifier_params=classifier_parameters[classifier_label],\n",
    "    input_buffer_size_sec = buffer_size_sec,\n",
    "    classification_window_size_sec = optimal_cl_windows[classifier_label],\n",
    "    detection_window_size_sec = opt_det_window,\n",
    "    detection_window_offset_sec = offset,\n",
    "    calibration_window_size_sec = 5,\n",
    "    calibration_statistic_function = lambda x: ts_zero_crossings(x)/len(x),\n",
    "    event_test_statistic_function = lambda x: ts_zero_crossings(x)/len(x), \n",
    "    event_threshold_factor = opt_thresh, \n",
    "    flip_threshold = True, \n",
    "    consecutive_event_triggers = 3, \n",
    "    consecutive_nonevent_reset = 10,\n",
    "    live = True,\n",
    "    FIFO_filename = \"space_invaders_ipc\",\n",
    "    create_FIFO_msg = None,\n",
    "    )\n"
   ]
  },
  {
   "cell_type": "markdown",
   "metadata": {},
   "source": [
    "## References \n",
    "\n",
    "e.g {cite}`holdgraf_rapid_2016`"
   ]
  },
  {
   "cell_type": "markdown",
   "metadata": {},
   "source": [
    "```{bibliography}\n",
    "```"
   ]
  },
  {
   "cell_type": "markdown",
   "metadata": {},
   "source": [
    "http://blog.juliusschulz.de/blog/ultimate-ipython-notebook"
   ]
  }
 ],
 "metadata": {
  "celltoolbar": "Tags",
  "kernelspec": {
   "display_name": "Python 3",
   "language": "python",
   "name": "python3"
  },
  "language_info": {
   "codemirror_mode": {
    "name": "ipython",
    "version": 3
   },
   "file_extension": ".py",
   "mimetype": "text/x-python",
   "name": "python",
   "nbconvert_exporter": "python",
   "pygments_lexer": "ipython3",
   "version": "3.8.3"
  },
  "toc": {
   "base_numbering": 1,
   "nav_menu": {},
   "number_sections": true,
   "sideBar": true,
   "skip_h1_title": true,
   "title_cell": "Table of Contents",
   "title_sidebar": "Contents",
   "toc_cell": true,
   "toc_position": {
    "height": "calc(100% - 180px)",
    "left": "10px",
    "top": "150px",
    "width": "358.391px"
   },
   "toc_section_display": true,
   "toc_window_display": true
  }
 },
 "nbformat": 4,
 "nbformat_minor": 4
}
