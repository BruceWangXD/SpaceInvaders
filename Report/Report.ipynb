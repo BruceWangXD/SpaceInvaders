{
 "cells": [
  {
   "cell_type": "markdown",
   "metadata": {},
   "source": [
    "**Report**\n",
    "\n",
    "**Executive Summary / Abstract**\n",
    "\n",
    "*to write after the report is done*\n",
    "\n",
    "**Intro**\n",
    "\n",
    "- what we set out to achieve\n",
    "- motivation for project / relevance\n",
    "- state the main objectives\n",
    "\n",
    "\n",
    "The Backyard Brains Spikerbox allows for eye movement to be recorded, opening many new doors whether it be for gaming, education or opening more accessibility options for people with disabilities.\n",
    "\n",
    "*insert our group's motivation here*\n",
    "\n",
    "**Body**\n",
    "\n",
    "__Motivation__\n",
    "\n",
    "- where our motivation comes from\n",
    "- the survey we conducted\n",
    "\n",
    "__Experimental Design__\n",
    "\n",
    "__Implementation__\n",
    "\n",
    "__Optimisation__\n",
    "\n",
    "- detail the technical work\n",
    "- document any and all decisions we made during the project eg. speed vs accuracy, choice of classifier/event detection, parameter choices\n",
    "- relate to motivation of product\n",
    "- scaling for robustness or sd of standard noise to cater to specific individual playing the game\n",
    "- compare different classifiers, maybe latency, etc\n",
    "- Levenshtein distance, accuracy of left / right\n",
    "\n",
    "**Evaluation**\n",
    "\n",
    "- what has been achieved\n",
    "- limitations\n",
    "- quantitative and qualitative measures of success (eg. accuracy, visual design, speed, k-fold cross validation, game performance)\n",
    "- robustness, time performance, computational time\n",
    "- evaluation performance graph (string matching performance, Levenshtein distance)\n",
    "- some evaluation framework\n",
    "\n",
    "**Conclusion / Future Work**\n",
    "\n",
    "- limitations\n",
    "- what has been learnt\n",
    "- how project could be taken further eg. how to do it better, new directions for the project"
   ]
  },
  {
   "cell_type": "markdown",
   "metadata": {},
   "source": []
  },
  {
   "cell_type": "code",
   "execution_count": null,
   "metadata": {},
   "outputs": [],
   "source": []
  }
 ],
 "metadata": {
  "kernelspec": {
   "display_name": "Python 3",
   "language": "python",
   "name": "python3"
  },
  "language_info": {
   "codemirror_mode": {
    "name": "ipython",
    "version": 3
   },
   "file_extension": ".py",
   "mimetype": "text/x-python",
   "name": "python",
   "nbconvert_exporter": "python",
   "pygments_lexer": "ipython3",
   "version": "3.7.4"
  }
 },
 "nbformat": 4,
 "nbformat_minor": 2
}
